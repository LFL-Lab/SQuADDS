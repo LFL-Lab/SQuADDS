{
 "cells": [
  {
   "cell_type": "markdown",
   "metadata": {},
   "source": [
    "# Tutorial 2: Simulating Interpolated Designs\n",
    "\n",
    "In this tutorial we will learn how to simulate designs obtained from the SQuADDS Database. We will be using **Ansys HFSS** as the simulator backend in this tutorial.\n",
    "\n",
    "**Warning: This tutorial will not run on Mac OS since Ansys HFSS is not available on Mac**"
   ]
  },
  {
   "cell_type": "code",
   "execution_count": 1,
   "metadata": {},
   "outputs": [],
   "source": [
    "%load_ext autoreload\n",
    "%autoreload 2"
   ]
  },
  {
   "cell_type": "markdown",
   "metadata": {},
   "source": [
    "## Get Target Interpolated Design\n",
    "Find the best geometries for your desired Hamiltonian parameters the same way as in [Tutorial 1](https://lfl-lab.github.io/SQuADDS/source/tutorials/Tutorial-1_Getting_Started_with_SQuADDS.html#Making-Systems-out-of-Circuit-QED-Elements):"
   ]
  },
  {
   "cell_type": "code",
   "execution_count": 2,
   "metadata": {},
   "outputs": [
    {
     "name": "stdout",
     "output_type": "stream",
     "text": [
      "DotNet Core correctly loaded.\n"
     ]
    },
    {
     "data": {
      "application/vnd.jupyter.widget-view+json": {
       "model_id": "3dbc72c5270240d7b8a475318e90b0e4",
       "version_major": 2,
       "version_minor": 0
      },
      "text/plain": [
       "Downloading readme:   0%|          | 0.00/2.25k [00:00<?, ?B/s]"
      ]
     },
     "metadata": {},
     "output_type": "display_data"
    },
    {
     "data": {
      "application/vnd.jupyter.widget-view+json": {
       "model_id": "5d9b44e6e7224872aa28c5dc4caa779a",
       "version_major": 2,
       "version_minor": 0
      },
      "text/plain": [
       "Downloading data files:   0%|          | 0/1 [00:00<?, ?it/s]"
      ]
     },
     "metadata": {},
     "output_type": "display_data"
    },
    {
     "data": {
      "application/vnd.jupyter.widget-view+json": {
       "model_id": "bad8161c1cca43bb851b1f4e419a2ef5",
       "version_major": 2,
       "version_minor": 0
      },
      "text/plain": [
       "Extracting data files:   0%|          | 0/1 [00:00<?, ?it/s]"
      ]
     },
     "metadata": {},
     "output_type": "display_data"
    },
    {
     "data": {
      "application/vnd.jupyter.widget-view+json": {
       "model_id": "0685e403985c45d99fbde99ed79b2601",
       "version_major": 2,
       "version_minor": 0
      },
      "text/plain": [
       "Generating train split: 0 examples [00:00, ? examples/s]"
      ]
     },
     "metadata": {},
     "output_type": "display_data"
    }
   ],
   "source": [
    "from squadds import SQuADDS_DB\n",
    "\n",
    "db = SQuADDS_DB()\n",
    "db.select_system(\"qubit\")\n",
    "db.select_qubit(\"TransmonCross\")\n",
    "df = db.create_system_df()\n",
    "# df"
   ]
  },
  {
   "cell_type": "code",
   "execution_count": null,
   "metadata": {},
   "outputs": [],
   "source": [
    "from squadds import Analyzer\n",
    "analyzer = Analyzer(db)\n",
    "\n",
    "target_params={\"qubit_frequency_GHz\": 4, \"anharmonicity_MHz\": -200}\n",
    "\n",
    "results = analyzer.find_closest(target_params=target_params,\n",
    "                                       num_top=3,\n",
    "                                       metric=\"Euclidean\",\n",
    "                                       display=True)\n",
    "results"
   ]
  },
  {
   "cell_type": "code",
   "execution_count": null,
   "metadata": {},
   "outputs": [],
   "source": [
    "best_device = results.iloc[0]\n",
    "best_device"
   ]
  },
  {
   "cell_type": "code",
   "execution_count": null,
   "metadata": {},
   "outputs": [],
   "source": [
    "best_device_design = {'cavity_claw_options': {'coupler_type': 'CapNInterdigitalTee',\n",
    "  'coupler_options': {'cap_distance': '50.9um',\n",
    "   'cap_gap': '5um',\n",
    "   'cap_gap_ground': '5.1um',\n",
    "   'cap_width': '10um',\n",
    "   'coupling_length': None,\n",
    "   'coupling_space': None,\n",
    "   'down_length': None,\n",
    "   'finger_count': '5',\n",
    "   'finger_length': '30um',\n",
    "   'open_termination': None,\n",
    "   'orientation': '-90',\n",
    "   'prime_gap': '5.1um',\n",
    "   'prime_width': '11.7um',\n",
    "   'second_gap': '5.1um',\n",
    "   'second_width': '11.7um'},\n",
    "  'cpw_opts': {'left_options': {'fillet': '49.9um',\n",
    "    'lead': {'end_straight': '50um',\n",
    "     'start_jogged_extension': None,\n",
    "     'start_straight': '100um'},\n",
    "    'meander': {'asymmetry': None, 'spacing': '100um'},\n",
    "    'pin_inputs': {'end_pin': {'component': 'claw', 'pin': 'readout'},\n",
    "     'start_pin': {'component': 'cplr', 'pin': 'second_end'}},\n",
    "    'total_length': '8700um',\n",
    "    'trace_gap': '5.1um',\n",
    "    'trace_width': '11.7um'}}},\n",
    " 'qubit_options': {'aedt_hfss_capacitance': 0,\n",
    "  'aedt_hfss_inductance': 9.686e-09,\n",
    "  'aedt_q3d_capacitance': 0,\n",
    "  'aedt_q3d_inductance': 1e-08,\n",
    "  'chip': 'main',\n",
    "  'connection_pads': {'readout': {'claw_cpw_length': '40um',\n",
    "    'claw_cpw_width': '10um',\n",
    "    'claw_gap': '5.1um',\n",
    "    'claw_length': '190um',\n",
    "    'claw_width': '15um',\n",
    "    'connector_location': '90',\n",
    "    'connector_type': '0',\n",
    "    'ground_spacing': '4.1um'}},\n",
    "  'cross_gap': '30um',\n",
    "  'cross_length': '210um',\n",
    "  'cross_width': '30um',\n",
    "  'gds_cell_name': 'my_other_junction',\n",
    "  'hfss_capacitance': 0,\n",
    "  'hfss_inductance': 9.686e-09,\n",
    "  'hfss_mesh_kw_jj': 7e-06,\n",
    "  'hfss_resistance': 0,\n",
    "  'layer': '1',\n",
    "  'orientation': '-90',\n",
    "  'pos_x': '-1500um',\n",
    "  'pos_y': '1200um',\n",
    "  'q3d_capacitance': 0,\n",
    "  'q3d_inductance': '10nH',\n",
    "  'q3d_mesh_kw_jj': 7e-06,\n",
    "  'q3d_resistance': 0}}"
   ]
  },
  {
   "cell_type": "code",
   "execution_count": null,
   "metadata": {},
   "outputs": [],
   "source": [
    "from squadds.components.coupled_systems import QubitCavity\n",
    "import qiskit_metal as metal\n",
    "from qiskit_metal import Dict, MetalGUI, designs, draw\n",
    "from qiskit_metal.toolbox_metal import math_and_overrides\n",
    "\n",
    "design = metal.designs.design_planar.DesignPlanar()\n",
    "gui = metal.MetalGUI(design)\n",
    "design.overwrite_enabled = True\n",
    "\n",
    "qc = QubitCavity(design, \"qubit_cavity\", options=best_device_design)\n",
    "gui.rebuild()\n",
    "gui.autoscale()\n",
    "gui.screenshot()"
   ]
  },
  {
   "cell_type": "markdown",
   "metadata": {},
   "source": [
    "## Simulate the Target Design"
   ]
  },
  {
   "cell_type": "markdown",
   "metadata": {},
   "source": [
    "Once you have the target design (in this case in Qiskit Metal format), you can then simulate it in whichever application you choose. However, we provide a native API to make it easier to get started with simulation on Ansys HFSS (support for AWS Palace will be provided hopefully in the near future!).   "
   ]
  },
  {
   "cell_type": "markdown",
   "metadata": {},
   "source": [
    "We use the `AnsysSimulator` class to run simulations:"
   ]
  },
  {
   "cell_type": "code",
   "execution_count": null,
   "metadata": {},
   "outputs": [],
   "source": [
    "from squadds import AnsysSimulator"
   ]
  },
  {
   "cell_type": "markdown",
   "metadata": {},
   "source": [
    "The `AnsysSimulator` object takes the analyzer from before and the target \"best device\" that you want to simulate as parameters."
   ]
  },
  {
   "cell_type": "code",
   "execution_count": null,
   "metadata": {},
   "outputs": [],
   "source": [
    "ansys_simulator = AnsysSimulator(analyzer, best_device)"
   ]
  },
  {
   "cell_type": "code",
   "execution_count": null,
   "metadata": {},
   "outputs": [],
   "source": [
    "best_device"
   ]
  },
  {
   "cell_type": "markdown",
   "metadata": {},
   "source": [
    "We can view the geometry and simulation setup from the database entry for our best device as follows:"
   ]
  },
  {
   "cell_type": "code",
   "execution_count": null,
   "metadata": {},
   "outputs": [],
   "source": [
    "best_device_geometry = best_device[\"design_options\"]\n",
    "best_device_geometry"
   ]
  },
  {
   "cell_type": "markdown",
   "metadata": {},
   "source": [
    "Now, let's say we want to change some parameter in the design, for example, the `cross_length`, just for demonstration purposes."
   ]
  },
  {
   "cell_type": "code",
   "execution_count": null,
   "metadata": {},
   "outputs": [],
   "source": [
    "best_device_geometry[\"cross_length\"] = '310um'\n",
    "best_device_geometry"
   ]
  },
  {
   "cell_type": "code",
   "execution_count": null,
   "metadata": {},
   "outputs": [],
   "source": [
    "best_device_sim_setup = best_device[\"setup\"]\n",
    "best_device_sim_setup"
   ]
  },
  {
   "cell_type": "markdown",
   "metadata": {},
   "source": [
    "Then, we simulate our device with Ansys HFSS. In this case, we are simulating a TransmonCross object to get its corresponding capacitance matrix."
   ]
  },
  {
   "cell_type": "code",
   "execution_count": null,
   "metadata": {},
   "outputs": [],
   "source": [
    "ansys_results = ansys_simulator.simulate(best_device)\n",
    "ansys_results"
   ]
  },
  {
   "cell_type": "markdown",
   "metadata": {},
   "source": [
    "After the simulation is finished, we have the option to take screenshots of our design in the renderer and in Qiskit Metal to verify our geometry visually, as follows:"
   ]
  },
  {
   "cell_type": "code",
   "execution_count": null,
   "metadata": {},
   "outputs": [],
   "source": [
    "ansys_simulator.get_renderer_screenshot()"
   ]
  },
  {
   "cell_type": "code",
   "execution_count": null,
   "metadata": {},
   "outputs": [],
   "source": [
    "ansys_simulator.get_design_screenshot()"
   ]
  },
  {
   "cell_type": "markdown",
   "metadata": {},
   "source": [
    "We can also analyze the simulated capacitance matrix results using the `get_xmon_info()` function, which returns the `qubit_anharmonicity_MHz` and  `qubit_frequency_GHz`."
   ]
  },
  {
   "cell_type": "code",
   "execution_count": null,
   "metadata": {},
   "outputs": [],
   "source": [
    "ansys_simulator.get_xmon_info(ansys_results)"
   ]
  },
  {
   "cell_type": "markdown",
   "metadata": {},
   "source": [
    "### Extracting the data needed for contributing to the dataset\n",
    "\n",
    "Suppose that we wanted to contribute this \"new\" design and simulation results to `SQuADDS_DB`.\n",
    "\n",
    "We need to first, extract the correct data that will be neccessary for contributing the results."
   ]
  },
  {
   "cell_type": "markdown",
   "metadata": {},
   "source": [
    "First, we get the `design` dictionary:"
   ]
  },
  {
   "cell_type": "code",
   "execution_count": null,
   "metadata": {},
   "outputs": [],
   "source": [
    "design_dict = ansys_results[\"design\"]\n",
    "design_dict"
   ]
  },
  {
   "cell_type": "markdown",
   "metadata": {},
   "source": [
    "Then, we can get the `sim_options` dictionary:"
   ]
  },
  {
   "cell_type": "code",
   "execution_count": null,
   "metadata": {},
   "outputs": [],
   "source": [
    "sim_options_dict = ansys_results[\"sim_options\"]\n",
    "sim_options_dict"
   ]
  },
  {
   "cell_type": "markdown",
   "metadata": {},
   "source": [
    "And then the renderer options:"
   ]
  },
  {
   "cell_type": "code",
   "execution_count": null,
   "metadata": {},
   "outputs": [],
   "source": [
    "renderer_options_dict = ansys_results[\"sim_options\"][\"renderer_options\"]\n",
    "renderer_options_dict"
   ]
  },
  {
   "cell_type": "markdown",
   "metadata": {},
   "source": [
    "And finally, the `sim_results` dictionary:"
   ]
  },
  {
   "cell_type": "markdown",
   "metadata": {},
   "source": [
    "In this particular simulation, all of our results have units of femtoFarads, so we can just add a global `units` key with value `fF`."
   ]
  },
  {
   "cell_type": "code",
   "execution_count": null,
   "metadata": {},
   "outputs": [],
   "source": [
    "sim_results_dict = ansys_results[\"sim_results\"]\n",
    "sim_results_dict.update({\"units\": \"fF\"})"
   ]
  },
  {
   "cell_type": "markdown",
   "metadata": {},
   "source": [
    "We can then take the dictionaries that we have just created, and send them to a JSON file that we will use later on in Tutorial 3."
   ]
  },
  {
   "cell_type": "code",
   "execution_count": null,
   "metadata": {},
   "outputs": [],
   "source": [
    "final_dict = dict(\n",
    "    sim_options = dict(\n",
    "        renderer_options = renderer_options_dict,\n",
    "        setup = sim_options_dict[\"setup\"],\n",
    "        simulator = sim_options_dict[\"simulator\"]\n",
    "    ),\n",
    "    design = design_dict,\n",
    "    sim_results = sim_results_dict\n",
    ")\n",
    "final_dict"
   ]
  },
  {
   "cell_type": "markdown",
   "metadata": {},
   "source": [
    "Let's save the dictionaries to a JSON file so that we can use it later on in [Tutorial 3](https://lfl-lab.github.io/SQuADDS/source/tutorials/Tutorial-3_Contributing_to_SQuADDS.html#Contributing-to-an-existing-configuration), where go over this process in more detail."
   ]
  },
  {
   "cell_type": "code",
   "execution_count": null,
   "metadata": {},
   "outputs": [],
   "source": [
    "import json\n",
    "with open(\"examples/single_xmon_lom.json\", 'w') as outfile:\n",
    "    json.dump(final_dict, outfile, indent=4)"
   ]
  },
  {
   "cell_type": "markdown",
   "metadata": {},
   "source": [
    "## Simulating an Interpolated Qubit + Cavity device"
   ]
  },
  {
   "cell_type": "markdown",
   "metadata": {},
   "source": [
    "This time, we look for a complete device, which includes a TransmonCross object coupled to a RouteMeander CPW and CoupledLineTee, as in Tutorial 1."
   ]
  },
  {
   "cell_type": "code",
   "execution_count": 3,
   "metadata": {},
   "outputs": [
    {
     "data": {
      "application/vnd.jupyter.widget-view+json": {
       "model_id": "54018b00d8a543608b680686d964f8d2",
       "version_major": 2,
       "version_minor": 0
      },
      "text/plain": [
       "Downloading data files:   0%|          | 0/1 [00:00<?, ?it/s]"
      ]
     },
     "metadata": {},
     "output_type": "display_data"
    },
    {
     "data": {
      "application/vnd.jupyter.widget-view+json": {
       "model_id": "8739d2d81e2a44bdb9e004c1a6484ef0",
       "version_major": 2,
       "version_minor": 0
      },
      "text/plain": [
       "Extracting data files:   0%|          | 0/1 [00:00<?, ?it/s]"
      ]
     },
     "metadata": {},
     "output_type": "display_data"
    },
    {
     "data": {
      "application/vnd.jupyter.widget-view+json": {
       "model_id": "ef0072af15d746e693ee481981f73fdf",
       "version_major": 2,
       "version_minor": 0
      },
      "text/plain": [
       "Generating train split: 0 examples [00:00, ? examples/s]"
      ]
     },
     "metadata": {},
     "output_type": "display_data"
    },
    {
     "data": {
      "text/html": [
       "<div>\n",
       "<style scoped>\n",
       "    .dataframe tbody tr th:only-of-type {\n",
       "        vertical-align: middle;\n",
       "    }\n",
       "\n",
       "    .dataframe tbody tr th {\n",
       "        vertical-align: top;\n",
       "    }\n",
       "\n",
       "    .dataframe thead th {\n",
       "        text-align: right;\n",
       "    }\n",
       "</style>\n",
       "<table border=\"1\" class=\"dataframe\">\n",
       "  <thead>\n",
       "    <tr style=\"text-align: right;\">\n",
       "      <th></th>\n",
       "      <th>claw_to_claw</th>\n",
       "      <th>claw_to_ground</th>\n",
       "      <th>cross_to_claw</th>\n",
       "      <th>cross_to_cross</th>\n",
       "      <th>cross_to_ground</th>\n",
       "      <th>ground_to_ground</th>\n",
       "      <th>units_qubit</th>\n",
       "      <th>PI_qubit</th>\n",
       "      <th>date_created_qubit</th>\n",
       "      <th>group_qubit</th>\n",
       "      <th>...</th>\n",
       "      <th>misc</th>\n",
       "      <th>uploader_cavity_claw</th>\n",
       "      <th>renderer_options_cavity_claw</th>\n",
       "      <th>setup_cavity_claw</th>\n",
       "      <th>simulator_cavity_claw</th>\n",
       "      <th>coupler_type</th>\n",
       "      <th>design_options_cavity_claw</th>\n",
       "      <th>design_tool_cavity_claw</th>\n",
       "      <th>resonator_type</th>\n",
       "      <th>design_options</th>\n",
       "    </tr>\n",
       "  </thead>\n",
       "  <tbody>\n",
       "    <tr>\n",
       "      <th>0</th>\n",
       "      <td>94.97421</td>\n",
       "      <td>90.86585</td>\n",
       "      <td>3.73363</td>\n",
       "      <td>158.40783</td>\n",
       "      <td>158.40783</td>\n",
       "      <td>311.25590</td>\n",
       "      <td>fF</td>\n",
       "      <td>Eli Levenson-Falk, PhD</td>\n",
       "      <td>2023-09-20-142547</td>\n",
       "      <td>LFL</td>\n",
       "      <td>...</td>\n",
       "      <td>None</td>\n",
       "      <td>Andre Kuo</td>\n",
       "      <td>None</td>\n",
       "      <td>{'basis_order': 1, 'max_delta_f': 0.05, 'max_p...</td>\n",
       "      <td>Ansys HFSS</td>\n",
       "      <td>CLT</td>\n",
       "      <td>{'claw_opts': {'connection_pads': {'readout': ...</td>\n",
       "      <td>qiskit-metal</td>\n",
       "      <td>quarter</td>\n",
       "      <td>{'cavity_claw_options': {'coupler_type': 'CLT'...</td>\n",
       "    </tr>\n",
       "    <tr>\n",
       "      <th>1</th>\n",
       "      <td>94.97421</td>\n",
       "      <td>90.86585</td>\n",
       "      <td>3.73363</td>\n",
       "      <td>158.40783</td>\n",
       "      <td>158.40783</td>\n",
       "      <td>311.25590</td>\n",
       "      <td>fF</td>\n",
       "      <td>Eli Levenson-Falk, PhD</td>\n",
       "      <td>2023-09-20-142547</td>\n",
       "      <td>LFL</td>\n",
       "      <td>...</td>\n",
       "      <td>None</td>\n",
       "      <td>Andre Kuo</td>\n",
       "      <td>None</td>\n",
       "      <td>{'basis_order': 1, 'max_delta_f': 0.05, 'max_p...</td>\n",
       "      <td>Ansys HFSS</td>\n",
       "      <td>CLT</td>\n",
       "      <td>{'claw_opts': {'connection_pads': {'readout': ...</td>\n",
       "      <td>qiskit-metal</td>\n",
       "      <td>quarter</td>\n",
       "      <td>{'cavity_claw_options': {'coupler_type': 'CLT'...</td>\n",
       "    </tr>\n",
       "    <tr>\n",
       "      <th>2</th>\n",
       "      <td>94.97421</td>\n",
       "      <td>90.86585</td>\n",
       "      <td>3.73363</td>\n",
       "      <td>158.40783</td>\n",
       "      <td>158.40783</td>\n",
       "      <td>311.25590</td>\n",
       "      <td>fF</td>\n",
       "      <td>Eli Levenson-Falk, PhD</td>\n",
       "      <td>2023-09-20-142547</td>\n",
       "      <td>LFL</td>\n",
       "      <td>...</td>\n",
       "      <td>None</td>\n",
       "      <td>Andre Kuo</td>\n",
       "      <td>None</td>\n",
       "      <td>{'basis_order': 1, 'max_delta_f': 0.05, 'max_p...</td>\n",
       "      <td>Ansys HFSS</td>\n",
       "      <td>CLT</td>\n",
       "      <td>{'claw_opts': {'connection_pads': {'readout': ...</td>\n",
       "      <td>qiskit-metal</td>\n",
       "      <td>quarter</td>\n",
       "      <td>{'cavity_claw_options': {'coupler_type': 'CLT'...</td>\n",
       "    </tr>\n",
       "    <tr>\n",
       "      <th>3</th>\n",
       "      <td>94.97421</td>\n",
       "      <td>90.86585</td>\n",
       "      <td>3.73363</td>\n",
       "      <td>158.40783</td>\n",
       "      <td>158.40783</td>\n",
       "      <td>311.25590</td>\n",
       "      <td>fF</td>\n",
       "      <td>Eli Levenson-Falk, PhD</td>\n",
       "      <td>2023-09-20-142547</td>\n",
       "      <td>LFL</td>\n",
       "      <td>...</td>\n",
       "      <td>None</td>\n",
       "      <td>Andre Kuo</td>\n",
       "      <td>None</td>\n",
       "      <td>{'basis_order': 1, 'max_delta_f': 0.05, 'max_p...</td>\n",
       "      <td>Ansys HFSS</td>\n",
       "      <td>CLT</td>\n",
       "      <td>{'claw_opts': {'connection_pads': {'readout': ...</td>\n",
       "      <td>qiskit-metal</td>\n",
       "      <td>quarter</td>\n",
       "      <td>{'cavity_claw_options': {'coupler_type': 'CLT'...</td>\n",
       "    </tr>\n",
       "    <tr>\n",
       "      <th>4</th>\n",
       "      <td>94.97421</td>\n",
       "      <td>90.86585</td>\n",
       "      <td>3.73363</td>\n",
       "      <td>158.40783</td>\n",
       "      <td>158.40783</td>\n",
       "      <td>311.25590</td>\n",
       "      <td>fF</td>\n",
       "      <td>Eli Levenson-Falk, PhD</td>\n",
       "      <td>2023-09-20-142547</td>\n",
       "      <td>LFL</td>\n",
       "      <td>...</td>\n",
       "      <td>None</td>\n",
       "      <td>Andre Kuo</td>\n",
       "      <td>None</td>\n",
       "      <td>{'basis_order': 1, 'max_delta_f': 0.05, 'max_p...</td>\n",
       "      <td>Ansys HFSS</td>\n",
       "      <td>CLT</td>\n",
       "      <td>{'claw_opts': {'connection_pads': {'readout': ...</td>\n",
       "      <td>qiskit-metal</td>\n",
       "      <td>quarter</td>\n",
       "      <td>{'cavity_claw_options': {'coupler_type': 'CLT'...</td>\n",
       "    </tr>\n",
       "    <tr>\n",
       "      <th>...</th>\n",
       "      <td>...</td>\n",
       "      <td>...</td>\n",
       "      <td>...</td>\n",
       "      <td>...</td>\n",
       "      <td>...</td>\n",
       "      <td>...</td>\n",
       "      <td>...</td>\n",
       "      <td>...</td>\n",
       "      <td>...</td>\n",
       "      <td>...</td>\n",
       "      <td>...</td>\n",
       "      <td>...</td>\n",
       "      <td>...</td>\n",
       "      <td>...</td>\n",
       "      <td>...</td>\n",
       "      <td>...</td>\n",
       "      <td>...</td>\n",
       "      <td>...</td>\n",
       "      <td>...</td>\n",
       "      <td>...</td>\n",
       "      <td>...</td>\n",
       "    </tr>\n",
       "    <tr>\n",
       "      <th>18952</th>\n",
       "      <td>183.80802</td>\n",
       "      <td>168.04023</td>\n",
       "      <td>15.11184</td>\n",
       "      <td>214.45993</td>\n",
       "      <td>214.45993</td>\n",
       "      <td>454.60312</td>\n",
       "      <td>fF</td>\n",
       "      <td>Eli Levenson-Falk, PhD</td>\n",
       "      <td>2023-09-20-142547</td>\n",
       "      <td>LFL</td>\n",
       "      <td>...</td>\n",
       "      <td>None</td>\n",
       "      <td>Andre Kuo</td>\n",
       "      <td>None</td>\n",
       "      <td>{'basis_order': 1, 'max_delta_f': 0.05, 'max_p...</td>\n",
       "      <td>Ansys HFSS</td>\n",
       "      <td>CLT</td>\n",
       "      <td>{'claw_opts': {'connection_pads': {'readout': ...</td>\n",
       "      <td>qiskit-metal</td>\n",
       "      <td>quarter</td>\n",
       "      <td>{'cavity_claw_options': {'coupler_type': 'CLT'...</td>\n",
       "    </tr>\n",
       "    <tr>\n",
       "      <th>18953</th>\n",
       "      <td>183.80802</td>\n",
       "      <td>168.04023</td>\n",
       "      <td>15.11184</td>\n",
       "      <td>214.45993</td>\n",
       "      <td>214.45993</td>\n",
       "      <td>454.60312</td>\n",
       "      <td>fF</td>\n",
       "      <td>Eli Levenson-Falk, PhD</td>\n",
       "      <td>2023-09-20-142547</td>\n",
       "      <td>LFL</td>\n",
       "      <td>...</td>\n",
       "      <td></td>\n",
       "      <td>Andre Kuo</td>\n",
       "      <td>None</td>\n",
       "      <td>{'basis_order': 1, 'max_delta_f': 0.05, 'max_p...</td>\n",
       "      <td>Ansys HFSS</td>\n",
       "      <td>CLT</td>\n",
       "      <td>{'claw_opts': {'connection_pads': {'readout': ...</td>\n",
       "      <td>qiskit-metal</td>\n",
       "      <td>quarter</td>\n",
       "      <td>{'cavity_claw_options': {'coupler_type': 'CLT'...</td>\n",
       "    </tr>\n",
       "    <tr>\n",
       "      <th>18954</th>\n",
       "      <td>183.80802</td>\n",
       "      <td>168.04023</td>\n",
       "      <td>15.11184</td>\n",
       "      <td>214.45993</td>\n",
       "      <td>214.45993</td>\n",
       "      <td>454.60312</td>\n",
       "      <td>fF</td>\n",
       "      <td>Eli Levenson-Falk, PhD</td>\n",
       "      <td>2023-09-20-142547</td>\n",
       "      <td>LFL</td>\n",
       "      <td>...</td>\n",
       "      <td></td>\n",
       "      <td>Andre Kuo</td>\n",
       "      <td>None</td>\n",
       "      <td>{'basis_order': 1, 'max_delta_f': 0.05, 'max_p...</td>\n",
       "      <td>Ansys HFSS</td>\n",
       "      <td>CLT</td>\n",
       "      <td>{'claw_opts': {'connection_pads': {'readout': ...</td>\n",
       "      <td>qiskit-metal</td>\n",
       "      <td>quarter</td>\n",
       "      <td>{'cavity_claw_options': {'coupler_type': 'CLT'...</td>\n",
       "    </tr>\n",
       "    <tr>\n",
       "      <th>18955</th>\n",
       "      <td>183.80802</td>\n",
       "      <td>168.04023</td>\n",
       "      <td>15.11184</td>\n",
       "      <td>214.45993</td>\n",
       "      <td>214.45993</td>\n",
       "      <td>454.60312</td>\n",
       "      <td>fF</td>\n",
       "      <td>Eli Levenson-Falk, PhD</td>\n",
       "      <td>2023-09-20-142547</td>\n",
       "      <td>LFL</td>\n",
       "      <td>...</td>\n",
       "      <td></td>\n",
       "      <td>Andre Kuo</td>\n",
       "      <td>None</td>\n",
       "      <td>{'basis_order': 1, 'max_delta_f': 0.05, 'max_p...</td>\n",
       "      <td>Ansys HFSS</td>\n",
       "      <td>CLT</td>\n",
       "      <td>{'claw_opts': {'connection_pads': {'readout': ...</td>\n",
       "      <td>qiskit-metal</td>\n",
       "      <td>quarter</td>\n",
       "      <td>{'cavity_claw_options': {'coupler_type': 'CLT'...</td>\n",
       "    </tr>\n",
       "    <tr>\n",
       "      <th>18956</th>\n",
       "      <td>183.80802</td>\n",
       "      <td>168.04023</td>\n",
       "      <td>15.11184</td>\n",
       "      <td>214.45993</td>\n",
       "      <td>214.45993</td>\n",
       "      <td>454.60312</td>\n",
       "      <td>fF</td>\n",
       "      <td>Eli Levenson-Falk, PhD</td>\n",
       "      <td>2023-09-20-142547</td>\n",
       "      <td>LFL</td>\n",
       "      <td>...</td>\n",
       "      <td></td>\n",
       "      <td>Andre Kuo</td>\n",
       "      <td>None</td>\n",
       "      <td>{'basis_order': 1, 'max_delta_f': 0.05, 'max_p...</td>\n",
       "      <td>Ansys HFSS</td>\n",
       "      <td>CLT</td>\n",
       "      <td>{'claw_opts': {'connection_pads': {'readout': ...</td>\n",
       "      <td>qiskit-metal</td>\n",
       "      <td>quarter</td>\n",
       "      <td>{'cavity_claw_options': {'coupler_type': 'CLT'...</td>\n",
       "    </tr>\n",
       "  </tbody>\n",
       "</table>\n",
       "<p>18957 rows × 34 columns</p>\n",
       "</div>"
      ],
      "text/plain": [
       "       claw_to_claw  claw_to_ground  cross_to_claw  cross_to_cross  \\\n",
       "0          94.97421        90.86585        3.73363       158.40783   \n",
       "1          94.97421        90.86585        3.73363       158.40783   \n",
       "2          94.97421        90.86585        3.73363       158.40783   \n",
       "3          94.97421        90.86585        3.73363       158.40783   \n",
       "4          94.97421        90.86585        3.73363       158.40783   \n",
       "...             ...             ...            ...             ...   \n",
       "18952     183.80802       168.04023       15.11184       214.45993   \n",
       "18953     183.80802       168.04023       15.11184       214.45993   \n",
       "18954     183.80802       168.04023       15.11184       214.45993   \n",
       "18955     183.80802       168.04023       15.11184       214.45993   \n",
       "18956     183.80802       168.04023       15.11184       214.45993   \n",
       "\n",
       "       cross_to_ground  ground_to_ground units_qubit                PI_qubit  \\\n",
       "0            158.40783         311.25590          fF  Eli Levenson-Falk, PhD   \n",
       "1            158.40783         311.25590          fF  Eli Levenson-Falk, PhD   \n",
       "2            158.40783         311.25590          fF  Eli Levenson-Falk, PhD   \n",
       "3            158.40783         311.25590          fF  Eli Levenson-Falk, PhD   \n",
       "4            158.40783         311.25590          fF  Eli Levenson-Falk, PhD   \n",
       "...                ...               ...         ...                     ...   \n",
       "18952        214.45993         454.60312          fF  Eli Levenson-Falk, PhD   \n",
       "18953        214.45993         454.60312          fF  Eli Levenson-Falk, PhD   \n",
       "18954        214.45993         454.60312          fF  Eli Levenson-Falk, PhD   \n",
       "18955        214.45993         454.60312          fF  Eli Levenson-Falk, PhD   \n",
       "18956        214.45993         454.60312          fF  Eli Levenson-Falk, PhD   \n",
       "\n",
       "      date_created_qubit group_qubit  ...  misc uploader_cavity_claw  \\\n",
       "0      2023-09-20-142547         LFL  ...  None            Andre Kuo   \n",
       "1      2023-09-20-142547         LFL  ...  None            Andre Kuo   \n",
       "2      2023-09-20-142547         LFL  ...  None            Andre Kuo   \n",
       "3      2023-09-20-142547         LFL  ...  None            Andre Kuo   \n",
       "4      2023-09-20-142547         LFL  ...  None            Andre Kuo   \n",
       "...                  ...         ...  ...   ...                  ...   \n",
       "18952  2023-09-20-142547         LFL  ...  None            Andre Kuo   \n",
       "18953  2023-09-20-142547         LFL  ...                  Andre Kuo   \n",
       "18954  2023-09-20-142547         LFL  ...                  Andre Kuo   \n",
       "18955  2023-09-20-142547         LFL  ...                  Andre Kuo   \n",
       "18956  2023-09-20-142547         LFL  ...                  Andre Kuo   \n",
       "\n",
       "      renderer_options_cavity_claw  \\\n",
       "0                             None   \n",
       "1                             None   \n",
       "2                             None   \n",
       "3                             None   \n",
       "4                             None   \n",
       "...                            ...   \n",
       "18952                         None   \n",
       "18953                         None   \n",
       "18954                         None   \n",
       "18955                         None   \n",
       "18956                         None   \n",
       "\n",
       "                                       setup_cavity_claw  \\\n",
       "0      {'basis_order': 1, 'max_delta_f': 0.05, 'max_p...   \n",
       "1      {'basis_order': 1, 'max_delta_f': 0.05, 'max_p...   \n",
       "2      {'basis_order': 1, 'max_delta_f': 0.05, 'max_p...   \n",
       "3      {'basis_order': 1, 'max_delta_f': 0.05, 'max_p...   \n",
       "4      {'basis_order': 1, 'max_delta_f': 0.05, 'max_p...   \n",
       "...                                                  ...   \n",
       "18952  {'basis_order': 1, 'max_delta_f': 0.05, 'max_p...   \n",
       "18953  {'basis_order': 1, 'max_delta_f': 0.05, 'max_p...   \n",
       "18954  {'basis_order': 1, 'max_delta_f': 0.05, 'max_p...   \n",
       "18955  {'basis_order': 1, 'max_delta_f': 0.05, 'max_p...   \n",
       "18956  {'basis_order': 1, 'max_delta_f': 0.05, 'max_p...   \n",
       "\n",
       "      simulator_cavity_claw coupler_type  \\\n",
       "0                Ansys HFSS          CLT   \n",
       "1                Ansys HFSS          CLT   \n",
       "2                Ansys HFSS          CLT   \n",
       "3                Ansys HFSS          CLT   \n",
       "4                Ansys HFSS          CLT   \n",
       "...                     ...          ...   \n",
       "18952            Ansys HFSS          CLT   \n",
       "18953            Ansys HFSS          CLT   \n",
       "18954            Ansys HFSS          CLT   \n",
       "18955            Ansys HFSS          CLT   \n",
       "18956            Ansys HFSS          CLT   \n",
       "\n",
       "                              design_options_cavity_claw  \\\n",
       "0      {'claw_opts': {'connection_pads': {'readout': ...   \n",
       "1      {'claw_opts': {'connection_pads': {'readout': ...   \n",
       "2      {'claw_opts': {'connection_pads': {'readout': ...   \n",
       "3      {'claw_opts': {'connection_pads': {'readout': ...   \n",
       "4      {'claw_opts': {'connection_pads': {'readout': ...   \n",
       "...                                                  ...   \n",
       "18952  {'claw_opts': {'connection_pads': {'readout': ...   \n",
       "18953  {'claw_opts': {'connection_pads': {'readout': ...   \n",
       "18954  {'claw_opts': {'connection_pads': {'readout': ...   \n",
       "18955  {'claw_opts': {'connection_pads': {'readout': ...   \n",
       "18956  {'claw_opts': {'connection_pads': {'readout': ...   \n",
       "\n",
       "       design_tool_cavity_claw  resonator_type  \\\n",
       "0                 qiskit-metal         quarter   \n",
       "1                 qiskit-metal         quarter   \n",
       "2                 qiskit-metal         quarter   \n",
       "3                 qiskit-metal         quarter   \n",
       "4                 qiskit-metal         quarter   \n",
       "...                        ...             ...   \n",
       "18952             qiskit-metal         quarter   \n",
       "18953             qiskit-metal         quarter   \n",
       "18954             qiskit-metal         quarter   \n",
       "18955             qiskit-metal         quarter   \n",
       "18956             qiskit-metal         quarter   \n",
       "\n",
       "                                          design_options  \n",
       "0      {'cavity_claw_options': {'coupler_type': 'CLT'...  \n",
       "1      {'cavity_claw_options': {'coupler_type': 'CLT'...  \n",
       "2      {'cavity_claw_options': {'coupler_type': 'CLT'...  \n",
       "3      {'cavity_claw_options': {'coupler_type': 'CLT'...  \n",
       "4      {'cavity_claw_options': {'coupler_type': 'CLT'...  \n",
       "...                                                  ...  \n",
       "18952  {'cavity_claw_options': {'coupler_type': 'CLT'...  \n",
       "18953  {'cavity_claw_options': {'coupler_type': 'CLT'...  \n",
       "18954  {'cavity_claw_options': {'coupler_type': 'CLT'...  \n",
       "18955  {'cavity_claw_options': {'coupler_type': 'CLT'...  \n",
       "18956  {'cavity_claw_options': {'coupler_type': 'CLT'...  \n",
       "\n",
       "[18957 rows x 34 columns]"
      ]
     },
     "execution_count": 3,
     "metadata": {},
     "output_type": "execute_result"
    }
   ],
   "source": [
    "db.select_system([\"qubit\",\"cavity_claw\"])\n",
    "db.select_qubit(\"TransmonCross\")\n",
    "db.select_cavity_claw(\"RouteMeander\")\n",
    "db.select_resonator_type(\"quarter\")\n",
    "merged_df = db.create_system_df()\n",
    "merged_df"
   ]
  },
  {
   "cell_type": "code",
   "execution_count": 4,
   "metadata": {},
   "outputs": [],
   "source": [
    "target_params = {\n",
    "                \"qubit_frequency_GHz\": 4,\n",
    "                \"cavity_frequency_GHz\": 6.2,\n",
    "                \"kappa_kHz\": 120,\n",
    "                \"resonator_type\":\"quarter\",\n",
    "                \"anharmonicity_MHz\": -200,\n",
    "                \"g_MHz\": 70}"
   ]
  },
  {
   "cell_type": "code",
   "execution_count": 5,
   "metadata": {},
   "outputs": [],
   "source": [
    "from squadds import Analyzer"
   ]
  },
  {
   "cell_type": "code",
   "execution_count": 6,
   "metadata": {},
   "outputs": [
    {
     "data": {
      "text/html": [
       "<div>\n",
       "<style scoped>\n",
       "    .dataframe tbody tr th:only-of-type {\n",
       "        vertical-align: middle;\n",
       "    }\n",
       "\n",
       "    .dataframe tbody tr th {\n",
       "        vertical-align: top;\n",
       "    }\n",
       "\n",
       "    .dataframe thead th {\n",
       "        text-align: right;\n",
       "    }\n",
       "</style>\n",
       "<table border=\"1\" class=\"dataframe\">\n",
       "  <thead>\n",
       "    <tr style=\"text-align: right;\">\n",
       "      <th></th>\n",
       "      <th>claw_to_claw</th>\n",
       "      <th>claw_to_ground</th>\n",
       "      <th>cross_to_claw</th>\n",
       "      <th>cross_to_cross</th>\n",
       "      <th>cross_to_ground</th>\n",
       "      <th>ground_to_ground</th>\n",
       "      <th>units_qubit</th>\n",
       "      <th>PI_qubit</th>\n",
       "      <th>date_created_qubit</th>\n",
       "      <th>group_qubit</th>\n",
       "      <th>...</th>\n",
       "      <th>design_options_cavity_claw</th>\n",
       "      <th>design_tool_cavity_claw</th>\n",
       "      <th>resonator_type</th>\n",
       "      <th>design_options</th>\n",
       "      <th>EC</th>\n",
       "      <th>EJ</th>\n",
       "      <th>EJEC</th>\n",
       "      <th>qubit_frequency_GHz</th>\n",
       "      <th>anharmonicity_MHz</th>\n",
       "      <th>g_MHz</th>\n",
       "    </tr>\n",
       "  </thead>\n",
       "  <tbody>\n",
       "    <tr>\n",
       "      <th>15374</th>\n",
       "      <td>113.99245</td>\n",
       "      <td>107.65111</td>\n",
       "      <td>5.75841</td>\n",
       "      <td>112.70740</td>\n",
       "      <td>112.70740</td>\n",
       "      <td>274.49373</td>\n",
       "      <td>fF</td>\n",
       "      <td>Eli Levenson-Falk, PhD</td>\n",
       "      <td>2023-09-20-142547</td>\n",
       "      <td>LFL</td>\n",
       "      <td>...</td>\n",
       "      <td>{'claw_opts': {'connection_pads': {'readout': ...</td>\n",
       "      <td>qiskit-metal</td>\n",
       "      <td>quarter</td>\n",
       "      <td>{'cavity_claw_options': {'coupler_type': 'CLT'...</td>\n",
       "      <td>0.163509</td>\n",
       "      <td>12.278081</td>\n",
       "      <td>75.091150</td>\n",
       "      <td>3.836546</td>\n",
       "      <td>-182.146843</td>\n",
       "      <td>68.095121</td>\n",
       "    </tr>\n",
       "    <tr>\n",
       "      <th>2914</th>\n",
       "      <td>105.76081</td>\n",
       "      <td>99.80185</td>\n",
       "      <td>5.38260</td>\n",
       "      <td>100.41444</td>\n",
       "      <td>100.41444</td>\n",
       "      <td>251.82560</td>\n",
       "      <td>fF</td>\n",
       "      <td>Eli Levenson-Falk, PhD</td>\n",
       "      <td>2023-10-25-153123</td>\n",
       "      <td>LFL</td>\n",
       "      <td>...</td>\n",
       "      <td>{'claw_opts': {'connection_pads': {'readout': ...</td>\n",
       "      <td>qiskit-metal</td>\n",
       "      <td>quarter</td>\n",
       "      <td>{'cavity_claw_options': {'coupler_type': 'CLT'...</td>\n",
       "      <td>0.183089</td>\n",
       "      <td>12.278081</td>\n",
       "      <td>67.060879</td>\n",
       "      <td>4.048670</td>\n",
       "      <td>-205.518797</td>\n",
       "      <td>70.226899</td>\n",
       "    </tr>\n",
       "    <tr>\n",
       "      <th>10676</th>\n",
       "      <td>109.80541</td>\n",
       "      <td>103.57639</td>\n",
       "      <td>5.68548</td>\n",
       "      <td>105.83609</td>\n",
       "      <td>105.83609</td>\n",
       "      <td>261.84982</td>\n",
       "      <td>fF</td>\n",
       "      <td>Eli Levenson-Falk, PhD</td>\n",
       "      <td>2023-10-25-153123</td>\n",
       "      <td>LFL</td>\n",
       "      <td>...</td>\n",
       "      <td>{'claw_opts': {'connection_pads': {'readout': ...</td>\n",
       "      <td>qiskit-metal</td>\n",
       "      <td>quarter</td>\n",
       "      <td>{'cavity_claw_options': {'coupler_type': 'CLT'...</td>\n",
       "      <td>0.173690</td>\n",
       "      <td>12.278081</td>\n",
       "      <td>70.689450</td>\n",
       "      <td>3.948506</td>\n",
       "      <td>-194.262295</td>\n",
       "      <td>70.978895</td>\n",
       "    </tr>\n",
       "  </tbody>\n",
       "</table>\n",
       "<p>3 rows × 40 columns</p>\n",
       "</div>"
      ],
      "text/plain": [
       "       claw_to_claw  claw_to_ground  cross_to_claw  cross_to_cross  \\\n",
       "15374     113.99245       107.65111        5.75841       112.70740   \n",
       "2914      105.76081        99.80185        5.38260       100.41444   \n",
       "10676     109.80541       103.57639        5.68548       105.83609   \n",
       "\n",
       "       cross_to_ground  ground_to_ground units_qubit                PI_qubit  \\\n",
       "15374        112.70740         274.49373          fF  Eli Levenson-Falk, PhD   \n",
       "2914         100.41444         251.82560          fF  Eli Levenson-Falk, PhD   \n",
       "10676        105.83609         261.84982          fF  Eli Levenson-Falk, PhD   \n",
       "\n",
       "      date_created_qubit group_qubit  ...  \\\n",
       "15374  2023-09-20-142547         LFL  ...   \n",
       "2914   2023-10-25-153123         LFL  ...   \n",
       "10676  2023-10-25-153123         LFL  ...   \n",
       "\n",
       "                              design_options_cavity_claw  \\\n",
       "15374  {'claw_opts': {'connection_pads': {'readout': ...   \n",
       "2914   {'claw_opts': {'connection_pads': {'readout': ...   \n",
       "10676  {'claw_opts': {'connection_pads': {'readout': ...   \n",
       "\n",
       "      design_tool_cavity_claw resonator_type  \\\n",
       "15374            qiskit-metal        quarter   \n",
       "2914             qiskit-metal        quarter   \n",
       "10676            qiskit-metal        quarter   \n",
       "\n",
       "                                          design_options        EC         EJ  \\\n",
       "15374  {'cavity_claw_options': {'coupler_type': 'CLT'...  0.163509  12.278081   \n",
       "2914   {'cavity_claw_options': {'coupler_type': 'CLT'...  0.183089  12.278081   \n",
       "10676  {'cavity_claw_options': {'coupler_type': 'CLT'...  0.173690  12.278081   \n",
       "\n",
       "            EJEC  qubit_frequency_GHz  anharmonicity_MHz      g_MHz  \n",
       "15374  75.091150             3.836546        -182.146843  68.095121  \n",
       "2914   67.060879             4.048670        -205.518797  70.226899  \n",
       "10676  70.689450             3.948506        -194.262295  70.978895  \n",
       "\n",
       "[3 rows x 40 columns]"
      ]
     },
     "execution_count": 6,
     "metadata": {},
     "output_type": "execute_result"
    }
   ],
   "source": [
    "analyzer = Analyzer(db)\n",
    "\n",
    "results = analyzer.find_closest(target_params=target_params,\n",
    "                                       num_top=3,\n",
    "                                       metric=\"Euclidean\",\n",
    "                                       display=True)\n",
    "results"
   ]
  },
  {
   "cell_type": "code",
   "execution_count": 7,
   "metadata": {},
   "outputs": [
    {
     "data": {
      "text/plain": [
       "claw_to_claw                                                            113.99245\n",
       "claw_to_ground                                                          107.65111\n",
       "cross_to_claw                                                             5.75841\n",
       "cross_to_cross                                                           112.7074\n",
       "cross_to_ground                                                          112.7074\n",
       "ground_to_ground                                                        274.49373\n",
       "units_qubit                                                                    fF\n",
       "PI_qubit                                                   Eli Levenson-Falk, PhD\n",
       "date_created_qubit                                              2023-09-20-142547\n",
       "group_qubit                                                                   LFL\n",
       "institution_qubit                                                             USC\n",
       "uploader_qubit                                                          Andre Kuo\n",
       "renderer_options_qubit          {'Cj': 0, 'Lj': '10nH', '_Rj': 0, 'design_name...\n",
       "setup_qubit                     {'auto_increase_solution_order': True, 'enable...\n",
       "simulator_qubit                                                        Ansys HFSS\n",
       "design_options_qubit            {'aedt_hfss_capacitance': 0, 'aedt_hfss_induct...\n",
       "design_tool_qubit                                                    qiskit-metal\n",
       "cavity_frequency_GHz                                                     6.429384\n",
       "kappa_kHz                                                              128.174331\n",
       "units_cavity_claw                                                              Hz\n",
       "PI_cavity_claw                                             Eli Levenson-Falk, PhD\n",
       "date_created_cavity_claw                                        2023-11-30-214122\n",
       "group_cavity_claw                                                             LFL\n",
       "institution_cavity_claw                                                       USC\n",
       "misc                                                                         None\n",
       "uploader_cavity_claw                                                    Andre Kuo\n",
       "renderer_options_cavity_claw                                                 None\n",
       "setup_cavity_claw               {'basis_order': 1, 'max_delta_f': 0.05, 'max_p...\n",
       "simulator_cavity_claw                                                  Ansys HFSS\n",
       "coupler_type                                                                  CLT\n",
       "design_options_cavity_claw      {'claw_opts': {'connection_pads': {'readout': ...\n",
       "design_tool_cavity_claw                                              qiskit-metal\n",
       "resonator_type                                                            quarter\n",
       "design_options                  {'cavity_claw_options': {'coupler_type': 'CLT'...\n",
       "EC                                                                       0.163509\n",
       "EJ                                                                      12.278081\n",
       "EJEC                                                                     75.09115\n",
       "qubit_frequency_GHz                                                      3.836546\n",
       "anharmonicity_MHz                                                     -182.146843\n",
       "g_MHz                                                                   68.095121\n",
       "Name: 15374, dtype: object"
      ]
     },
     "execution_count": 7,
     "metadata": {},
     "output_type": "execute_result"
    }
   ],
   "source": [
    "best_device = results.iloc[0]\n",
    "best_device"
   ]
  },
  {
   "cell_type": "code",
   "execution_count": 8,
   "metadata": {},
   "outputs": [
    {
     "data": {
      "text/plain": [
       "{'cavity_claw_options': {'coupler_type': 'CLT',\n",
       "  'coupler_options': {'cap_distance': None,\n",
       "   'cap_gap': None,\n",
       "   'cap_gap_ground': None,\n",
       "   'cap_width': None,\n",
       "   'coupling_length': '230um',\n",
       "   'coupling_space': '7.9um',\n",
       "   'down_length': '50um',\n",
       "   'finger_count': None,\n",
       "   'finger_length': None,\n",
       "   'open_termination': False,\n",
       "   'orientation': '-90',\n",
       "   'prime_gap': '5.1um',\n",
       "   'prime_width': '11.7um',\n",
       "   'second_gap': '5.1um',\n",
       "   'second_width': '11.7um'},\n",
       "  'cpw_opts': {'left_options': {'fillet': '49.9um',\n",
       "    'lead': {'end_straight': None,\n",
       "     'start_jogged_extension': None,\n",
       "     'start_straight': '50um'},\n",
       "    'meander': {'asymmetry': '-115.0um', 'spacing': '100um'},\n",
       "    'pin_inputs': {'end_pin': {'component': 'claw', 'pin': 'readout'},\n",
       "     'start_pin': {'component': 'cplr', 'pin': 'second_end'}},\n",
       "    'total_length': '3900um',\n",
       "    'trace_gap': '5.1um',\n",
       "    'trace_width': '11.7um'}}},\n",
       " 'qubit_options': {'aedt_hfss_capacitance': 0,\n",
       "  'aedt_hfss_inductance': 9.686e-09,\n",
       "  'aedt_q3d_capacitance': 0,\n",
       "  'aedt_q3d_inductance': 1e-08,\n",
       "  'chip': 'main',\n",
       "  'connection_pads': {'readout': {'claw_cpw_length': '40um',\n",
       "    'claw_cpw_width': '10um',\n",
       "    'claw_gap': '5.1um',\n",
       "    'claw_length': '210um',\n",
       "    'claw_width': '15um',\n",
       "    'connector_location': '90',\n",
       "    'connector_type': '0',\n",
       "    'ground_spacing': '10um'}},\n",
       "  'cross_gap': '30um',\n",
       "  'cross_length': '230um',\n",
       "  'cross_width': '30um',\n",
       "  'gds_cell_name': 'my_other_junction',\n",
       "  'hfss_capacitance': 0,\n",
       "  'hfss_inductance': 9.686e-09,\n",
       "  'hfss_mesh_kw_jj': 7e-06,\n",
       "  'hfss_resistance': 0,\n",
       "  'layer': '1',\n",
       "  'orientation': '-90',\n",
       "  'pos_x': '-1500um',\n",
       "  'pos_y': '1200um',\n",
       "  'q3d_capacitance': 0,\n",
       "  'q3d_inductance': '10nH',\n",
       "  'q3d_mesh_kw_jj': 7e-06,\n",
       "  'q3d_resistance': 0}}"
      ]
     },
     "execution_count": 8,
     "metadata": {},
     "output_type": "execute_result"
    }
   ],
   "source": [
    "best_device[\"design_options\"]"
   ]
  },
  {
   "cell_type": "code",
   "execution_count": 9,
   "metadata": {},
   "outputs": [
    {
     "name": "stderr",
     "output_type": "stream",
     "text": [
      "03:58PM 28s CRITICAL [_qt_message_handler]: line: 0, func: None(), file: None  WARNING: Layer-backing can not be explicitly controlled on 10.14 when built against the 10.14 SDK\n",
      "\n",
      "03:58PM 29s CRITICAL [_qt_message_handler]: line: 0, func: None(), file: None  CRITICAL: <QNSWindow: 0x7fd1def8f130; contentView=<QNSView: 0x7fd1def8e9f0; QCocoaWindow(0x7fd1def8e8d0, window=QWidgetWindow(0x7fd1def8e450, name=\"MainWindowPlotWindow\"))>> has active key-value observers (KVO)! These will stop working now that the window is recreated, and will result in exceptions when the observers are removed. Break in QCocoaWindow::recreateWindowIfNeeded to debug.\n",
      "\n",
      "03:58PM 29s CRITICAL [_qt_message_handler]: line: 0, func: None(), file: None  CRITICAL: <QNSWindow: 0x7fd1defe0c90; contentView=<QNSView: 0x7fd1defe0550; QCocoaWindow(0x7fd1defe0430, window=QWidgetWindow(0x7fd1defdffd0, name=\"ElementsWindowWindow\"))>> has active key-value observers (KVO)! These will stop working now that the window is recreated, and will result in exceptions when the observers are removed. Break in QCocoaWindow::recreateWindowIfNeeded to debug.\n",
      "\n",
      "03:58PM 29s CRITICAL [_qt_message_handler]: line: 0, func: None(), file: None  CRITICAL: <QNSWindow: 0x7fd1def75240; contentView=<QNSView: 0x7fd1def74ac0; QCocoaWindow(0x7fd1def749a0, window=QWidgetWindow(0x7fd1def744e0, name=\"MainWindowWindow\"))>> has active key-value observers (KVO)! These will stop working now that the window is recreated, and will result in exceptions when the observers are removed. Break in QCocoaWindow::recreateWindowIfNeeded to debug.\n",
      "\n",
      "03:58PM 29s CRITICAL [_qt_message_handler]: line: 0, func: None(), file: None  CRITICAL: <QNSWindow: 0x7fd1df3139f0; contentView=<QNSView: 0x7fd1df3132b0; QCocoaWindow(0x7fd1df313190, window=QWidgetWindow(0x7fd1df312d30, name=\"NetListWindowWindow\"))>> has active key-value observers (KVO)! These will stop working now that the window is recreated, and will result in exceptions when the observers are removed. Break in QCocoaWindow::recreateWindowIfNeeded to debug.\n",
      "\n"
     ]
    },
    {
     "data": {
      "image/png": "[encoded data removed]",
      "text/plain": [
       "<IPython.core.display.Image object>"
      ]
     },
     "metadata": {
      "image/png": {
       "width": 500
      }
     },
     "output_type": "display_data"
    },
    {
     "ename": "",
     "evalue": "",
     "output_type": "error",
     "traceback": [
      "\u001b[1;31mThe Kernel crashed while executing code in the current cell or a previous cell. \n",
      "\u001b[1;31mPlease review the code in the cell(s) to identify a possible cause of the failure. \n",
      "\u001b[1;31mClick <a href='https://aka.ms/vscodeJupyterKernelCrash'>here</a> for more info. \n",
      "\u001b[1;31mView Jupyter <a href='command:jupyter.viewOutput'>log</a> for further details."
     ]
    }
   ],
   "source": [
    "from squadds.components.coupled_systems import QubitCavity\n",
    "import qiskit_metal as metal\n",
    "from qiskit_metal import Dict, MetalGUI, designs, draw\n",
    "from qiskit_metal.toolbox_metal import math_and_overrides\n",
    "\n",
    "design = metal.designs.design_planar.DesignPlanar()\n",
    "gui = metal.MetalGUI(design)\n",
    "design.overwrite_enabled = True\n",
    "\n",
    "qc = QubitCavity(design, \"qubit_cavity\", options=best_device[\"design_options\"]\n",
    ")\n",
    "gui.rebuild()\n",
    "gui.autoscale()\n",
    "gui.screenshot()"
   ]
  },
  {
   "cell_type": "markdown",
   "metadata": {},
   "source": [
    "After getting our best result, we once again initialize our AnsysSimulator object, this time on our new system, and then simulate."
   ]
  },
  {
   "cell_type": "code",
   "execution_count": null,
   "metadata": {},
   "outputs": [],
   "source": [
    "ansys_simulator = AnsysSimulator(analyzer, best_device)"
   ]
  },
  {
   "cell_type": "code",
   "execution_count": null,
   "metadata": {},
   "outputs": [],
   "source": [
    "ansys_results = ansys_simulator.simulate(best_device)\n",
    "ansys_results"
   ]
  },
  {
   "cell_type": "markdown",
   "metadata": {},
   "source": [
    "To extract the simulated Hamiltonian parameters, we look at the `sim_results` key in our `ansys_results` dictionary:"
   ]
  },
  {
   "cell_type": "code",
   "execution_count": null,
   "metadata": {},
   "outputs": [],
   "source": [
    "hamiltonian_results = ansys_results[\"sim_results\"]\n",
    "hamiltonian_results"
   ]
  },
  {
   "cell_type": "markdown",
   "metadata": {},
   "source": [
    "We can similarly get screenshots from Qiskit Metal and the Ansys renderer. Notice that the TransmonCross object and the cavity+claw object are rendered into the same design in Qiskit Metal. This is done purely out of convenience, and has no effect on the simulation results. This is shown in the renderer screenshots below, which show the TransmonCross and cavity+claw being rendered and simulated separately."
   ]
  },
  {
   "cell_type": "code",
   "execution_count": null,
   "metadata": {},
   "outputs": [],
   "source": [
    "ansys_simulator.get_design_screenshot()"
   ]
  },
  {
   "cell_type": "code",
   "execution_count": null,
   "metadata": {},
   "outputs": [],
   "source": [
    "ansys_simulator.get_renderer_screenshot()"
   ]
  },
  {
   "cell_type": "markdown",
   "metadata": {},
   "source": [
    "We can also plot our complete custom QubitCavity device in Qiskit Metal. "
   ]
  },
  {
   "cell_type": "code",
   "execution_count": null,
   "metadata": {},
   "outputs": [],
   "source": [
    "ansys_simulator.plot_device(ansys_results)"
   ]
  },
  {
   "cell_type": "markdown",
   "metadata": {},
   "source": [
    "Finally, we can once again get relevant results dictionaries that will be useful if/when you decide to contribute your results to SQuADDS!"
   ]
  },
  {
   "cell_type": "code",
   "execution_count": null,
   "metadata": {},
   "outputs": [],
   "source": [
    "design_dict = ansys_results[\"design\"]\n",
    "design_dict"
   ]
  },
  {
   "cell_type": "code",
   "execution_count": null,
   "metadata": {},
   "outputs": [],
   "source": [
    "sim_options_dict = ansys_results[\"sim_options\"]\n",
    "sim_options_dict"
   ]
  },
  {
   "cell_type": "code",
   "execution_count": null,
   "metadata": {},
   "outputs": [],
   "source": [
    "sim_results_dict = ansys_results[\"sim_results\"]\n",
    "sim_results_dict"
   ]
  },
  {
   "cell_type": "markdown",
   "metadata": {},
   "source": [
    "We can once again update the units for our results. However, this time, the units are not all the same, so we must specify individual units."
   ]
  },
  {
   "cell_type": "code",
   "execution_count": null,
   "metadata": {},
   "outputs": [],
   "source": [
    "sim_results_dict.update({\n",
    "    \"cavity_frequency_GHz_unit\": \"GHz\",\n",
    "    \"g_MHz_unit\": \"MHz\",\n",
    "    \"anharmonicity_MHz_unit\": \"MHz\",\n",
    "    \"kappa_kHz_unit\": \"kHz\",\n",
    "    \"qubit_frequency_GHz_unit\": \"GHz\",\n",
    "})\n",
    "sim_results_dict"
   ]
  },
  {
   "cell_type": "markdown",
   "metadata": {},
   "source": [
    "## Simulating an Interdigitated Capacitor Device"
   ]
  },
  {
   "cell_type": "markdown",
   "metadata": {},
   "source": [
    "We can now explore running a set of simulations sweeping over certain specified parameters for a device. In this case, we choose an interdigitated coupler device. Notice how the `total_length` parameter under `cpw_opts` in our `geometry_dict` is a `list` instead of a `String`. This lets our AnsysSimulator know that we wish to simulate this device [in this case] three total times, i.e. with the CPW `total_length=2000um`, with CPW `total_length = 4000um`, and with CPW `total_length = 7000um`. We can similarly specify sweeping over other parameters, using the same list syntax to denote which parameters should be swept over, and with respect to what dimensions, and the sweep will be done combinatorically with every combination of parameters specified."
   ]
  },
  {
   "cell_type": "code",
   "execution_count": null,
   "metadata": {},
   "outputs": [],
   "source": [
    "ncap_sweep_dict = {\n",
    "    \"coupling_type\": \"NCAP\",\n",
    "    \"geometry_dict\": {\n",
    "        \"claw_opts\": {\n",
    "            \"connection_pads\": {\n",
    "                \"readout\": {\n",
    "                    \"connector_location\": \"90\",\n",
    "                    \"connector_type\": \"0\",\n",
    "                    \"claw_length\": \"50um\",\n",
    "                    \"ground_spacing\": \"10um\",\n",
    "                    \"claw_gap\": \"5.1um\",\n",
    "                    \"claw_width\": \"7um\",\n",
    "                    \"claw_cpw_width\": \"11.7um\",\n",
    "                    \"claw_cpw_length\": \"0um\"\n",
    "                }\n",
    "            },\n",
    "            \"cross_width\": \"30um\",\n",
    "            \"cross_length\": \"300um\",\n",
    "            \"cross_gap\": \"30um\",\n",
    "            \"orientation\": \"-90\",\n",
    "            \"pos_x\": \"-1000um\"\n",
    "        },\n",
    "        \"cpw_opts\": {\n",
    "            \"fillet\": \"49.9um\",\n",
    "            \"total_length\": [\"2000um\", \"4000um\", \"7000um\"],\n",
    "            \"trace_width\": \"11.7um\",\n",
    "            \"trace_gap\": \"5.1um\",\n",
    "            \"lead\": {\n",
    "                \"start_straight\": \"50um\"\n",
    "            },\n",
    "            \"pin_inputs\": {\n",
    "                \"start_pin\": {\n",
    "                    \"component\": \"cplr\",\n",
    "                    \"pin\": \"second_end\"\n",
    "                },\n",
    "                \"end_pin\": {\n",
    "                    \"component\": \"claw\",\n",
    "                    \"pin\": \"readout\"\n",
    "                }\n",
    "            }\n",
    "        },\n",
    "        \"cplr_opts\": {\n",
    "            'prime_width': '11.7um',\n",
    "            'prime_gap': '5.1um',\n",
    "            'second_width': '11.7um',\n",
    "            'second_gap': '5.1um',\n",
    "            'cap_gap': '5um',\n",
    "            'cap_width': '10um',\n",
    "            'cap_gap_ground': '5.1um',\n",
    "            'finger_length': '30um',\n",
    "            'finger_count': '5',\n",
    "            'cap_distance': '50.9um',\n",
    "        }\n",
    "    }\n",
    "}"
   ]
  },
  {
   "cell_type": "markdown",
   "metadata": {},
   "source": [
    "We can also specify a setup for the sweep, though a default high-accuracy one will be assigned. Currently, we only support eigenmode and LOM sweeps for TransmonCross, CavityClaw, and InterdigitatedCavityClaw objects, but more support will be added as necessary. (Note that in our example setup, the `max_passes` parameter is set to `1`; this is for the sake of speed/demonstration only, it is HIGHLY recommended to run more than 1 pass for your more important simulations)"
   ]
  },
  {
   "cell_type": "code",
   "execution_count": null,
   "metadata": {},
   "outputs": [],
   "source": [
    "example_eigenmode_setup = {\n",
    "    \"setup\": {\n",
    "        'basis_order': 1,\n",
    "        'max_delta_f': 0.05,\n",
    "        'max_passes': 1,\n",
    "        'min_converged': 1,\n",
    "        'min_converged_passes': 2,\n",
    "        'min_freq_ghz': 1,\n",
    "        'min_passes': 1,\n",
    "        'n_modes': 1,\n",
    "        'name': 'default_eigenmode_setup',\n",
    "        'pct_refinement': 30,\n",
    "        'reuse_selected_design': True,\n",
    "        'reuse_setup': True,\n",
    "        'vars': {'Cj': '0fF', 'Lj': '0nH'}\n",
    "    }\n",
    "}"
   ]
  },
  {
   "cell_type": "markdown",
   "metadata": {},
   "source": [
    "Finally, call `ansys_simulator.sweep()` on our sweep dictionary, and include your `setup` dictionary if desired."
   ]
  },
  {
   "cell_type": "code",
   "execution_count": null,
   "metadata": {},
   "outputs": [],
   "source": [
    "ansys_simulator.sweep(ncap_sweep_dict, emode_setup=example_eigenmode_setup)"
   ]
  },
  {
   "cell_type": "markdown",
   "metadata": {},
   "source": [
    "The sweeper code saves the resuts of every iteration of the sweep into a `json` file, which can be found in the same folder as this Tutorial."
   ]
  },
  {
   "cell_type": "markdown",
   "metadata": {},
   "source": [
    "## License\n",
    "\n",
    "<div style='width: 100%; background-color:#3cb1c2;color:#324344;padding-left: 10px; padding-bottom: 10px; padding-right: 10px; padding-top: 5px'>\n",
    "    <h3>This code is a part of SQuADDS</h3>\n",
    "    <p>Developed by Sadman Ahmed Shanto</p>\n",
    "    <p>&copy; Copyright Sadman Ahmed Shanto & Eli Levenson-Falk 2023.</p>\n",
    "    <p>This code is licensed under the MIT License. You may<br> obtain a copy of this license in the LICENSE.txt file in the root directory<br> of this source tree.</p>\n",
    "    <p>Any modifications or derivative works of this code must retain this<br>copyright notice, and modified files need to carry a notice indicating<br>that they have been altered from the originals.</p>\n",
    "</div>"
   ]
  }
 ],
 "metadata": {
  "kernelspec": {
   "display_name": "qiskit_metal",
   "language": "python",
   "name": "python3"
  },
  "language_info": {
   "codemirror_mode": {
    "name": "ipython",
    "version": 3
   },
   "file_extension": ".py",
   "mimetype": "text/x-python",
   "name": "python",
   "nbconvert_exporter": "python",
   "pygments_lexer": "ipython3",
   "version": "3.10.6"
  }
 },
 "nbformat": 4,
 "nbformat_minor": 2
}

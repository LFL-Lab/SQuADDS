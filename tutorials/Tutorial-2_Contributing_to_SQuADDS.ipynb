{
 "cells": [
  {
   "cell_type": "markdown",
   "metadata": {},
   "source": [
    "# Tutorial 2: Contributing to SQuADDS\n",
    "\n",
    "In this tutorial, we will go over the basics of contributing to SQuADDS. We will cover the following topics:\n",
    "\n",
    "0. [Contribution Information Setup](#setup)\n",
    "1. [Understanding the terminology and database structure](#structure)\n",
    "2. [Contributing to an existing database node](#contribution)\n",
    "3. [Creating new database node](#creation)\n",
    "4. [Building on top of others works](#missing)\n",
    "\n",
    "---"
   ]
  },
  {
   "cell_type": "code",
   "execution_count": 86,
   "metadata": {},
   "outputs": [
    {
     "name": "stdout",
     "output_type": "stream",
     "text": [
      "The autoreload extension is already loaded. To reload it, use:\n",
      "  %reload_ext autoreload\n"
     ]
    }
   ],
   "source": [
    "%load_ext autoreload\n",
    "%autoreload 2"
   ]
  },
  {
   "cell_type": "code",
   "execution_count": 14,
   "metadata": {},
   "outputs": [
    {
     "name": "stdout",
     "output_type": "stream",
     "text": [
      "Obtaining file:///Users/shanto/LFL/SQuADDS/SQuADDS\n",
      "  Preparing metadata (setup.py) ... \u001b[?25ldone\n",
      "\u001b[?25hInstalling collected packages: SQuADDS\n",
      "  Attempting uninstall: SQuADDS\n",
      "    Found existing installation: SQuADDS 0.1\n",
      "    Uninstalling SQuADDS-0.1:\n",
      "      Successfully uninstalled SQuADDS-0.1\n",
      "  Running setup.py develop for SQuADDS\n",
      "Successfully installed SQuADDS-0.1\n"
     ]
    }
   ],
   "source": [
    "!pip install -e ../."
   ]
  },
  {
   "cell_type": "markdown",
   "metadata": {},
   "source": [
    "## Contribution Information Setup <a name=\"setup\"></a>\n",
    "\n",
    "In order to contribute to SQuADDS, you will need to provide some information about yourself. This information will be used to track your contributions and to give you credit for your work. You can provide this information by updating the following variables in the `.env` file in the root directory of the repository:\n",
    "\n",
    "```\n",
    "GROUP_NAME = \"\"\n",
    "PI_NAME = \"\"\n",
    "INSTITUTION = \"\"\n",
    "USER_NAME = \"\"\n",
    "```\n",
    "\n",
    "Or you can provide this information by executing the following cell.\n"
   ]
  },
  {
   "cell_type": "code",
   "execution_count": 17,
   "metadata": {},
   "outputs": [],
   "source": [
    "from squadds.database import *"
   ]
  },
  {
   "cell_type": "code",
   "execution_count": null,
   "metadata": {},
   "outputs": [],
   "source": [
    "create_contributor_info()"
   ]
  },
  {
   "cell_type": "markdown",
   "metadata": {},
   "source": [
    "## Understanding the terminology and database structure <a name=\"structure\"></a>"
   ]
  },
  {
   "cell_type": "markdown",
   "metadata": {},
   "source": [
    "- HuggingFace\n",
    "- Datasets\n",
    "- Configurations\n",
    "- Structure of SQuADDS_DB\n",
    "- Adding to SQuADDS_DB"
   ]
  },
  {
   "cell_type": "code",
   "execution_count": null,
   "metadata": {},
   "outputs": [],
   "source": []
  },
  {
   "cell_type": "markdown",
   "metadata": {},
   "source": [
    "## Where we left of in Tutorial 1 - *Contributing to an existing configuration* <a name=\"contribution\"></a>"
   ]
  },
  {
   "cell_type": "code",
   "execution_count": null,
   "metadata": {},
   "outputs": [],
   "source": []
  },
  {
   "cell_type": "markdown",
   "metadata": {},
   "source": [
    "### How to contribute to an existing configuration:\n",
    "\n",
    "1. **Clone/Fork the Repository**: If you have not already forked or cloned the repository, do so.\n",
    "\n",
    "2. **Create or Checkout a Branch**: If adding new data, it might be best to do it on a new branch:\n",
    "\n",
    "   ```sh\n",
    "   git checkout -b add_to_configuration\n",
    "   ```\n",
    "\n",
    "3. **Modify the Configuration**: Add or modify the data files as necessary for the configuration. Make sure to follow any guidelines provided by the dataset maintainers for the specific structure and format required.\n",
    "\n",
    "4. **Commit and Push Your Changes**: Commit the new data and push it to your fork:\n",
    "\n",
    "   ```sh\n",
    "   git add .\n",
    "   git commit -m \"Add new data to configuration Y\"\n",
    "   git push origin add_to_configuration\n",
    "   ```\n",
    "\n",
    "5. **Pull Request**: Create a pull request against the original repository.\n",
    "\n",
    "---"
   ]
  },
  {
   "cell_type": "markdown",
   "metadata": {},
   "source": [
    "## Contributing a New Configuration <a name=\"creation\"></a>\n",
    "\n",
    "We may find that we possess a dataset that is not currently included in SQuADDS. In this case, we can add a new configuration to SQuADDS.\n",
    "\n",
    "But before we do that, we need to make sure that the dataset is in a format that is compatible with SQuADDS. In order to do this, we need to refer back to the structure of SQuADDS."
   ]
  },
  {
   "cell_type": "markdown",
   "metadata": {},
   "source": [
    "### Data Processing:\n",
    "\n",
    "We want the data to be in a `json` format with **AT LEAST** to have the following fields. You can add as many more supplementary fields as you want.\n",
    "\n",
    "```json\n",
    "{\n",
    "    \"design\":{\n",
    "        \"design_options\": design_options,\n",
    "        \"design_tool\": design_tool_name, \n",
    "    },\n",
    "    \"sim_options\":{\n",
    "        \"setup\": sim_setup_options,\n",
    "        \"simulator\": simulator_name,\n",
    "    },\n",
    "    \"sim_results\":{\n",
    "        \"result1\": sim_result1,\n",
    "        \"unit1\": unit1,\n",
    "        \"result2\": sim_result2,\n",
    "        \"unit2\": unit2,\n",
    "    },\n",
    "    \"contributor\":{\n",
    "        \"group\": group_name,\n",
    "        \"PI\": pi_name,\n",
    "        \"institution\": institution,\n",
    "        \"uploader\": user_name,\n",
    "        \"date_created\": \"YYYY-MM-DD-HHMMSS\",\n",
    "    },\n",
    "}\n",
    "```\n",
    "\n",
    "If all the `sim_results` has the same units you can just use a `\"units\":units` field instead of repeating the unit for each result."
   ]
  },
  {
   "cell_type": "code",
   "execution_count": null,
   "metadata": {},
   "outputs": [],
   "source": []
  },
  {
   "cell_type": "markdown",
   "metadata": {},
   "source": [
    "### How to contribute a new configuration:\n",
    "\n",
    "1. **Fork the Dataset Repository**: On the Hugging Face Hub, fork the dataset repository you want to contribute to.\n",
    "\n",
    "2. **Clone Your Fork Locally**: Clone the forked repository to your local machine using the following command:\n",
    "\n",
    "   ```sh\n",
    "   git clone https://huggingface.co/datasets/YOUR_USERNAME/DATASET_NAME\n",
    "   ```\n",
    "\n",
    "3. **Create a New Branch**: It's a good practice to create a new branch for your configuration contribution:\n",
    "\n",
    "   ```sh\n",
    "   git checkout -b new_configuration\n",
    "   ```\n",
    "\n",
    "4. **Add Your Configuration**: Depending on the dataset's structure, this might involve adding new files or modifying existing ones. If the dataset uses the `datasets` library's builder configurations, you will need to modify the Python script that defines the configurations.\n",
    "\n",
    "5. **Commit Your Changes**: Commit the changes with a clear commit message:\n",
    "\n",
    "   ```sh\n",
    "   git add .\n",
    "   git commit -m \"Add new configuration for circuit element X\"\n",
    "   ```\n",
    "\n",
    "6. **Push to Your Fork**: Push your new branch to your fork on the Hugging Face Hub:\n",
    "\n",
    "   ```sh\n",
    "   git push origin new_configuration\n",
    "   ```\n",
    "\n",
    "7. **Create a Pull Request**: Go to the Hugging Face Hub, navigate to your fork, and create a pull request for your new branch. The pull request will be reviewed by the dataset maintainers."
   ]
  },
  {
   "cell_type": "code",
   "execution_count": null,
   "metadata": {},
   "outputs": [],
   "source": []
  },
  {
   "cell_type": "markdown",
   "metadata": {},
   "source": [
    "## Building on top of others works <a name=\"missing\"></a>"
   ]
  },
  {
   "cell_type": "markdown",
   "metadata": {},
   "source": [
    "We might have some data that can be appended to an existing dataset in SQuADDS. In this case, we can add to the existing configuration in `SQuADDS_DB` without pushing new entries to the original dataset."
   ]
  },
  {
   "cell_type": "code",
   "execution_count": null,
   "metadata": {},
   "outputs": [],
   "source": []
  },
  {
   "cell_type": "markdown",
   "metadata": {},
   "source": [
    "## License\n",
    "<div style='width: 100%; background-color:#d5d9e0;padding-left: 10px; padding-bottom: 10px; padding-right: 10px; padding-top: 5px'>\n",
    "    <h3>This code is a part of SQuADDS</h3>\n",
    "    <p>Developed by Sadman Ahmed Shanto</p>\n",
    "    <p>&copy; Copyright Sadman Ahmed Shanto & Eli Levenson-Falk 2023.</p>\n",
    "    <p>This code is licensed under the MIT License. You may<br>obtain a copy of this license in the LICENSE.txt file in the root directory<br> of this source tree.</p>\n",
    "    <p>Any modifications or derivative works of this code must retain this<br>copyright notice, and modified files need to carry a notice indicating<br>that they have been altered from the originals.</p>\n",
    "</div>\n"
   ]
  }
 ],
 "metadata": {
  "kernelspec": {
   "display_name": "Python 3",
   "language": "python",
   "name": "python3"
  },
  "language_info": {
   "codemirror_mode": {
    "name": "ipython",
    "version": 3
   },
   "file_extension": ".py",
   "mimetype": "text/x-python",
   "name": "python",
   "nbconvert_exporter": "python",
   "pygments_lexer": "ipython3",
   "version": "3.10.6"
  }
 },
 "nbformat": 4,
 "nbformat_minor": 2
}

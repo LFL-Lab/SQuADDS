{
 "cells": [
  {
   "cell_type": "code",
   "execution_count": 3,
   "metadata": {},
   "outputs": [],
   "source": [
    "%load_ext autoreload\n",
    "%autoreload 2"
   ]
  },
  {
   "cell_type": "code",
   "execution_count": 4,
   "metadata": {},
   "outputs": [
    {
     "name": "stdout",
     "output_type": "stream",
     "text": [
      "Obtaining file:///Users/shanto/LFL/SQuADDS/SQuADDS\n",
      "  Preparing metadata (setup.py) ... \u001b[?25ldone\n",
      "\u001b[?25hInstalling collected packages: SQuADDS\n",
      "  Attempting uninstall: SQuADDS\n",
      "    Found existing installation: SQuADDS 0.1\n",
      "    Uninstalling SQuADDS-0.1:\n",
      "      Successfully uninstalled SQuADDS-0.1\n",
      "  Running setup.py develop for SQuADDS\n",
      "Successfully installed SQuADDS-0.1\n"
     ]
    }
   ],
   "source": [
    "!pip install -e ../."
   ]
  },
  {
   "cell_type": "markdown",
   "metadata": {},
   "source": [
    "## HuggingFace\n",
    "\n",
    "- [HuggingFace](https://huggingface.co/)\n",
    "\n",
    "### Creating an Account\n",
    "\n",
    "Follow the instructions here - [HuggingFace: Sign Up](https://huggingface.co/join) - to create an account.\n",
    "\n",
    "Once you have created an account, you can get your API key from the [settings page](https://huggingface.co/settings/token).\n",
    "\n",
    "Please update the `HUGGINGFACE_API_KEY` variable in the `.env` file with your API key or execute the following code to set the environment variable."
   ]
  },
  {
   "cell_type": "code",
   "execution_count": 11,
   "metadata": {},
   "outputs": [
    {
     "name": "stdout",
     "output_type": "stream",
     "text": [
      "API key already exists in .env file.\n"
     ]
    }
   ],
   "source": [
    "from squadds.core.utils import set_huggingface_api_key\n",
    "\n",
    "set_huggingface_api_key()"
   ]
  },
  {
   "cell_type": "code",
   "execution_count": null,
   "metadata": {},
   "outputs": [],
   "source": []
  }
 ],
 "metadata": {
  "kernelspec": {
   "display_name": "Python 3",
   "language": "python",
   "name": "python3"
  },
  "language_info": {
   "codemirror_mode": {
    "name": "ipython",
    "version": 3
   },
   "file_extension": ".py",
   "mimetype": "text/x-python",
   "name": "python",
   "nbconvert_exporter": "python",
   "pygments_lexer": "ipython3",
   "version": "3.10.6"
  }
 },
 "nbformat": 4,
 "nbformat_minor": 2
}

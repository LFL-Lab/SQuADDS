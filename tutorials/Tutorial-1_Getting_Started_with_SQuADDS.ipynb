{
 "cells": [
  {
   "cell_type": "markdown",
   "metadata": {},
   "source": [
    "# Tutorial 1: Getting Started with SQuADDS\n",
    "\n",
    "In this tutorial, we will walk you through some basic usage of SQuADDS. By the end of this tutorial, you will be able to:\n",
    "\n",
    "- Have an HuggingFace account\n",
    "\n",
    "- Access the SQuADDS Database\n",
    "\n",
    "- Use the SQuADDS API to query for closest and \"best-guess\" interpolated device designs for your chosen Hamiltonian parameters\n",
    "\n",
    "- Simulate the \"best-guess\" design using an EM solver tool"
   ]
  },
  {
   "cell_type": "code",
   "execution_count": null,
   "metadata": {},
   "outputs": [],
   "source": [
    "! conda list | grep squadds"
   ]
  },
  {
   "cell_type": "code",
   "execution_count": 1,
   "metadata": {},
   "outputs": [],
   "source": [
    "%load_ext autoreload\n",
    "%autoreload 2"
   ]
  },
  {
   "cell_type": "markdown",
   "metadata": {},
   "source": [
    "Since the SQuADDS Database is hosted on [HuggingFace](https://huggingface.co/), we will need to create an account and get an API key to access the database.\n",
    "\n",
    "## HuggingFace 🤗 \n",
    "\n",
    "HuggingFace is a company that provides a large number of NLP models and datasets. They also provide a platform to host your own models and datasets.\n",
    "\n",
    "### Creating an  Account\n",
    "\n",
    "Follow the instructions here - [HuggingFace: Sign Up](https://huggingface.co/join) - to create an account.\n",
    "\n",
    "Once you have created an account, you can get your API key from the [settings page](https://huggingface.co/settings/token).\n",
    "\n",
    "Please update the `HUGGINGFACE_API_KEY` variable in the `.env` file with your API key **OR** execute the following code to set the environment variable."
   ]
  },
  {
   "cell_type": "code",
   "execution_count": null,
   "metadata": {},
   "outputs": [],
   "source": [
    "from squadds.core.utils import set_huggingface_api_key\n",
    "\n",
    "set_huggingface_api_key()"
   ]
  },
  {
   "cell_type": "markdown",
   "metadata": {},
   "source": [
    "### Login\n",
    "\n",
    "To login to your HuggingFace account, run the following command in your terminal:\n",
    "\n",
    "```bash\n",
    "huggingface-cli login\n",
    "```\n",
    "\n"
   ]
  },
  {
   "cell_type": "markdown",
   "metadata": {},
   "source": [
    "You will be prompted to enter your username and password. Once you have logged in, you can check your login status by running the following command:\n",
    "\n",
    "```bash\n",
    "huggingface-cli whoami\n",
    "```"
   ]
  },
  {
   "cell_type": "markdown",
   "metadata": {},
   "source": [
    "### Accessing the SQuADDS Database using the HuggingFace API\n",
    "\n",
    "The SQuADDS Database is hosted on HuggingFace. You can access the database using the `datasets` library from HuggingFace."
   ]
  },
  {
   "cell_type": "code",
   "execution_count": null,
   "metadata": {},
   "outputs": [],
   "source": [
    "from datasets import get_dataset_config_names\n",
    "from datasets import load_dataset\n",
    "\n",
    "configs = get_dataset_config_names(\"SQuADDS/SQuADDS_DB\")"
   ]
  },
  {
   "cell_type": "markdown",
   "metadata": {},
   "source": [
    "You can navigate the database using HuggingFace API. For example, you can access the qubit database using the following code:"
   ]
  },
  {
   "cell_type": "code",
   "execution_count": null,
   "metadata": {},
   "outputs": [],
   "source": [
    "qubit_data = load_dataset(\"SQuADDS/SQuADDS_DB\", configs[0])"
   ]
  },
  {
   "cell_type": "code",
   "execution_count": null,
   "metadata": {},
   "outputs": [],
   "source": [
    "qubit_data"
   ]
  },
  {
   "cell_type": "markdown",
   "metadata": {},
   "source": [
    "Each configuration in the dataset is uniquely identified by their `config`. For the SQuADDS Database, the `config` string is created in the following format:\n",
    "\n",
    "```python\n",
    "config = f\"{component}_{component_name}_{data_type}\"\n",
    "```\n",
    "\n",
    "where `component` is the name of the component, `component_name` is the name of the component (in Qiskit Metal), and `data_type` is the type of simulation data that has been contributed.\n",
    "\n",
    "Lets check what the `config` string looks like for our database:"
   ]
  },
  {
   "cell_type": "code",
   "execution_count": null,
   "metadata": {},
   "outputs": [],
   "source": [
    "components = []\n",
    "component_names = []\n",
    "data_types = []\n",
    "\n",
    "for config in configs:\n",
    "    components.append(config.split(\"-\")[0])\n",
    "    component_names.append(config.split(\"-\")[1])\n",
    "    data_types.append(config.split(\"-\")[2])\n",
    "    \n",
    "print(components)\n",
    "print(component_names)\n",
    "print(data_types)\n",
    "    "
   ]
  },
  {
   "cell_type": "markdown",
   "metadata": {},
   "source": [
    "## Using the SQuADDS API to access and anlyze the database\n",
    "\n",
    "While it is possible to directly access the SQuADDS Database using the `datasets` library, we have created a simple API to make it easier to query the database.\n",
    "\n",
    "The main object we use to access the database is the `SQuADDS_DB` class. "
   ]
  },
  {
   "cell_type": "code",
   "execution_count": 2,
   "metadata": {},
   "outputs": [
    {
     "name": "stdout",
     "output_type": "stream",
     "text": [
      "DotNet Core correctly loaded.\n"
     ]
    },
    {
     "data": {
      "application/vnd.jupyter.widget-view+json": {
       "model_id": "faeebcd2818e48199992a24baaa78044",
       "version_major": 2,
       "version_minor": 0
      },
      "text/plain": [
       "Downloading readme:   0%|          | 0.00/2.25k [00:00<?, ?B/s]"
      ]
     },
     "metadata": {},
     "output_type": "display_data"
    }
   ],
   "source": [
    "from squadds import SQuADDS_DB\n",
    "\n",
    "db = SQuADDS_DB()"
   ]
  },
  {
   "cell_type": "markdown",
   "metadata": {},
   "source": [
    "You can get a summary of the datasets by running."
   ]
  },
  {
   "cell_type": "code",
   "execution_count": null,
   "metadata": {},
   "outputs": [],
   "source": [
    "db.view_datasets()"
   ]
  },
  {
   "cell_type": "markdown",
   "metadata": {},
   "source": [
    "To check for the `config` names"
   ]
  },
  {
   "cell_type": "code",
   "execution_count": null,
   "metadata": {},
   "outputs": [],
   "source": [
    "db.get_configs()"
   ]
  },
  {
   "cell_type": "markdown",
   "metadata": {},
   "source": [
    "If you are interested to learn more about each configuration, you can do so by using the `get_dataset_info` method.\n"
   ]
  },
  {
   "cell_type": "code",
   "execution_count": null,
   "metadata": {},
   "outputs": [],
   "source": [
    "db.get_dataset_info(component=\"qubit\", component_name=\"TransmonCross\", data_type=\"cap_matrix\")"
   ]
  },
  {
   "cell_type": "code",
   "execution_count": null,
   "metadata": {},
   "outputs": [],
   "source": [
    "db.get_dataset_info(component=\"cavity_claw\", component_name=\"RouteMeander\", data_type=\"eigenmode\")"
   ]
  },
  {
   "cell_type": "markdown",
   "metadata": {},
   "source": [
    "You can get the entire dataset as a Pandas DataFrame by using the `get_dataset` method."
   ]
  },
  {
   "cell_type": "code",
   "execution_count": null,
   "metadata": {},
   "outputs": [],
   "source": [
    "db.see_dataset(component=\"qubit\", component_name=\"TransmonCross\", data_type=\"cap_matrix\")"
   ]
  },
  {
   "cell_type": "markdown",
   "metadata": {},
   "source": [
    "If you want to learn about the who contributed the data, you can use the following methods:"
   ]
  },
  {
   "cell_type": "code",
   "execution_count": null,
   "metadata": {},
   "outputs": [],
   "source": [
    "db.view_contributors_of(\"qubit\", \"TransmonCross\", \"cap_matrix\")"
   ]
  },
  {
   "cell_type": "code",
   "execution_count": null,
   "metadata": {},
   "outputs": [],
   "source": [
    "db.view_all_contributors()"
   ]
  },
  {
   "cell_type": "markdown",
   "metadata": {},
   "source": [
    "As the SQuADDS_DB dataset updates, so will all the information we have queried automatically. "
   ]
  },
  {
   "cell_type": "markdown",
   "metadata": {},
   "source": [
    "## Making Systems out of Circuit QED Elements\n",
    "\n",
    "One of the main use cases of the SQuADDS project is to get the design space parameters for systems of our interest using our desired Hamiltonian parameters."
   ]
  },
  {
   "cell_type": "markdown",
   "metadata": {},
   "source": [
    "Using the SQuADDS API, we can \"build\" a system by choosing the circuit QED components we want to use.\n",
    "\n",
    "The following subsections walks you through some examples."
   ]
  },
  {
   "cell_type": "markdown",
   "metadata": {},
   "source": [
    "### Querying for the a target qubit design\n",
    "\n",
    "Let's say you know the Hamiltonian parameters of a qubit you want to use. You can use the SQuADDS API to query for the closest design to your target qubit.\n",
    "\n",
    "We first need to select our sytem of interest."
   ]
  },
  {
   "cell_type": "code",
   "execution_count": null,
   "metadata": {},
   "outputs": [],
   "source": [
    "db.select_system(\"qubit\")"
   ]
  },
  {
   "cell_type": "markdown",
   "metadata": {},
   "source": [
    "Now, we need to specify to SQuADDS what type of `qubit` our system is. We can do this by using the `select_qubit` method."
   ]
  },
  {
   "cell_type": "code",
   "execution_count": null,
   "metadata": {},
   "outputs": [],
   "source": [
    "db.select_qubit(\"TransmonCross\")"
   ]
  },
  {
   "cell_type": "markdown",
   "metadata": {},
   "source": [
    "We now create the system dataframe so that we can query for the design parameters we are interested in."
   ]
  },
  {
   "cell_type": "code",
   "execution_count": null,
   "metadata": {},
   "outputs": [],
   "source": [
    "df = db.create_system_df()\n",
    "df"
   ]
  },
  {
   "cell_type": "markdown",
   "metadata": {},
   "source": [
    "Now that we have created our system dataframe, we can query for the closest design to our target qubit parameters. To do this we need to call the `Analyzer` object."
   ]
  },
  {
   "cell_type": "code",
   "execution_count": null,
   "metadata": {},
   "outputs": [],
   "source": [
    "from squadds import Analyzer"
   ]
  },
  {
   "cell_type": "markdown",
   "metadata": {},
   "source": [
    "We instatantaite the `Analyzer` object by passing in the `SQuADDS_DB` instance we created earlier."
   ]
  },
  {
   "cell_type": "code",
   "execution_count": null,
   "metadata": {},
   "outputs": [],
   "source": [
    "analyzer = Analyzer(db)"
   ]
  },
  {
   "cell_type": "markdown",
   "metadata": {},
   "source": [
    "We can now check for what type of Hamiltonian parameters are available for our chosen system"
   ]
  },
  {
   "cell_type": "code",
   "execution_count": null,
   "metadata": {},
   "outputs": [],
   "source": [
    "analyzer.target_param_keys()"
   ]
  },
  {
   "cell_type": "markdown",
   "metadata": {},
   "source": [
    "Now, Let's select a geometry which results in the closest qubit characteristics\n",
    "\n",
    "Call `Analyzer.find_closest`\n",
    "\n",
    "**Documentation:**\n",
    "\n",
    "```\n",
    "Finds the rows in the DataFrame with the closest matching characteristics\n",
    "to the given target parameters using a specified metric.\n",
    "\n",
    "Args:\n",
    "    target_params (dict): A dictionary containing the target values for columns in `self.df`.\n",
    "                          Keys are column names and values are the target values.\n",
    "    num_top (int): The number of closest matching rows to return.\n",
    "    metric (str, optional): The distance metric to use for finding the closest matches.\n",
    "                            Available options are specified in `self.__supported_metrics__`.\n",
    "                            Defaults to 'Euclidean'.\n",
    "    display (bool, optional): Whether to display warnings and logs. Defaults to True.\n",
    "\n",
    "Returns:\n",
    "    pd.DataFrame: A DataFrame containing the rows with the closest matching characteristics,\n",
    "                  sorted by the distance metric.\n",
    "\n",
    "Raises:\n",
    "    ValueError: If the specified metric is not supported or `num_top` exceeds the DataFrame size.\n",
    "```"
   ]
  },
  {
   "cell_type": "markdown",
   "metadata": {},
   "source": [
    "You are given the choice of the following metrics."
   ]
  },
  {
   "cell_type": "code",
   "execution_count": null,
   "metadata": {},
   "outputs": [],
   "source": [
    "analyzer.__supported_metrics__"
   ]
  },
  {
   "cell_type": "markdown",
   "metadata": {},
   "source": [
    "Define your Hamiltonian parameters that you want to use for your qubit "
   ]
  },
  {
   "cell_type": "code",
   "execution_count": null,
   "metadata": {},
   "outputs": [],
   "source": [
    "target_params={\"qubit_frequency_GHz\": 4, \"anharmonicity_MHz\": -200}"
   ]
  },
  {
   "cell_type": "code",
   "execution_count": null,
   "metadata": {},
   "outputs": [],
   "source": [
    "results = analyzer.find_closest(target_params=target_params,\n",
    "                                       num_top=3,\n",
    "                                       metric=\"Euclidean\",\n",
    "                                       display=True)\n",
    "results"
   ]
  },
  {
   "cell_type": "markdown",
   "metadata": {},
   "source": [
    "Thats it! You have now found some designs for your qubit that are closest to your target Hamiltonian parameters."
   ]
  },
  {
   "cell_type": "markdown",
   "metadata": {},
   "source": [
    "#### Using Custom Metrics\n",
    "\n",
    "To use a custom metric first define the function. For example, lets say we want the manhattan metric"
   ]
  },
  {
   "cell_type": "code",
   "execution_count": null,
   "metadata": {},
   "outputs": [],
   "source": [
    "def manhattan_distance(target, simulated):\n",
    "    return sum(abs(target[key] - simulated.get(key, 0)) for key in target)"
   ]
  },
  {
   "cell_type": "code",
   "execution_count": null,
   "metadata": {},
   "outputs": [],
   "source": [
    "analyzer.custom_metric_func = manhattan_distance"
   ]
  },
  {
   "cell_type": "code",
   "execution_count": null,
   "metadata": {},
   "outputs": [],
   "source": [
    "analyzer.find_closest(target_params=target_params,\n",
    "                                            num_top=1,\n",
    "                                            metric=\"Custom\",\n",
    "                                            display=True)"
   ]
  },
  {
   "cell_type": "code",
   "execution_count": null,
   "metadata": {},
   "outputs": [],
   "source": [
    "best_options = results.iloc[0][\"design_options\"]\n",
    "best_options"
   ]
  },
  {
   "cell_type": "markdown",
   "metadata": {},
   "source": [
    "You can pass in the `design_options` from the closest design to the `options` argument of your selected qubit and render it in qiskit metal."
   ]
  },
  {
   "cell_type": "code",
   "execution_count": null,
   "metadata": {},
   "outputs": [],
   "source": [
    "# Qiskit Metal imports\n",
    "import qiskit_metal as metal\n",
    "from qiskit_metal import designs, draw\n",
    "from qiskit_metal import MetalGUI, Dict\n",
    "from qiskit_metal.designs.design_multiplanar import MultiPlanar\n",
    "\n",
    "from qiskit_metal.qlibrary.qubits.transmon_cross import TransmonCross\n",
    "from qiskit_metal.qlibrary.couplers.coupled_line_tee import CoupledLineTee\n",
    "from qiskit_metal.qlibrary.tlines.meandered import RouteMeander\n",
    "from qiskit_metal.qlibrary.core import QRoute, QRoutePoint"
   ]
  },
  {
   "cell_type": "code",
   "execution_count": null,
   "metadata": {},
   "outputs": [],
   "source": [
    "design = MultiPlanar(metadata={},\n",
    "                     overwrite_enabled=True)\n",
    "gui = MetalGUI(design)"
   ]
  },
  {
   "cell_type": "code",
   "execution_count": null,
   "metadata": {},
   "outputs": [],
   "source": [
    "from qiskit_metal.qlibrary.qubits.transmon_cross import TransmonCross\n",
    "\n",
    "TransmonCross(design, \"transmon\", options=best_options)\n",
    "\n",
    "gui.rebuild()\n",
    "gui.zoom_on_components(['transmon'])\n",
    "gui.screenshot(\"qubit_only.png\")"
   ]
  },
  {
   "cell_type": "markdown",
   "metadata": {},
   "source": [
    "### Querying for a target cavity design\n",
    "\n",
    "The same workflow can be used to query for a target cavity design."
   ]
  },
  {
   "cell_type": "markdown",
   "metadata": {},
   "source": [
    "While it is not necessary, it may be a good idea to `unselect_all()` before creating a new system."
   ]
  },
  {
   "cell_type": "code",
   "execution_count": null,
   "metadata": {},
   "outputs": [],
   "source": [
    "db.unselect_all()"
   ]
  },
  {
   "cell_type": "markdown",
   "metadata": {},
   "source": [
    "Proceed with selecting the system of interest"
   ]
  },
  {
   "cell_type": "code",
   "execution_count": 3,
   "metadata": {},
   "outputs": [],
   "source": [
    "db.select_system(\"cavity_claw\")"
   ]
  },
  {
   "cell_type": "code",
   "execution_count": 4,
   "metadata": {},
   "outputs": [],
   "source": [
    "db.select_cavity_claw(\"RouteMeander\")"
   ]
  },
  {
   "cell_type": "code",
   "execution_count": 6,
   "metadata": {},
   "outputs": [],
   "source": [
    "db.select_coupler(\"CLT\")"
   ]
  },
  {
   "cell_type": "markdown",
   "metadata": {},
   "source": [
    "It's always a good idea to check that the system you have selected is correct."
   ]
  },
  {
   "cell_type": "code",
   "execution_count": 7,
   "metadata": {},
   "outputs": [
    {
     "name": "stdout",
     "output_type": "stream",
     "text": [
      "Selected component:  cavity_claw\n",
      "Selected component name:  RouteMeander\n",
      "Selected data type:  eigenmode\n",
      "Selected system:  cavity_claw\n",
      "Selected coupler:  NCap\n"
     ]
    }
   ],
   "source": [
    "db.show_selections()"
   ]
  },
  {
   "cell_type": "markdown",
   "metadata": {},
   "source": [
    "Great! lets create the system dataframe and analyze it."
   ]
  },
  {
   "cell_type": "code",
   "execution_count": 11,
   "metadata": {},
   "outputs": [
    {
     "data": {
      "application/vnd.jupyter.widget-view+json": {
       "model_id": "5ed16606f1f945929661bb3540834cc9",
       "version_major": 2,
       "version_minor": 0
      },
      "text/plain": [
       "Downloading data files:   0%|          | 0/1 [00:00<?, ?it/s]"
      ]
     },
     "metadata": {},
     "output_type": "display_data"
    },
    {
     "data": {
      "application/vnd.jupyter.widget-view+json": {
       "model_id": "bf7b4de5d79a47998c56e5a7e8f85a6c",
       "version_major": 2,
       "version_minor": 0
      },
      "text/plain": [
       "Extracting data files:   0%|          | 0/1 [00:00<?, ?it/s]"
      ]
     },
     "metadata": {},
     "output_type": "display_data"
    },
    {
     "data": {
      "application/vnd.jupyter.widget-view+json": {
       "model_id": "afdabfc6361445b6895b85abdcbcd747",
       "version_major": 2,
       "version_minor": 0
      },
      "text/plain": [
       "Generating train split: 0 examples [00:00, ? examples/s]"
      ]
     },
     "metadata": {},
     "output_type": "display_data"
    },
    {
     "name": "stdout",
     "output_type": "stream",
     "text": [
      "here\n"
     ]
    },
    {
     "name": "stderr",
     "output_type": "stream",
     "text": [
      "WARNING:py.warnings:SettingWithCopyWarning: \n",
      "A value is trying to be set on a copy of a slice from a DataFrame\n",
      "\n",
      "See the caveats in the documentation: https://pandas.pydata.org/pandas-docs/stable/user_guide/indexing.html#returning-a-view-versus-a-copy\n",
      " /Users/shanto/LFL/SQuADDS/SQuADDS/squadds/core/processing.py: 38\n"
     ]
    }
   ],
   "source": [
    "df = db.create_system_df()"
   ]
  },
  {
   "cell_type": "code",
   "execution_count": 12,
   "metadata": {},
   "outputs": [
    {
     "data": {
      "text/html": [
       "<div>\n",
       "<style scoped>\n",
       "    .dataframe tbody tr th:only-of-type {\n",
       "        vertical-align: middle;\n",
       "    }\n",
       "\n",
       "    .dataframe tbody tr th {\n",
       "        vertical-align: top;\n",
       "    }\n",
       "\n",
       "    .dataframe thead th {\n",
       "        text-align: right;\n",
       "    }\n",
       "</style>\n",
       "<table border=\"1\" class=\"dataframe\">\n",
       "  <thead>\n",
       "    <tr style=\"text-align: right;\">\n",
       "      <th></th>\n",
       "      <th>renderer_options</th>\n",
       "      <th>setup</th>\n",
       "      <th>simulator</th>\n",
       "      <th>PI</th>\n",
       "      <th>date_created</th>\n",
       "      <th>group</th>\n",
       "      <th>institution</th>\n",
       "      <th>misc</th>\n",
       "      <th>uploader</th>\n",
       "      <th>coupler_type</th>\n",
       "      <th>design_options</th>\n",
       "      <th>design_tool</th>\n",
       "      <th>resonator_type</th>\n",
       "      <th>cavity_frequency</th>\n",
       "      <th>kappa</th>\n",
       "      <th>units</th>\n",
       "    </tr>\n",
       "  </thead>\n",
       "  <tbody>\n",
       "    <tr>\n",
       "      <th>0</th>\n",
       "      <td>{'Cj': 0, 'Lj': '10nH', '_Rj': 0, 'design_name...</td>\n",
       "      <td>{'basis_order': 1, 'max_delta_f': 0.05, 'max_p...</td>\n",
       "      <td>Ansys HFSS</td>\n",
       "      <td>Eli Levenson-Falk</td>\n",
       "      <td>2024-02-26 230413</td>\n",
       "      <td>LFL</td>\n",
       "      <td>USC</td>\n",
       "      <td></td>\n",
       "      <td>Andre Kuo</td>\n",
       "      <td>NCap</td>\n",
       "      <td>{'claw_opts': {'connection_pads': {'readout': ...</td>\n",
       "      <td>Qiskit Metal</td>\n",
       "      <td>half</td>\n",
       "      <td>2.340374e+10</td>\n",
       "      <td>1.036676e+05</td>\n",
       "      <td>Hz</td>\n",
       "    </tr>\n",
       "    <tr>\n",
       "      <th>1</th>\n",
       "      <td>{'Cj': 0, 'Lj': '10nH', '_Rj': 0, 'design_name...</td>\n",
       "      <td>{'basis_order': 1, 'max_delta_f': 0.05, 'max_p...</td>\n",
       "      <td>Ansys HFSS</td>\n",
       "      <td>Eli Levenson-Falk</td>\n",
       "      <td>2024-02-26 230413</td>\n",
       "      <td>LFL</td>\n",
       "      <td>USC</td>\n",
       "      <td></td>\n",
       "      <td>Andre Kuo</td>\n",
       "      <td>NCap</td>\n",
       "      <td>{'claw_opts': {'connection_pads': {'readout': ...</td>\n",
       "      <td>Qiskit Metal</td>\n",
       "      <td>half</td>\n",
       "      <td>2.113782e+10</td>\n",
       "      <td>3.402642e+08</td>\n",
       "      <td>Hz</td>\n",
       "    </tr>\n",
       "    <tr>\n",
       "      <th>2</th>\n",
       "      <td>{'Cj': 0, 'Lj': '10nH', '_Rj': 0, 'design_name...</td>\n",
       "      <td>{'basis_order': 1, 'max_delta_f': 0.05, 'max_p...</td>\n",
       "      <td>Ansys HFSS</td>\n",
       "      <td>Eli Levenson-Falk</td>\n",
       "      <td>2024-02-26 230413</td>\n",
       "      <td>LFL</td>\n",
       "      <td>USC</td>\n",
       "      <td></td>\n",
       "      <td>Andre Kuo</td>\n",
       "      <td>NCap</td>\n",
       "      <td>{'claw_opts': {'connection_pads': {'readout': ...</td>\n",
       "      <td>Qiskit Metal</td>\n",
       "      <td>half</td>\n",
       "      <td>2.324348e+10</td>\n",
       "      <td>3.134809e+06</td>\n",
       "      <td>Hz</td>\n",
       "    </tr>\n",
       "    <tr>\n",
       "      <th>3</th>\n",
       "      <td>{'Cj': 0, 'Lj': '10nH', '_Rj': 0, 'design_name...</td>\n",
       "      <td>{'basis_order': 1, 'max_delta_f': 0.05, 'max_p...</td>\n",
       "      <td>Ansys HFSS</td>\n",
       "      <td>Eli Levenson-Falk</td>\n",
       "      <td>2024-02-26 230413</td>\n",
       "      <td>LFL</td>\n",
       "      <td>USC</td>\n",
       "      <td></td>\n",
       "      <td>Andre Kuo</td>\n",
       "      <td>NCap</td>\n",
       "      <td>{'claw_opts': {'connection_pads': {'readout': ...</td>\n",
       "      <td>Qiskit Metal</td>\n",
       "      <td>half</td>\n",
       "      <td>2.211518e+10</td>\n",
       "      <td>1.372273e+08</td>\n",
       "      <td>Hz</td>\n",
       "    </tr>\n",
       "    <tr>\n",
       "      <th>4</th>\n",
       "      <td>{'Cj': 0, 'Lj': '10nH', '_Rj': 0, 'design_name...</td>\n",
       "      <td>{'basis_order': 1, 'max_delta_f': 0.05, 'max_p...</td>\n",
       "      <td>Ansys HFSS</td>\n",
       "      <td>Eli Levenson-Falk</td>\n",
       "      <td>2024-02-26 230413</td>\n",
       "      <td>LFL</td>\n",
       "      <td>USC</td>\n",
       "      <td></td>\n",
       "      <td>Andre Kuo</td>\n",
       "      <td>NCap</td>\n",
       "      <td>{'claw_opts': {'connection_pads': {'readout': ...</td>\n",
       "      <td>Qiskit Metal</td>\n",
       "      <td>half</td>\n",
       "      <td>2.206441e+10</td>\n",
       "      <td>1.038850e+08</td>\n",
       "      <td>Hz</td>\n",
       "    </tr>\n",
       "    <tr>\n",
       "      <th>...</th>\n",
       "      <td>...</td>\n",
       "      <td>...</td>\n",
       "      <td>...</td>\n",
       "      <td>...</td>\n",
       "      <td>...</td>\n",
       "      <td>...</td>\n",
       "      <td>...</td>\n",
       "      <td>...</td>\n",
       "      <td>...</td>\n",
       "      <td>...</td>\n",
       "      <td>...</td>\n",
       "      <td>...</td>\n",
       "      <td>...</td>\n",
       "      <td>...</td>\n",
       "      <td>...</td>\n",
       "      <td>...</td>\n",
       "    </tr>\n",
       "    <tr>\n",
       "      <th>174575</th>\n",
       "      <td>{'Cj': 0, 'Lj': '10nH', '_Rj': 0, 'design_name...</td>\n",
       "      <td>{'basis_order': 1, 'max_delta_f': 0.05, 'max_p...</td>\n",
       "      <td>Ansys HFSS</td>\n",
       "      <td>Eli Levenson-Falk</td>\n",
       "      <td>2024-02-26 230413</td>\n",
       "      <td>LFL</td>\n",
       "      <td>USC</td>\n",
       "      <td></td>\n",
       "      <td>Andre Kuo</td>\n",
       "      <td>NCap</td>\n",
       "      <td>{'claw_opts': {'connection_pads': {'readout': ...</td>\n",
       "      <td>Qiskit Metal</td>\n",
       "      <td>half</td>\n",
       "      <td>7.828629e+09</td>\n",
       "      <td>1.562383e+04</td>\n",
       "      <td>Hz</td>\n",
       "    </tr>\n",
       "    <tr>\n",
       "      <th>174576</th>\n",
       "      <td>{'Cj': 0, 'Lj': '10nH', '_Rj': 0, 'design_name...</td>\n",
       "      <td>{'basis_order': 1, 'max_delta_f': 0.05, 'max_p...</td>\n",
       "      <td>Ansys HFSS</td>\n",
       "      <td>Eli Levenson-Falk</td>\n",
       "      <td>2024-02-26 230413</td>\n",
       "      <td>LFL</td>\n",
       "      <td>USC</td>\n",
       "      <td></td>\n",
       "      <td>Andre Kuo</td>\n",
       "      <td>NCap</td>\n",
       "      <td>{'claw_opts': {'connection_pads': {'readout': ...</td>\n",
       "      <td>Qiskit Metal</td>\n",
       "      <td>half</td>\n",
       "      <td>7.822024e+09</td>\n",
       "      <td>1.892392e+05</td>\n",
       "      <td>Hz</td>\n",
       "    </tr>\n",
       "    <tr>\n",
       "      <th>174577</th>\n",
       "      <td>{'Cj': 0, 'Lj': '10nH', '_Rj': 0, 'design_name...</td>\n",
       "      <td>{'basis_order': 1, 'max_delta_f': 0.05, 'max_p...</td>\n",
       "      <td>Ansys HFSS</td>\n",
       "      <td>Eli Levenson-Falk</td>\n",
       "      <td>2024-02-26 230413</td>\n",
       "      <td>LFL</td>\n",
       "      <td>USC</td>\n",
       "      <td></td>\n",
       "      <td>Andre Kuo</td>\n",
       "      <td>NCap</td>\n",
       "      <td>{'claw_opts': {'connection_pads': {'readout': ...</td>\n",
       "      <td>Qiskit Metal</td>\n",
       "      <td>half</td>\n",
       "      <td>7.681137e+09</td>\n",
       "      <td>3.690513e+06</td>\n",
       "      <td>Hz</td>\n",
       "    </tr>\n",
       "    <tr>\n",
       "      <th>174578</th>\n",
       "      <td>{'Cj': 0, 'Lj': '10nH', '_Rj': 0, 'design_name...</td>\n",
       "      <td>{'basis_order': 1, 'max_delta_f': 0.05, 'max_p...</td>\n",
       "      <td>Ansys HFSS</td>\n",
       "      <td>Eli Levenson-Falk</td>\n",
       "      <td>2024-02-26 230413</td>\n",
       "      <td>LFL</td>\n",
       "      <td>USC</td>\n",
       "      <td></td>\n",
       "      <td>Andre Kuo</td>\n",
       "      <td>NCap</td>\n",
       "      <td>{'claw_opts': {'connection_pads': {'readout': ...</td>\n",
       "      <td>Qiskit Metal</td>\n",
       "      <td>half</td>\n",
       "      <td>7.840742e+09</td>\n",
       "      <td>1.860282e+05</td>\n",
       "      <td>Hz</td>\n",
       "    </tr>\n",
       "    <tr>\n",
       "      <th>174579</th>\n",
       "      <td>{'Cj': 0, 'Lj': '10nH', '_Rj': 0, 'design_name...</td>\n",
       "      <td>{'basis_order': 1, 'max_delta_f': 0.05, 'max_p...</td>\n",
       "      <td>Ansys HFSS</td>\n",
       "      <td>Eli Levenson-Falk</td>\n",
       "      <td>2024-02-26 230413</td>\n",
       "      <td>LFL</td>\n",
       "      <td>USC</td>\n",
       "      <td></td>\n",
       "      <td>Andre Kuo</td>\n",
       "      <td>NCap</td>\n",
       "      <td>{'claw_opts': {'connection_pads': {'readout': ...</td>\n",
       "      <td>Qiskit Metal</td>\n",
       "      <td>half</td>\n",
       "      <td>7.711911e+09</td>\n",
       "      <td>3.511993e+06</td>\n",
       "      <td>Hz</td>\n",
       "    </tr>\n",
       "  </tbody>\n",
       "</table>\n",
       "<p>174580 rows × 16 columns</p>\n",
       "</div>"
      ],
      "text/plain": [
       "                                         renderer_options  \\\n",
       "0       {'Cj': 0, 'Lj': '10nH', '_Rj': 0, 'design_name...   \n",
       "1       {'Cj': 0, 'Lj': '10nH', '_Rj': 0, 'design_name...   \n",
       "2       {'Cj': 0, 'Lj': '10nH', '_Rj': 0, 'design_name...   \n",
       "3       {'Cj': 0, 'Lj': '10nH', '_Rj': 0, 'design_name...   \n",
       "4       {'Cj': 0, 'Lj': '10nH', '_Rj': 0, 'design_name...   \n",
       "...                                                   ...   \n",
       "174575  {'Cj': 0, 'Lj': '10nH', '_Rj': 0, 'design_name...   \n",
       "174576  {'Cj': 0, 'Lj': '10nH', '_Rj': 0, 'design_name...   \n",
       "174577  {'Cj': 0, 'Lj': '10nH', '_Rj': 0, 'design_name...   \n",
       "174578  {'Cj': 0, 'Lj': '10nH', '_Rj': 0, 'design_name...   \n",
       "174579  {'Cj': 0, 'Lj': '10nH', '_Rj': 0, 'design_name...   \n",
       "\n",
       "                                                    setup   simulator  \\\n",
       "0       {'basis_order': 1, 'max_delta_f': 0.05, 'max_p...  Ansys HFSS   \n",
       "1       {'basis_order': 1, 'max_delta_f': 0.05, 'max_p...  Ansys HFSS   \n",
       "2       {'basis_order': 1, 'max_delta_f': 0.05, 'max_p...  Ansys HFSS   \n",
       "3       {'basis_order': 1, 'max_delta_f': 0.05, 'max_p...  Ansys HFSS   \n",
       "4       {'basis_order': 1, 'max_delta_f': 0.05, 'max_p...  Ansys HFSS   \n",
       "...                                                   ...         ...   \n",
       "174575  {'basis_order': 1, 'max_delta_f': 0.05, 'max_p...  Ansys HFSS   \n",
       "174576  {'basis_order': 1, 'max_delta_f': 0.05, 'max_p...  Ansys HFSS   \n",
       "174577  {'basis_order': 1, 'max_delta_f': 0.05, 'max_p...  Ansys HFSS   \n",
       "174578  {'basis_order': 1, 'max_delta_f': 0.05, 'max_p...  Ansys HFSS   \n",
       "174579  {'basis_order': 1, 'max_delta_f': 0.05, 'max_p...  Ansys HFSS   \n",
       "\n",
       "                       PI       date_created group institution misc  \\\n",
       "0       Eli Levenson-Falk  2024-02-26 230413   LFL         USC        \n",
       "1       Eli Levenson-Falk  2024-02-26 230413   LFL         USC        \n",
       "2       Eli Levenson-Falk  2024-02-26 230413   LFL         USC        \n",
       "3       Eli Levenson-Falk  2024-02-26 230413   LFL         USC        \n",
       "4       Eli Levenson-Falk  2024-02-26 230413   LFL         USC        \n",
       "...                   ...                ...   ...         ...  ...   \n",
       "174575  Eli Levenson-Falk  2024-02-26 230413   LFL         USC        \n",
       "174576  Eli Levenson-Falk  2024-02-26 230413   LFL         USC        \n",
       "174577  Eli Levenson-Falk  2024-02-26 230413   LFL         USC        \n",
       "174578  Eli Levenson-Falk  2024-02-26 230413   LFL         USC        \n",
       "174579  Eli Levenson-Falk  2024-02-26 230413   LFL         USC        \n",
       "\n",
       "         uploader coupler_type  \\\n",
       "0       Andre Kuo         NCap   \n",
       "1       Andre Kuo         NCap   \n",
       "2       Andre Kuo         NCap   \n",
       "3       Andre Kuo         NCap   \n",
       "4       Andre Kuo         NCap   \n",
       "...           ...          ...   \n",
       "174575  Andre Kuo         NCap   \n",
       "174576  Andre Kuo         NCap   \n",
       "174577  Andre Kuo         NCap   \n",
       "174578  Andre Kuo         NCap   \n",
       "174579  Andre Kuo         NCap   \n",
       "\n",
       "                                           design_options   design_tool  \\\n",
       "0       {'claw_opts': {'connection_pads': {'readout': ...  Qiskit Metal   \n",
       "1       {'claw_opts': {'connection_pads': {'readout': ...  Qiskit Metal   \n",
       "2       {'claw_opts': {'connection_pads': {'readout': ...  Qiskit Metal   \n",
       "3       {'claw_opts': {'connection_pads': {'readout': ...  Qiskit Metal   \n",
       "4       {'claw_opts': {'connection_pads': {'readout': ...  Qiskit Metal   \n",
       "...                                                   ...           ...   \n",
       "174575  {'claw_opts': {'connection_pads': {'readout': ...  Qiskit Metal   \n",
       "174576  {'claw_opts': {'connection_pads': {'readout': ...  Qiskit Metal   \n",
       "174577  {'claw_opts': {'connection_pads': {'readout': ...  Qiskit Metal   \n",
       "174578  {'claw_opts': {'connection_pads': {'readout': ...  Qiskit Metal   \n",
       "174579  {'claw_opts': {'connection_pads': {'readout': ...  Qiskit Metal   \n",
       "\n",
       "       resonator_type  cavity_frequency         kappa units  \n",
       "0                half      2.340374e+10  1.036676e+05    Hz  \n",
       "1                half      2.113782e+10  3.402642e+08    Hz  \n",
       "2                half      2.324348e+10  3.134809e+06    Hz  \n",
       "3                half      2.211518e+10  1.372273e+08    Hz  \n",
       "4                half      2.206441e+10  1.038850e+08    Hz  \n",
       "...               ...               ...           ...   ...  \n",
       "174575           half      7.828629e+09  1.562383e+04    Hz  \n",
       "174576           half      7.822024e+09  1.892392e+05    Hz  \n",
       "174577           half      7.681137e+09  3.690513e+06    Hz  \n",
       "174578           half      7.840742e+09  1.860282e+05    Hz  \n",
       "174579           half      7.711911e+09  3.511993e+06    Hz  \n",
       "\n",
       "[174580 rows x 16 columns]"
      ]
     },
     "execution_count": 12,
     "metadata": {},
     "output_type": "execute_result"
    }
   ],
   "source": [
    "df"
   ]
  },
  {
   "cell_type": "code",
   "execution_count": null,
   "metadata": {},
   "outputs": [],
   "source": [
    "analyzer = Analyzer(db)"
   ]
  },
  {
   "cell_type": "code",
   "execution_count": null,
   "metadata": {},
   "outputs": [],
   "source": [
    "analyzer.target_param_keys()"
   ]
  },
  {
   "cell_type": "markdown",
   "metadata": {},
   "source": [
    "Select the Hamiltonian parameters you want to use for your cavity and search for the closest designs."
   ]
  },
  {
   "cell_type": "code",
   "execution_count": null,
   "metadata": {},
   "outputs": [],
   "source": [
    "target_params = {\"cavity_frequency_GHz\": 6.9,\n",
    "                \"kappa_kHz\": 120,\n",
    "                \"resonator_type\":\"quarter\"}"
   ]
  },
  {
   "cell_type": "code",
   "execution_count": null,
   "metadata": {},
   "outputs": [],
   "source": [
    "results = analyzer.find_closest(target_params=target_params,\n",
    "                                       num_top=5,\n",
    "                                       metric=\"Euclidean\",\n",
    "                                       display=True)\n",
    "results"
   ]
  },
  {
   "cell_type": "markdown",
   "metadata": {},
   "source": [
    "Similarly, if we wanted a `half`-wave resonator (i.e. has an `NCap` coupling to the feedline), we can do the following:"
   ]
  },
  {
   "cell_type": "code",
   "execution_count": null,
   "metadata": {},
   "outputs": [],
   "source": [
    "db.unselect_all()\n",
    "\n",
    "db.select_system(\"cavity_claw\")\n",
    "db.select_cavity_claw(\"RouteMeander\")\n",
    "db.select_coupler(\"NCap\")"
   ]
  },
  {
   "cell_type": "code",
   "execution_count": null,
   "metadata": {},
   "outputs": [],
   "source": [
    "df = db.create_system_df()"
   ]
  },
  {
   "cell_type": "code",
   "execution_count": null,
   "metadata": {},
   "outputs": [],
   "source": [
    "analyzer = Analyzer(db)"
   ]
  },
  {
   "cell_type": "code",
   "execution_count": null,
   "metadata": {},
   "outputs": [],
   "source": [
    "target_params = {\"cavity_frequency_GHz\": 6.9,\n",
    "                \"kappa_kHz\": 120,\n",
    "                \"resonator_type\":\"half\"}"
   ]
  },
  {
   "cell_type": "code",
   "execution_count": null,
   "metadata": {},
   "outputs": [],
   "source": [
    "cavity_df = db.get_dataset(data_type=\"eigenmode\", component=\"cavity_claw\", component_name=\"RouteMeander\")"
   ]
  },
  {
   "cell_type": "code",
   "execution_count": null,
   "metadata": {},
   "outputs": [],
   "source": [
    "cavity_df = cavity_df[cavity_df[\"coupler_type\"] == \"NCap\"]"
   ]
  },
  {
   "cell_type": "code",
   "execution_count": null,
   "metadata": {},
   "outputs": [],
   "source": [
    "ncap_df = db.get_dataset(data_type=\"cap_matrix\", component=\"coupler\", component_name=\"NCap\") #TODO: handle dynamically"
   ]
  },
  {
   "cell_type": "code",
   "execution_count": null,
   "metadata": {},
   "outputs": [],
   "source": [
    "ncap_df"
   ]
  },
  {
   "cell_type": "code",
   "execution_count": null,
   "metadata": {},
   "outputs": [],
   "source": [
    "from squadds.core.processing import *"
   ]
  },
  {
   "cell_type": "code",
   "execution_count": null,
   "metadata": {},
   "outputs": [],
   "source": [
    "merger_terms = ['prime_width', 'prime_gap'] \n",
    "ncap_sim_cols = ['bottom_to_bottom', 'bottom_to_ground', 'ground_to_ground',\n",
    "            'top_to_bottom', 'top_to_ground', 'top_to_top', \"units\"]"
   ]
  },
  {
   "cell_type": "code",
   "execution_count": null,
   "metadata": {},
   "outputs": [],
   "source": [
    "merged_df_old = update_ncap_parameters(cavity_df, ncap_df, merger_terms, ncap_sim_cols)"
   ]
  },
  {
   "cell_type": "code",
   "execution_count": null,
   "metadata": {},
   "outputs": [],
   "source": [
    "freqs_old, kappa_old = merged_df_old[\"cavity_frequency\"].values, merged_df_old[\"kappa\"].values"
   ]
  },
  {
   "cell_type": "code",
   "execution_count": null,
   "metadata": {},
   "outputs": [],
   "source": [
    "merged_df_dev = update_ncap_parameters(cavity_df, ncap_df, merger_terms, ncap_sim_cols)"
   ]
  },
  {
   "cell_type": "code",
   "execution_count": null,
   "metadata": {},
   "outputs": [],
   "source": [
    "freqs_dev, kappa_dev = merged_df_dev[\"cavity_frequency\"].values, merged_df_dev[\"kappa\"].values"
   ]
  },
  {
   "cell_type": "code",
   "execution_count": null,
   "metadata": {},
   "outputs": [],
   "source": [
    "merged_df_dev.columns"
   ]
  },
  {
   "cell_type": "code",
   "execution_count": null,
   "metadata": {},
   "outputs": [],
   "source": [
    "qubit_df = db.get_dataset(data_type=\"cap_matrix\", component=\"qubit\", component_name=\"TransmonCross\") #TODO: handle dynamically"
   ]
  },
  {
   "cell_type": "code",
   "execution_count": null,
   "metadata": {},
   "outputs": [],
   "source": [
    "# only include the first 100 rows for the sake of the example\n",
    "merged_df_old = merged_df_old.iloc[:100]"
   ]
  },
  {
   "cell_type": "code",
   "execution_count": null,
   "metadata": {},
   "outputs": [],
   "source": [
    "df = db.create_qubit_cavity_df(qubit_df, cavity_df, merger_terms=['claw_width', 'claw_length', 'claw_gap'])"
   ]
  },
  {
   "cell_type": "code",
   "execution_count": null,
   "metadata": {},
   "outputs": [],
   "source": [
    "df.columns"
   ]
  },
  {
   "cell_type": "code",
   "execution_count": null,
   "metadata": {},
   "outputs": [],
   "source": [
    "df_dev = create_qubit_cavity_df(qubit_df, merged_df_old, merger_terms=['claw_width', 'claw_length', 'claw_gap'])"
   ]
  },
  {
   "cell_type": "code",
   "execution_count": null,
   "metadata": {},
   "outputs": [],
   "source": []
  },
  {
   "cell_type": "code",
   "execution_count": null,
   "metadata": {},
   "outputs": [],
   "source": [
    "best_device_design_ncap = df.iloc[0][\"design_options\"]"
   ]
  },
  {
   "cell_type": "code",
   "execution_count": null,
   "metadata": {},
   "outputs": [],
   "source": [
    "from squadds.components.coupled_systems import QubitCavity\n",
    "import qiskit_metal as metal\n",
    "from qiskit_metal import Dict, MetalGUI, designs, draw\n",
    "from qiskit_metal.toolbox_metal import math_and_overrides\n",
    "\n",
    "design = metal.designs.design_planar.DesignPlanar()\n",
    "gui = metal.MetalGUI(design)\n",
    "design.overwrite_enabled = True\n",
    "\n",
    "qc_ncap = QubitCavity(design, \"qubit_cavity\", options=best_device_design_ncap)\n",
    "gui.rebuild()\n",
    "gui.autoscale()\n",
    "gui.screenshot()"
   ]
  },
  {
   "cell_type": "code",
   "execution_count": null,
   "metadata": {},
   "outputs": [],
   "source": [
    "from squadds import SQuADDS_DB\n",
    "from squadds import Analyzer\n",
    "\n",
    "\n",
    "db = SQuADDS_DB()\n",
    "\n",
    "db.select_system([\"qubit\",\"cavity_claw\"])\n",
    "db.select_qubit(\"TransmonCross\")\n",
    "db.select_cavity_claw(\"RouteMeander\")\n",
    "db.select_coupler(\"NCap\")\n",
    "merged_df = db.create_system_df()"
   ]
  },
  {
   "cell_type": "code",
   "execution_count": null,
   "metadata": {},
   "outputs": [],
   "source": [
    "target_params = {\n",
    "                \"qubit_frequency_GHz\": 4,\n",
    "                \"cavity_frequency_GHz\": 6.2,\n",
    "                \"kappa_kHz\": 120,\n",
    "                \"resonator_type\":\"half\",\n",
    "                \"anharmonicity_MHz\": -200,\n",
    "                \"g_MHz\": 70}\n",
    "\n",
    "analyzer = Analyzer(db)\n",
    "results = analyzer.find_closest(target_params=target_params,\n",
    "                                       num_top=1,\n",
    "                                       metric=\"Euclidean\")"
   ]
  },
  {
   "cell_type": "code",
   "execution_count": null,
   "metadata": {},
   "outputs": [],
   "source": [
    "best_device = results.iloc[0]\n",
    "best_device_design_ncap = best_device[\"design_options\"]\n",
    "best_device_design_ncap"
   ]
  },
  {
   "cell_type": "code",
   "execution_count": null,
   "metadata": {},
   "outputs": [],
   "source": [
    "from squadds.components.coupled_systems import QubitCavity\n",
    "import qiskit_metal as metal\n",
    "from qiskit_metal import Dict, MetalGUI, designs, draw\n",
    "from qiskit_metal.toolbox_metal import math_and_overrides\n",
    "\n",
    "design = metal.designs.design_planar.DesignPlanar()\n",
    "gui = metal.MetalGUI(design)\n",
    "design.overwrite_enabled = True\n",
    "\n",
    "qc_ncap = QubitCavity(design, \"qubit_cavity2\", options=best_device_design_ncap)\n",
    "gui.rebuild()\n",
    "gui.autoscale()\n",
    "gui.screenshot()"
   ]
  },
  {
   "cell_type": "code",
   "execution_count": null,
   "metadata": {},
   "outputs": [],
   "source": []
  },
  {
   "cell_type": "code",
   "execution_count": null,
   "metadata": {},
   "outputs": [],
   "source": [
    "%matplotlib inline"
   ]
  },
  {
   "cell_type": "code",
   "execution_count": null,
   "metadata": {},
   "outputs": [],
   "source": [
    "import matplotlib.pyplot as plt"
   ]
  },
  {
   "cell_type": "code",
   "execution_count": null,
   "metadata": {},
   "outputs": [],
   "source": [
    "plt.plot(freqs_old/freqs_dev, label=\"Frequency\")\n",
    "plt.show()"
   ]
  },
  {
   "cell_type": "code",
   "execution_count": null,
   "metadata": {},
   "outputs": [],
   "source": [
    "plt.plot(kappa_old/kappa_dev, label=\"Kappa\")\n",
    "plt.show()"
   ]
  },
  {
   "cell_type": "code",
   "execution_count": null,
   "metadata": {},
   "outputs": [],
   "source": [
    "plt.hist(kappa_dev*1e-6,bins=100,range=(0,200))\n",
    "plt.show()"
   ]
  },
  {
   "cell_type": "code",
   "execution_count": null,
   "metadata": {},
   "outputs": [],
   "source": []
  },
  {
   "cell_type": "code",
   "execution_count": null,
   "metadata": {},
   "outputs": [],
   "source": []
  },
  {
   "cell_type": "code",
   "execution_count": null,
   "metadata": {},
   "outputs": [],
   "source": [
    "results = analyzer.find_closest(target_params=target_params,\n",
    "                                       num_top=5,\n",
    "                                       metric=\"Euclidean\",\n",
    "                                       display=True)\n",
    "results"
   ]
  },
  {
   "cell_type": "markdown",
   "metadata": {},
   "source": [
    "Lets say we want to use the \"Weighted Euclidean\" metric to find the closest design to our target cavity parameters.\n",
    "\n",
    "#### Weighted Euclidean Metric\n",
    "\n",
    "You can do a weighted Euclidean metric instead.\n",
    "\n",
    "$$\n",
    "F(\\{P_i\\},\\{p_i\\}) = \\sum_i w_i\\frac{(P_i - p_i)^2}{P_i^2}\n",
    "$$\n",
    "\n",
    "Here \\( w_i \\) are weights which default to 1 if not user-defined.\n",
    "\n",
    "Note: The default metric for `find_closest` is `Euclidean` when not user-defined.\n"
   ]
  },
  {
   "cell_type": "code",
   "execution_count": null,
   "metadata": {},
   "outputs": [],
   "source": [
    "# Set up the weights\n",
    "analyzer.metric_weights = {\"cavity_frequency_GHz\": 2, \"kappa_kHz\": 1}"
   ]
  },
  {
   "cell_type": "code",
   "execution_count": null,
   "metadata": {},
   "outputs": [],
   "source": [
    "results = analyzer.find_closest(target_params=target_params,\n",
    "                                       num_top=3,\n",
    "                                       metric=\"Weighted Euclidean\",\n",
    "                                       display=True)\n",
    "results"
   ]
  },
  {
   "cell_type": "markdown",
   "metadata": {},
   "source": [
    "### Querying for a target qubit-cavity design\n",
    "\n",
    "Again, we follow the same procedure as before."
   ]
  },
  {
   "cell_type": "code",
   "execution_count": null,
   "metadata": {},
   "outputs": [],
   "source": [
    "db.select_system([\"qubit\",\"cavity_claw\"])"
   ]
  },
  {
   "cell_type": "code",
   "execution_count": null,
   "metadata": {},
   "outputs": [],
   "source": [
    "db.select_qubit(\"TransmonCross\")\n",
    "db.select_cavity_claw(\"RouteMeander\")\n",
    "db.select_coupler(\"CLT\")"
   ]
  },
  {
   "cell_type": "code",
   "execution_count": null,
   "metadata": {},
   "outputs": [],
   "source": [
    "db.show_selections()"
   ]
  },
  {
   "cell_type": "code",
   "execution_count": null,
   "metadata": {},
   "outputs": [],
   "source": [
    "merged_df = db.create_system_df()"
   ]
  },
  {
   "cell_type": "code",
   "execution_count": null,
   "metadata": {},
   "outputs": [],
   "source": [
    "merged_df"
   ]
  },
  {
   "cell_type": "markdown",
   "metadata": {},
   "source": [
    "Pass the `SQuADDS_DB` instance to the `Analyzer` object."
   ]
  },
  {
   "cell_type": "code",
   "execution_count": null,
   "metadata": {},
   "outputs": [],
   "source": [
    "analyzer = Analyzer(db)"
   ]
  },
  {
   "cell_type": "markdown",
   "metadata": {},
   "source": [
    "Always good to check whether the system you have selected is correct."
   ]
  },
  {
   "cell_type": "code",
   "execution_count": null,
   "metadata": {},
   "outputs": [],
   "source": [
    "db.selected_system"
   ]
  },
  {
   "cell_type": "code",
   "execution_count": null,
   "metadata": {},
   "outputs": [],
   "source": [
    "analyzer.selected_system"
   ]
  },
  {
   "cell_type": "markdown",
   "metadata": {},
   "source": [
    "Define the `target_params` for your qubit-cavity system."
   ]
  },
  {
   "cell_type": "code",
   "execution_count": null,
   "metadata": {},
   "outputs": [],
   "source": [
    "target_params = {\n",
    "                \"qubit_frequency_GHz\": 4,\n",
    "                \"cavity_frequency_GHz\": 6.2,\n",
    "                \"kappa_kHz\": 120,\n",
    "                \"resonator_type\":\"quarter\",\n",
    "                \"anharmonicity_MHz\": -200,\n",
    "                \"g_MHz\": 70}"
   ]
  },
  {
   "cell_type": "code",
   "execution_count": null,
   "metadata": {},
   "outputs": [],
   "source": [
    "results = analyzer.find_closest(target_params=target_params,\n",
    "                                       num_top=3,\n",
    "                                       metric=\"Euclidean\",\n",
    "                                       display=True)\n",
    "results"
   ]
  },
  {
   "cell_type": "markdown",
   "metadata": {},
   "source": [
    "Awesome! we have some designs for our qubit-cavity system. To see where the closest design lies in the Hamiltonian parameter space, we can use the `closest_design_in_H_space` method."
   ]
  },
  {
   "cell_type": "code",
   "execution_count": null,
   "metadata": {},
   "outputs": [],
   "source": [
    "%matplotlib inline"
   ]
  },
  {
   "cell_type": "code",
   "execution_count": null,
   "metadata": {},
   "outputs": [],
   "source": [
    "analyzer.closest_design_in_H_space()"
   ]
  },
  {
   "cell_type": "markdown",
   "metadata": {},
   "source": [
    "#### Interpolation of Best Designs\n",
    "\n",
    "Even though the `closest_design` will become better as more validated pre-simulated points are added to the database, it is still a good idea to interpolate to get the best designs."
   ]
  },
  {
   "cell_type": "markdown",
   "metadata": {},
   "source": [
    "We use the physics inspired interpolation algorithm described in our [paper](https://arxiv.org/pdf/2312.13483.pdf) - `ScalingInterpolator` class to interpolate the best designs."
   ]
  },
  {
   "cell_type": "code",
   "execution_count": null,
   "metadata": {},
   "outputs": [],
   "source": [
    "from squadds.interpolations.physics import ScalingInterpolator"
   ]
  },
  {
   "cell_type": "markdown",
   "metadata": {},
   "source": [
    "We pass the `Analzyer` object and the `target_params` dict to the `ScalingInterpolator` class."
   ]
  },
  {
   "cell_type": "code",
   "execution_count": null,
   "metadata": {},
   "outputs": [],
   "source": [
    "# Create an instance of ScalingInterpolator\n",
    "interpolator = ScalingInterpolator(analyzer, target_params)\n",
    "\n",
    "design_df = interpolator.get_design()"
   ]
  },
  {
   "cell_type": "markdown",
   "metadata": {},
   "source": [
    "The `design_df` contains the various `design_options` for the best designs and also the `sim_options` needed to simulate them."
   ]
  },
  {
   "cell_type": "code",
   "execution_count": null,
   "metadata": {},
   "outputs": [],
   "source": [
    "design_df"
   ]
  },
  {
   "cell_type": "markdown",
   "metadata": {},
   "source": [
    "Congrats for making it to the end of this tutorial! 🤗🎉 You have now learned how to use the SQuADDS API to query for closest and \"best-guess\" interpolated device designs for your chosen Hamiltonian parameters.\n",
    "\n",
    "## Next Steps...\n",
    "\n",
    "In the next [tutorial](https://lfl-lab.github.io/SQuADDS/source/tutorials/Tutorial-2_Simulate_interpolated_designs.html), we will learn how to simulate the \"best-guess\" design using an EM solver tool and the `SQuADDS` API."
   ]
  },
  {
   "cell_type": "markdown",
   "metadata": {},
   "source": [
    "## License\n",
    "\n",
    "<div style='width: 100%; background-color:#3cb1c2;color:#324344;padding-left: 10px; padding-bottom: 10px; padding-right: 10px; padding-top: 5px'>\n",
    "    <h3>This code is a part of SQuADDS</h3>\n",
    "    <p>Developed by Sadman Ahmed Shanto</p>\n",
    "    <p>&copy; Copyright Sadman Ahmed Shanto & Eli Levenson-Falk 2023.</p>\n",
    "    <p>This code is licensed under the MIT License. You may<br> obtain a copy of this license in the LICENSE.txt file in the root directory<br> of this source tree.</p>\n",
    "    <p>Any modifications or derivative works of this code must retain this<br>copyright notice, and modified files need to carry a notice indicating<br>that they have been altered from the originals.</p>\n",
    "</div>"
   ]
  }
 ],
 "metadata": {
  "kernelspec": {
   "display_name": "Python 3",
   "language": "python",
   "name": "python3"
  },
  "language_info": {
   "codemirror_mode": {
    "name": "ipython",
    "version": 3
   },
   "file_extension": ".py",
   "mimetype": "text/x-python",
   "name": "python",
   "nbconvert_exporter": "python",
   "pygments_lexer": "ipython3",
   "version": "3.10.6"
  }
 },
 "nbformat": 4,
 "nbformat_minor": 2
}

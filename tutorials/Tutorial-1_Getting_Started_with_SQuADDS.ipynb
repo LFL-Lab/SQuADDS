{
 "cells": [
  {
   "cell_type": "markdown",
   "metadata": {},
   "source": [
    "# Tutorial 1: Getting Started with SQuADDS\n",
    "\n",
    "In this tutorial, we will walk you through some basic usage of SQuADDS. By the end of this tutorial, you will be able to:\n",
    "\n",
    "- Have an HuggingFace account\n",
    "\n",
    "- Access the SQuADDS Database\n",
    "\n",
    "- Use the SQuADDS API to query for closest and \"best-guess\" interpolated device designs for your chosen Hamiltonian parameters\n",
    "\n",
    "- Simulate the \"best-guess\" design using an EM solver tool"
   ]
  },
  {
   "cell_type": "code",
   "execution_count": null,
   "metadata": {},
   "outputs": [],
   "source": [
    "! conda list | grep squadds"
   ]
  },
  {
   "cell_type": "code",
   "execution_count": 1,
   "metadata": {},
   "outputs": [],
   "source": [
    "%load_ext autoreload\n",
    "%autoreload 2"
   ]
  },
  {
   "cell_type": "markdown",
   "metadata": {},
   "source": [
    "Since the SQuADDS Database is hosted on [HuggingFace](https://huggingface.co/), we will need to create an account and get an API key to access the database.\n",
    "\n",
    "## HuggingFace 🤗 \n",
    "\n",
    "HuggingFace is a company that provides a large number of NLP models and datasets. They also provide a platform to host your own models and datasets.\n",
    "\n",
    "### Creating an  Account\n",
    "\n",
    "Follow the instructions here - [HuggingFace: Sign Up](https://huggingface.co/join) - to create an account.\n",
    "\n",
    "Once you have created an account, you can get your API key from the [settings page](https://huggingface.co/settings/token).\n",
    "\n",
    "Please update the `HUGGINGFACE_API_KEY` variable in the `.env` file with your API key **OR** execute the following code to set the environment variable."
   ]
  },
  {
   "cell_type": "code",
   "execution_count": null,
   "metadata": {},
   "outputs": [],
   "source": [
    "from squadds.core.utils import set_huggingface_api_key\n",
    "\n",
    "set_huggingface_api_key()"
   ]
  },
  {
   "cell_type": "markdown",
   "metadata": {},
   "source": [
    "### Login\n",
    "\n",
    "To login to your HuggingFace account, run the following command in your terminal:\n",
    "\n",
    "```bash\n",
    "huggingface-cli login\n",
    "```\n",
    "\n"
   ]
  },
  {
   "cell_type": "markdown",
   "metadata": {},
   "source": [
    "You will be prompted to enter your username and password. Once you have logged in, you can check your login status by running the following command:\n",
    "\n",
    "```bash\n",
    "huggingface-cli whoami\n",
    "```"
   ]
  },
  {
   "cell_type": "markdown",
   "metadata": {},
   "source": [
    "### Accessing the SQuADDS Database using the HuggingFace API\n",
    "\n",
    "The SQuADDS Database is hosted on HuggingFace. You can access the database using the `datasets` library from HuggingFace."
   ]
  },
  {
   "cell_type": "code",
   "execution_count": null,
   "metadata": {},
   "outputs": [],
   "source": [
    "from datasets import get_dataset_config_names\n",
    "from datasets import load_dataset\n",
    "\n",
    "configs = get_dataset_config_names(\"SQuADDS/SQuADDS_DB\")"
   ]
  },
  {
   "cell_type": "markdown",
   "metadata": {},
   "source": [
    "You can navigate the database using HuggingFace API. For example, you can access the qubit database using the following code:"
   ]
  },
  {
   "cell_type": "code",
   "execution_count": null,
   "metadata": {},
   "outputs": [],
   "source": [
    "qubit_data = load_dataset(\"SQuADDS/SQuADDS_DB\", configs[0])"
   ]
  },
  {
   "cell_type": "code",
   "execution_count": null,
   "metadata": {},
   "outputs": [],
   "source": [
    "qubit_data"
   ]
  },
  {
   "cell_type": "markdown",
   "metadata": {},
   "source": [
    "Each configuration in the dataset is uniquely identified by their `config`. For the SQuADDS Database, the `config` string is created in the following format:\n",
    "\n",
    "```python\n",
    "config = f\"{component}_{component_name}_{data_type}\"\n",
    "```\n",
    "\n",
    "where `component` is the name of the component, `component_name` is the name of the component (in Qiskit Metal), and `data_type` is the type of simulation data that has been contributed.\n",
    "\n",
    "Lets check what the `config` string looks like for our database:"
   ]
  },
  {
   "cell_type": "code",
   "execution_count": null,
   "metadata": {},
   "outputs": [],
   "source": [
    "components = []\n",
    "component_names = []\n",
    "data_types = []\n",
    "\n",
    "for config in configs:\n",
    "    components.append(config.split(\"-\")[0])\n",
    "    component_names.append(config.split(\"-\")[1])\n",
    "    data_types.append(config.split(\"-\")[2])\n",
    "    \n",
    "print(components)\n",
    "print(component_names)\n",
    "print(data_types)\n",
    "    "
   ]
  },
  {
   "cell_type": "markdown",
   "metadata": {},
   "source": [
    "## Using the SQuADDS API to access and anlyze the database\n",
    "\n",
    "While it is possible to directly access the SQuADDS Database using the `datasets` library, we have created a simple API to make it easier to query the database.\n",
    "\n",
    "The main object we use to access the database is the `SQuADDS_DB` class. "
   ]
  },
  {
   "cell_type": "code",
   "execution_count": 2,
   "metadata": {},
   "outputs": [
    {
     "name": "stdout",
     "output_type": "stream",
     "text": [
      "DotNet Core correctly loaded.\n"
     ]
    },
    {
     "data": {
      "application/vnd.jupyter.widget-view+json": {
       "model_id": "9ac268f45c7f4429bc095a4dc4402a91",
       "version_major": 2,
       "version_minor": 0
      },
      "text/plain": [
       "Downloading readme:   0%|          | 0.00/2.25k [00:00<?, ?B/s]"
      ]
     },
     "metadata": {},
     "output_type": "display_data"
    }
   ],
   "source": [
    "from squadds import SQuADDS_DB\n",
    "\n",
    "db = SQuADDS_DB()"
   ]
  },
  {
   "cell_type": "markdown",
   "metadata": {},
   "source": [
    "You can get a summary of the datasets by running."
   ]
  },
  {
   "cell_type": "code",
   "execution_count": null,
   "metadata": {},
   "outputs": [],
   "source": [
    "db.view_datasets()"
   ]
  },
  {
   "cell_type": "markdown",
   "metadata": {},
   "source": [
    "To check for the `config` names"
   ]
  },
  {
   "cell_type": "code",
   "execution_count": null,
   "metadata": {},
   "outputs": [],
   "source": [
    "db.get_configs()"
   ]
  },
  {
   "cell_type": "markdown",
   "metadata": {},
   "source": [
    "If you are interested to learn more about each configuration, you can do so by using the `get_dataset_info` method.\n"
   ]
  },
  {
   "cell_type": "code",
   "execution_count": null,
   "metadata": {},
   "outputs": [],
   "source": [
    "db.get_dataset_info(component=\"qubit\", component_name=\"TransmonCross\", data_type=\"cap_matrix\")"
   ]
  },
  {
   "cell_type": "code",
   "execution_count": null,
   "metadata": {},
   "outputs": [],
   "source": [
    "db.get_dataset_info(component=\"cavity_claw\", component_name=\"RouteMeander\", data_type=\"eigenmode\")"
   ]
  },
  {
   "cell_type": "markdown",
   "metadata": {},
   "source": [
    "You can get the entire dataset as a Pandas DataFrame by using the `get_dataset` method."
   ]
  },
  {
   "cell_type": "code",
   "execution_count": null,
   "metadata": {},
   "outputs": [],
   "source": [
    "db.see_dataset(component=\"qubit\", component_name=\"TransmonCross\", data_type=\"cap_matrix\")"
   ]
  },
  {
   "cell_type": "markdown",
   "metadata": {},
   "source": [
    "If you want to learn about the who contributed the data, you can use the following methods:"
   ]
  },
  {
   "cell_type": "code",
   "execution_count": null,
   "metadata": {},
   "outputs": [],
   "source": [
    "db.view_contributors_of(\"qubit\", \"TransmonCross\", \"cap_matrix\")"
   ]
  },
  {
   "cell_type": "code",
   "execution_count": null,
   "metadata": {},
   "outputs": [],
   "source": [
    "db.view_all_contributors()"
   ]
  },
  {
   "cell_type": "markdown",
   "metadata": {},
   "source": [
    "As the SQuADDS_DB dataset updates, so will all the information we have queried automatically. "
   ]
  },
  {
   "cell_type": "markdown",
   "metadata": {},
   "source": [
    "## Making Systems out of Circuit QED Elements\n",
    "\n",
    "One of the main use cases of the SQuADDS project is to get the design space parameters for systems of our interest using our desired Hamiltonian parameters."
   ]
  },
  {
   "cell_type": "markdown",
   "metadata": {},
   "source": [
    "Using the SQuADDS API, we can \"build\" a system by choosing the circuit QED components we want to use.\n",
    "\n",
    "The following subsections walks you through some examples."
   ]
  },
  {
   "cell_type": "markdown",
   "metadata": {},
   "source": [
    "### Querying for the a target qubit design\n",
    "\n",
    "Let's say you know the Hamiltonian parameters of a qubit you want to use. You can use the SQuADDS API to query for the closest design to your target qubit.\n",
    "\n",
    "We first need to select our sytem of interest."
   ]
  },
  {
   "cell_type": "code",
   "execution_count": 5,
   "metadata": {},
   "outputs": [],
   "source": [
    "db.select_system(\"qubit\")"
   ]
  },
  {
   "cell_type": "markdown",
   "metadata": {},
   "source": [
    "Now, we need to specify to SQuADDS what type of `qubit` our system is. We can do this by using the `select_qubit` method."
   ]
  },
  {
   "cell_type": "code",
   "execution_count": 6,
   "metadata": {},
   "outputs": [],
   "source": [
    "db.select_qubit(\"TransmonCross\")"
   ]
  },
  {
   "cell_type": "markdown",
   "metadata": {},
   "source": [
    "We now create the system dataframe so that we can query for the design parameters we are interested in."
   ]
  },
  {
   "cell_type": "code",
   "execution_count": 7,
   "metadata": {},
   "outputs": [
    {
     "data": {
      "application/vnd.jupyter.widget-view+json": {
       "model_id": "9026f90282da42d1864b5b14ff2fe011",
       "version_major": 2,
       "version_minor": 0
      },
      "text/plain": [
       "Downloading data files:   0%|          | 0/1 [00:00<?, ?it/s]"
      ]
     },
     "metadata": {},
     "output_type": "display_data"
    },
    {
     "data": {
      "application/vnd.jupyter.widget-view+json": {
       "model_id": "c3760be11fe84e0ebd1c74a64b94cddb",
       "version_major": 2,
       "version_minor": 0
      },
      "text/plain": [
       "Extracting data files:   0%|          | 0/1 [00:00<?, ?it/s]"
      ]
     },
     "metadata": {},
     "output_type": "display_data"
    },
    {
     "data": {
      "application/vnd.jupyter.widget-view+json": {
       "model_id": "f826bab190be48bb8b6d92e4c048ed09",
       "version_major": 2,
       "version_minor": 0
      },
      "text/plain": [
       "Generating train split: 0 examples [00:00, ? examples/s]"
      ]
     },
     "metadata": {},
     "output_type": "display_data"
    },
    {
     "data": {
      "text/html": [
       "<div>\n",
       "<style scoped>\n",
       "    .dataframe tbody tr th:only-of-type {\n",
       "        vertical-align: middle;\n",
       "    }\n",
       "\n",
       "    .dataframe tbody tr th {\n",
       "        vertical-align: top;\n",
       "    }\n",
       "\n",
       "    .dataframe thead th {\n",
       "        text-align: right;\n",
       "    }\n",
       "</style>\n",
       "<table border=\"1\" class=\"dataframe\">\n",
       "  <thead>\n",
       "    <tr style=\"text-align: right;\">\n",
       "      <th></th>\n",
       "      <th>design_options</th>\n",
       "      <th>design_tool</th>\n",
       "      <th>claw_to_claw</th>\n",
       "      <th>claw_to_ground</th>\n",
       "      <th>cross_to_claw</th>\n",
       "      <th>cross_to_cross</th>\n",
       "      <th>cross_to_ground</th>\n",
       "      <th>ground_to_ground</th>\n",
       "      <th>units</th>\n",
       "      <th>PI</th>\n",
       "      <th>date_created</th>\n",
       "      <th>group</th>\n",
       "      <th>institution</th>\n",
       "      <th>uploader</th>\n",
       "      <th>renderer_options</th>\n",
       "      <th>setup</th>\n",
       "      <th>simulator</th>\n",
       "    </tr>\n",
       "  </thead>\n",
       "  <tbody>\n",
       "    <tr>\n",
       "      <th>0</th>\n",
       "      <td>{'aedt_hfss_capacitance': 0, 'aedt_hfss_induct...</td>\n",
       "      <td>qiskit-metal</td>\n",
       "      <td>94.97421</td>\n",
       "      <td>90.86585</td>\n",
       "      <td>3.73363</td>\n",
       "      <td>158.40783</td>\n",
       "      <td>158.40783</td>\n",
       "      <td>311.25590</td>\n",
       "      <td>fF</td>\n",
       "      <td>Eli Levenson-Falk, PhD</td>\n",
       "      <td>2023-09-20-142547</td>\n",
       "      <td>LFL</td>\n",
       "      <td>USC</td>\n",
       "      <td>Andre Kuo</td>\n",
       "      <td>{'Cj': 0, 'Lj': '10nH', '_Rj': 0, 'design_name...</td>\n",
       "      <td>{'auto_increase_solution_order': True, 'enable...</td>\n",
       "      <td>Ansys HFSS</td>\n",
       "    </tr>\n",
       "    <tr>\n",
       "      <th>1</th>\n",
       "      <td>{'aedt_hfss_capacitance': 0, 'aedt_hfss_induct...</td>\n",
       "      <td>qiskit-metal</td>\n",
       "      <td>82.44280</td>\n",
       "      <td>79.19378</td>\n",
       "      <td>2.93820</td>\n",
       "      <td>188.15089</td>\n",
       "      <td>188.15089</td>\n",
       "      <td>333.52997</td>\n",
       "      <td>fF</td>\n",
       "      <td>Eli Levenson-Falk, PhD</td>\n",
       "      <td>2023-10-25-153123</td>\n",
       "      <td>LFL</td>\n",
       "      <td>USC</td>\n",
       "      <td>Andre Kuo</td>\n",
       "      <td>{'Cj': 0, 'Lj': '10nH', '_Rj': 0, 'design_name...</td>\n",
       "      <td>{'auto_increase_solution_order': True, 'enable...</td>\n",
       "      <td>Ansys HFSS</td>\n",
       "    </tr>\n",
       "    <tr>\n",
       "      <th>2</th>\n",
       "      <td>{'aedt_hfss_capacitance': 0, 'aedt_hfss_induct...</td>\n",
       "      <td>qiskit-metal</td>\n",
       "      <td>83.76412</td>\n",
       "      <td>80.18130</td>\n",
       "      <td>3.16131</td>\n",
       "      <td>104.35340</td>\n",
       "      <td>104.35340</td>\n",
       "      <td>237.02548</td>\n",
       "      <td>fF</td>\n",
       "      <td>Eli Levenson-Falk, PhD</td>\n",
       "      <td>2023-09-20-142547</td>\n",
       "      <td>LFL</td>\n",
       "      <td>USC</td>\n",
       "      <td>Andre Kuo</td>\n",
       "      <td>{'Cj': 0, 'Lj': '10nH', '_Rj': 0, 'design_name...</td>\n",
       "      <td>{'auto_increase_solution_order': True, 'enable...</td>\n",
       "      <td>Ansys HFSS</td>\n",
       "    </tr>\n",
       "    <tr>\n",
       "      <th>3</th>\n",
       "      <td>{'aedt_hfss_capacitance': 0, 'aedt_hfss_induct...</td>\n",
       "      <td>qiskit-metal</td>\n",
       "      <td>103.37057</td>\n",
       "      <td>97.22405</td>\n",
       "      <td>5.77590</td>\n",
       "      <td>174.13928</td>\n",
       "      <td>174.13928</td>\n",
       "      <td>335.31609</td>\n",
       "      <td>fF</td>\n",
       "      <td>Eli Levenson-Falk, PhD</td>\n",
       "      <td>2023-10-25-153126</td>\n",
       "      <td>LFL</td>\n",
       "      <td>USC</td>\n",
       "      <td>Andre Kuo</td>\n",
       "      <td>{'Cj': 0, 'Lj': '10nH', '_Rj': 0, 'design_name...</td>\n",
       "      <td>{'auto_increase_solution_order': True, 'enable...</td>\n",
       "      <td>Ansys HFSS</td>\n",
       "    </tr>\n",
       "    <tr>\n",
       "      <th>4</th>\n",
       "      <td>{'aedt_hfss_capacitance': 0, 'aedt_hfss_induct...</td>\n",
       "      <td>qiskit-metal</td>\n",
       "      <td>68.92854</td>\n",
       "      <td>65.68607</td>\n",
       "      <td>2.87375</td>\n",
       "      <td>120.03923</td>\n",
       "      <td>120.03923</td>\n",
       "      <td>240.34085</td>\n",
       "      <td>fF</td>\n",
       "      <td>Eli Levenson-Falk, PhD</td>\n",
       "      <td>2023-09-20-142547</td>\n",
       "      <td>LFL</td>\n",
       "      <td>USC</td>\n",
       "      <td>Andre Kuo</td>\n",
       "      <td>{'Cj': 0, 'Lj': '10nH', '_Rj': 0, 'design_name...</td>\n",
       "      <td>{'auto_increase_solution_order': True, 'enable...</td>\n",
       "      <td>Ansys HFSS</td>\n",
       "    </tr>\n",
       "    <tr>\n",
       "      <th>...</th>\n",
       "      <td>...</td>\n",
       "      <td>...</td>\n",
       "      <td>...</td>\n",
       "      <td>...</td>\n",
       "      <td>...</td>\n",
       "      <td>...</td>\n",
       "      <td>...</td>\n",
       "      <td>...</td>\n",
       "      <td>...</td>\n",
       "      <td>...</td>\n",
       "      <td>...</td>\n",
       "      <td>...</td>\n",
       "      <td>...</td>\n",
       "      <td>...</td>\n",
       "      <td>...</td>\n",
       "      <td>...</td>\n",
       "      <td>...</td>\n",
       "    </tr>\n",
       "    <tr>\n",
       "      <th>1929</th>\n",
       "      <td>{'aedt_hfss_capacitance': 0, 'aedt_hfss_induct...</td>\n",
       "      <td>qiskit-metal</td>\n",
       "      <td>106.43025</td>\n",
       "      <td>101.53197</td>\n",
       "      <td>4.45645</td>\n",
       "      <td>174.46380</td>\n",
       "      <td>174.46380</td>\n",
       "      <td>340.62919</td>\n",
       "      <td>fF</td>\n",
       "      <td>Eli Levenson-Falk, PhD</td>\n",
       "      <td>2023-09-20-142547</td>\n",
       "      <td>LFL</td>\n",
       "      <td>USC</td>\n",
       "      <td>Andre Kuo</td>\n",
       "      <td>{'Cj': 0, 'Lj': '10nH', '_Rj': 0, 'design_name...</td>\n",
       "      <td>{'auto_increase_solution_order': True, 'enable...</td>\n",
       "      <td>Ansys HFSS</td>\n",
       "    </tr>\n",
       "    <tr>\n",
       "      <th>1930</th>\n",
       "      <td>{'aedt_hfss_capacitance': 0, 'aedt_hfss_induct...</td>\n",
       "      <td>qiskit-metal</td>\n",
       "      <td>121.10943</td>\n",
       "      <td>112.62570</td>\n",
       "      <td>7.95178</td>\n",
       "      <td>187.43537</td>\n",
       "      <td>187.43537</td>\n",
       "      <td>367.34003</td>\n",
       "      <td>fF</td>\n",
       "      <td>Eli Levenson-Falk, PhD</td>\n",
       "      <td>2023-09-20-142549</td>\n",
       "      <td>LFL</td>\n",
       "      <td>USC</td>\n",
       "      <td>Andre Kuo</td>\n",
       "      <td>{'Cj': 0, 'Lj': '10nH', '_Rj': 0, 'design_name...</td>\n",
       "      <td>{'auto_increase_solution_order': True, 'enable...</td>\n",
       "      <td>Ansys HFSS</td>\n",
       "    </tr>\n",
       "    <tr>\n",
       "      <th>1931</th>\n",
       "      <td>{'aedt_hfss_capacitance': 0, 'aedt_hfss_induct...</td>\n",
       "      <td>qiskit-metal</td>\n",
       "      <td>144.56289</td>\n",
       "      <td>136.36810</td>\n",
       "      <td>7.65968</td>\n",
       "      <td>172.14561</td>\n",
       "      <td>172.14561</td>\n",
       "      <td>372.39970</td>\n",
       "      <td>fF</td>\n",
       "      <td>Eli Levenson-Falk, PhD</td>\n",
       "      <td>2023-10-25-153123</td>\n",
       "      <td>LFL</td>\n",
       "      <td>USC</td>\n",
       "      <td>Andre Kuo</td>\n",
       "      <td>{'Cj': 0, 'Lj': '10nH', '_Rj': 0, 'design_name...</td>\n",
       "      <td>{'auto_increase_solution_order': True, 'enable...</td>\n",
       "      <td>Ansys HFSS</td>\n",
       "    </tr>\n",
       "    <tr>\n",
       "      <th>1932</th>\n",
       "      <td>{'aedt_hfss_capacitance': 0, 'aedt_hfss_induct...</td>\n",
       "      <td>qiskit-metal</td>\n",
       "      <td>68.76413</td>\n",
       "      <td>65.78116</td>\n",
       "      <td>2.48795</td>\n",
       "      <td>56.75230</td>\n",
       "      <td>56.75230</td>\n",
       "      <td>166.57383</td>\n",
       "      <td>fF</td>\n",
       "      <td>Eli Levenson-Falk, PhD</td>\n",
       "      <td>2023-09-20-142547</td>\n",
       "      <td>LFL</td>\n",
       "      <td>USC</td>\n",
       "      <td>Andre Kuo</td>\n",
       "      <td>{'Cj': 0, 'Lj': '10nH', '_Rj': 0, 'design_name...</td>\n",
       "      <td>{'auto_increase_solution_order': True, 'enable...</td>\n",
       "      <td>Ansys HFSS</td>\n",
       "    </tr>\n",
       "    <tr>\n",
       "      <th>1933</th>\n",
       "      <td>{'aedt_hfss_capacitance': 0, 'aedt_hfss_induct...</td>\n",
       "      <td>qiskit-metal</td>\n",
       "      <td>58.45749</td>\n",
       "      <td>55.50796</td>\n",
       "      <td>2.54396</td>\n",
       "      <td>62.01000</td>\n",
       "      <td>62.01000</td>\n",
       "      <td>162.42140</td>\n",
       "      <td>fF</td>\n",
       "      <td>Eli Levenson-Falk, PhD</td>\n",
       "      <td>2023-09-20-142549</td>\n",
       "      <td>LFL</td>\n",
       "      <td>USC</td>\n",
       "      <td>Andre Kuo</td>\n",
       "      <td>{'Cj': 0, 'Lj': '10nH', '_Rj': 0, 'design_name...</td>\n",
       "      <td>{'auto_increase_solution_order': True, 'enable...</td>\n",
       "      <td>Ansys HFSS</td>\n",
       "    </tr>\n",
       "  </tbody>\n",
       "</table>\n",
       "<p>1934 rows × 17 columns</p>\n",
       "</div>"
      ],
      "text/plain": [
       "                                         design_options   design_tool  \\\n",
       "0     {'aedt_hfss_capacitance': 0, 'aedt_hfss_induct...  qiskit-metal   \n",
       "1     {'aedt_hfss_capacitance': 0, 'aedt_hfss_induct...  qiskit-metal   \n",
       "2     {'aedt_hfss_capacitance': 0, 'aedt_hfss_induct...  qiskit-metal   \n",
       "3     {'aedt_hfss_capacitance': 0, 'aedt_hfss_induct...  qiskit-metal   \n",
       "4     {'aedt_hfss_capacitance': 0, 'aedt_hfss_induct...  qiskit-metal   \n",
       "...                                                 ...           ...   \n",
       "1929  {'aedt_hfss_capacitance': 0, 'aedt_hfss_induct...  qiskit-metal   \n",
       "1930  {'aedt_hfss_capacitance': 0, 'aedt_hfss_induct...  qiskit-metal   \n",
       "1931  {'aedt_hfss_capacitance': 0, 'aedt_hfss_induct...  qiskit-metal   \n",
       "1932  {'aedt_hfss_capacitance': 0, 'aedt_hfss_induct...  qiskit-metal   \n",
       "1933  {'aedt_hfss_capacitance': 0, 'aedt_hfss_induct...  qiskit-metal   \n",
       "\n",
       "      claw_to_claw  claw_to_ground  cross_to_claw  cross_to_cross  \\\n",
       "0         94.97421        90.86585        3.73363       158.40783   \n",
       "1         82.44280        79.19378        2.93820       188.15089   \n",
       "2         83.76412        80.18130        3.16131       104.35340   \n",
       "3        103.37057        97.22405        5.77590       174.13928   \n",
       "4         68.92854        65.68607        2.87375       120.03923   \n",
       "...            ...             ...            ...             ...   \n",
       "1929     106.43025       101.53197        4.45645       174.46380   \n",
       "1930     121.10943       112.62570        7.95178       187.43537   \n",
       "1931     144.56289       136.36810        7.65968       172.14561   \n",
       "1932      68.76413        65.78116        2.48795        56.75230   \n",
       "1933      58.45749        55.50796        2.54396        62.01000   \n",
       "\n",
       "      cross_to_ground  ground_to_ground units                      PI  \\\n",
       "0           158.40783         311.25590    fF  Eli Levenson-Falk, PhD   \n",
       "1           188.15089         333.52997    fF  Eli Levenson-Falk, PhD   \n",
       "2           104.35340         237.02548    fF  Eli Levenson-Falk, PhD   \n",
       "3           174.13928         335.31609    fF  Eli Levenson-Falk, PhD   \n",
       "4           120.03923         240.34085    fF  Eli Levenson-Falk, PhD   \n",
       "...               ...               ...   ...                     ...   \n",
       "1929        174.46380         340.62919    fF  Eli Levenson-Falk, PhD   \n",
       "1930        187.43537         367.34003    fF  Eli Levenson-Falk, PhD   \n",
       "1931        172.14561         372.39970    fF  Eli Levenson-Falk, PhD   \n",
       "1932         56.75230         166.57383    fF  Eli Levenson-Falk, PhD   \n",
       "1933         62.01000         162.42140    fF  Eli Levenson-Falk, PhD   \n",
       "\n",
       "           date_created group institution   uploader  \\\n",
       "0     2023-09-20-142547   LFL         USC  Andre Kuo   \n",
       "1     2023-10-25-153123   LFL         USC  Andre Kuo   \n",
       "2     2023-09-20-142547   LFL         USC  Andre Kuo   \n",
       "3     2023-10-25-153126   LFL         USC  Andre Kuo   \n",
       "4     2023-09-20-142547   LFL         USC  Andre Kuo   \n",
       "...                 ...   ...         ...        ...   \n",
       "1929  2023-09-20-142547   LFL         USC  Andre Kuo   \n",
       "1930  2023-09-20-142549   LFL         USC  Andre Kuo   \n",
       "1931  2023-10-25-153123   LFL         USC  Andre Kuo   \n",
       "1932  2023-09-20-142547   LFL         USC  Andre Kuo   \n",
       "1933  2023-09-20-142549   LFL         USC  Andre Kuo   \n",
       "\n",
       "                                       renderer_options  \\\n",
       "0     {'Cj': 0, 'Lj': '10nH', '_Rj': 0, 'design_name...   \n",
       "1     {'Cj': 0, 'Lj': '10nH', '_Rj': 0, 'design_name...   \n",
       "2     {'Cj': 0, 'Lj': '10nH', '_Rj': 0, 'design_name...   \n",
       "3     {'Cj': 0, 'Lj': '10nH', '_Rj': 0, 'design_name...   \n",
       "4     {'Cj': 0, 'Lj': '10nH', '_Rj': 0, 'design_name...   \n",
       "...                                                 ...   \n",
       "1929  {'Cj': 0, 'Lj': '10nH', '_Rj': 0, 'design_name...   \n",
       "1930  {'Cj': 0, 'Lj': '10nH', '_Rj': 0, 'design_name...   \n",
       "1931  {'Cj': 0, 'Lj': '10nH', '_Rj': 0, 'design_name...   \n",
       "1932  {'Cj': 0, 'Lj': '10nH', '_Rj': 0, 'design_name...   \n",
       "1933  {'Cj': 0, 'Lj': '10nH', '_Rj': 0, 'design_name...   \n",
       "\n",
       "                                                  setup   simulator  \n",
       "0     {'auto_increase_solution_order': True, 'enable...  Ansys HFSS  \n",
       "1     {'auto_increase_solution_order': True, 'enable...  Ansys HFSS  \n",
       "2     {'auto_increase_solution_order': True, 'enable...  Ansys HFSS  \n",
       "3     {'auto_increase_solution_order': True, 'enable...  Ansys HFSS  \n",
       "4     {'auto_increase_solution_order': True, 'enable...  Ansys HFSS  \n",
       "...                                                 ...         ...  \n",
       "1929  {'auto_increase_solution_order': True, 'enable...  Ansys HFSS  \n",
       "1930  {'auto_increase_solution_order': True, 'enable...  Ansys HFSS  \n",
       "1931  {'auto_increase_solution_order': True, 'enable...  Ansys HFSS  \n",
       "1932  {'auto_increase_solution_order': True, 'enable...  Ansys HFSS  \n",
       "1933  {'auto_increase_solution_order': True, 'enable...  Ansys HFSS  \n",
       "\n",
       "[1934 rows x 17 columns]"
      ]
     },
     "execution_count": 7,
     "metadata": {},
     "output_type": "execute_result"
    }
   ],
   "source": [
    "df = db.create_system_df()\n",
    "df"
   ]
  },
  {
   "cell_type": "markdown",
   "metadata": {},
   "source": [
    "Now that we have created our system dataframe, we can query for the closest design to our target qubit parameters. To do this we need to call the `Analyzer` object."
   ]
  },
  {
   "cell_type": "code",
   "execution_count": 8,
   "metadata": {},
   "outputs": [],
   "source": [
    "from squadds import Analyzer"
   ]
  },
  {
   "cell_type": "markdown",
   "metadata": {},
   "source": [
    "We instatantaite the `Analyzer` object by passing in the `SQuADDS_DB` instance we created earlier."
   ]
  },
  {
   "cell_type": "code",
   "execution_count": 9,
   "metadata": {},
   "outputs": [],
   "source": [
    "analyzer = Analyzer(db)"
   ]
  },
  {
   "cell_type": "markdown",
   "metadata": {},
   "source": [
    "We can now check for what type of Hamiltonian parameters are available for our chosen system"
   ]
  },
  {
   "cell_type": "code",
   "execution_count": null,
   "metadata": {},
   "outputs": [],
   "source": [
    "analyzer.target_param_keys()"
   ]
  },
  {
   "cell_type": "markdown",
   "metadata": {},
   "source": [
    "Now, Let's select a geometry which results in the closest qubit characteristics\n",
    "\n",
    "Call `Analyzer.find_closest`\n",
    "\n",
    "**Documentation:**\n",
    "\n",
    "```\n",
    "Finds the rows in the DataFrame with the closest matching characteristics\n",
    "to the given target parameters using a specified metric.\n",
    "\n",
    "Args:\n",
    "    target_params (dict): A dictionary containing the target values for columns in `self.df`.\n",
    "                          Keys are column names and values are the target values.\n",
    "    num_top (int): The number of closest matching rows to return.\n",
    "    metric (str, optional): The distance metric to use for finding the closest matches.\n",
    "                            Available options are specified in `self.__supported_metrics__`.\n",
    "                            Defaults to 'Euclidean'.\n",
    "    display (bool, optional): Whether to display warnings and logs. Defaults to True.\n",
    "\n",
    "Returns:\n",
    "    pd.DataFrame: A DataFrame containing the rows with the closest matching characteristics,\n",
    "                  sorted by the distance metric.\n",
    "\n",
    "Raises:\n",
    "    ValueError: If the specified metric is not supported or `num_top` exceeds the DataFrame size.\n",
    "```"
   ]
  },
  {
   "cell_type": "markdown",
   "metadata": {},
   "source": [
    "You are given the choice of the following metrics."
   ]
  },
  {
   "cell_type": "code",
   "execution_count": null,
   "metadata": {},
   "outputs": [],
   "source": [
    "analyzer.__supported_metrics__"
   ]
  },
  {
   "cell_type": "markdown",
   "metadata": {},
   "source": [
    "Define your Hamiltonian parameters that you want to use for your qubit "
   ]
  },
  {
   "cell_type": "code",
   "execution_count": null,
   "metadata": {},
   "outputs": [],
   "source": [
    "target_params={\"qubit_frequency_GHz\": 4, \"anharmonicity_MHz\": -200}"
   ]
  },
  {
   "cell_type": "code",
   "execution_count": null,
   "metadata": {},
   "outputs": [],
   "source": [
    "results = analyzer.find_closest(target_params=target_params,\n",
    "                                       num_top=3,\n",
    "                                       metric=\"Euclidean\",\n",
    "                                       display=True)\n",
    "results"
   ]
  },
  {
   "cell_type": "markdown",
   "metadata": {},
   "source": [
    "Thats it! You have now found some designs for your qubit that are closest to your target Hamiltonian parameters."
   ]
  },
  {
   "cell_type": "markdown",
   "metadata": {},
   "source": [
    "#### Using Custom Metrics\n",
    "\n",
    "To use a custom metric first define the function. For example, lets say we want the manhattan metric"
   ]
  },
  {
   "cell_type": "code",
   "execution_count": null,
   "metadata": {},
   "outputs": [],
   "source": [
    "def manhattan_distance(target, simulated):\n",
    "    return sum(abs(target[key] - simulated.get(key, 0)) for key in target)"
   ]
  },
  {
   "cell_type": "code",
   "execution_count": null,
   "metadata": {},
   "outputs": [],
   "source": [
    "analyzer.custom_metric_func = manhattan_distance"
   ]
  },
  {
   "cell_type": "code",
   "execution_count": null,
   "metadata": {},
   "outputs": [],
   "source": [
    "analyzer.find_closest(target_params=target_params,\n",
    "                                            num_top=1,\n",
    "                                            metric=\"Custom\",\n",
    "                                            display=True)"
   ]
  },
  {
   "cell_type": "code",
   "execution_count": null,
   "metadata": {},
   "outputs": [],
   "source": [
    "best_options = results.iloc[0][\"design_options\"]\n",
    "best_options"
   ]
  },
  {
   "cell_type": "markdown",
   "metadata": {},
   "source": [
    "You can pass in the `design_options` from the closest design to the `options` argument of your selected qubit and render it in qiskit metal."
   ]
  },
  {
   "cell_type": "code",
   "execution_count": null,
   "metadata": {},
   "outputs": [],
   "source": [
    "# Qiskit Metal imports\n",
    "import qiskit_metal as metal\n",
    "from qiskit_metal import designs, draw\n",
    "from qiskit_metal import MetalGUI, Dict\n",
    "from qiskit_metal.designs.design_multiplanar import MultiPlanar\n",
    "\n",
    "from qiskit_metal.qlibrary.qubits.transmon_cross import TransmonCross\n",
    "from qiskit_metal.qlibrary.couplers.coupled_line_tee import CoupledLineTee\n",
    "from qiskit_metal.qlibrary.tlines.meandered import RouteMeander\n",
    "from qiskit_metal.qlibrary.core import QRoute, QRoutePoint"
   ]
  },
  {
   "cell_type": "code",
   "execution_count": null,
   "metadata": {},
   "outputs": [],
   "source": [
    "design = MultiPlanar(metadata={},\n",
    "                     overwrite_enabled=True)\n",
    "gui = MetalGUI(design)"
   ]
  },
  {
   "cell_type": "code",
   "execution_count": null,
   "metadata": {},
   "outputs": [],
   "source": [
    "from qiskit_metal.qlibrary.qubits.transmon_cross import TransmonCross\n",
    "\n",
    "TransmonCross(design, \"transmon\", options=best_options)\n",
    "\n",
    "gui.rebuild()\n",
    "gui.zoom_on_components(['transmon'])\n",
    "gui.screenshot(\"qubit_only.png\")"
   ]
  },
  {
   "cell_type": "markdown",
   "metadata": {},
   "source": [
    "### Querying for a target cavity design\n",
    "\n",
    "The same workflow can be used to query for a target cavity design."
   ]
  },
  {
   "cell_type": "markdown",
   "metadata": {},
   "source": [
    "While it is not necessary, it may be a good idea to `unselect_all()` before creating a new system."
   ]
  },
  {
   "cell_type": "code",
   "execution_count": null,
   "metadata": {},
   "outputs": [],
   "source": [
    "db.unselect_all()"
   ]
  },
  {
   "cell_type": "markdown",
   "metadata": {},
   "source": [
    "Proceed with selecting the system of interest"
   ]
  },
  {
   "cell_type": "code",
   "execution_count": null,
   "metadata": {},
   "outputs": [],
   "source": [
    "db.select_system(\"cavity_claw\")"
   ]
  },
  {
   "cell_type": "code",
   "execution_count": null,
   "metadata": {},
   "outputs": [],
   "source": [
    "db.select_cavity_claw(\"RouteMeander\")"
   ]
  },
  {
   "cell_type": "code",
   "execution_count": null,
   "metadata": {},
   "outputs": [],
   "source": [
    "db.select_coupler(\"CLT\")"
   ]
  },
  {
   "cell_type": "markdown",
   "metadata": {},
   "source": [
    "It's always a good idea to check that the system you have selected is correct."
   ]
  },
  {
   "cell_type": "code",
   "execution_count": null,
   "metadata": {},
   "outputs": [],
   "source": [
    "db.show_selections()"
   ]
  },
  {
   "cell_type": "markdown",
   "metadata": {},
   "source": [
    "Great! lets create the system dataframe and analyze it."
   ]
  },
  {
   "cell_type": "code",
   "execution_count": null,
   "metadata": {},
   "outputs": [],
   "source": [
    "df = db.create_system_df()"
   ]
  },
  {
   "cell_type": "code",
   "execution_count": null,
   "metadata": {},
   "outputs": [],
   "source": [
    "analyzer = Analyzer(db)"
   ]
  },
  {
   "cell_type": "code",
   "execution_count": null,
   "metadata": {},
   "outputs": [],
   "source": [
    "analyzer.target_param_keys()"
   ]
  },
  {
   "cell_type": "markdown",
   "metadata": {},
   "source": [
    "Select the Hamiltonian parameters you want to use for your cavity and search for the closest designs."
   ]
  },
  {
   "cell_type": "code",
   "execution_count": null,
   "metadata": {},
   "outputs": [],
   "source": [
    "target_params = {\"cavity_frequency_GHz\": 6.9,\n",
    "                \"kappa_kHz\": 120,\n",
    "                \"resonator_type\":\"quarter\"}"
   ]
  },
  {
   "cell_type": "code",
   "execution_count": null,
   "metadata": {},
   "outputs": [],
   "source": [
    "results = analyzer.find_closest(target_params=target_params,\n",
    "                                       num_top=5,\n",
    "                                       metric=\"Euclidean\",\n",
    "                                       display=True)\n",
    "results"
   ]
  },
  {
   "cell_type": "markdown",
   "metadata": {},
   "source": [
    "Similarly, if we wanted a `half`-wave resonator (i.e. has an `NCap` coupling to the feedline), we can do the following:"
   ]
  },
  {
   "cell_type": "code",
   "execution_count": null,
   "metadata": {},
   "outputs": [],
   "source": [
    "db.unselect_all()\n",
    "\n",
    "db.select_system(\"cavity_claw\")\n",
    "db.select_cavity_claw(\"RouteMeander\")\n",
    "db.select_coupler(\"NCap\")"
   ]
  },
  {
   "cell_type": "code",
   "execution_count": null,
   "metadata": {},
   "outputs": [],
   "source": [
    "df = db.create_system_df()"
   ]
  },
  {
   "cell_type": "code",
   "execution_count": null,
   "metadata": {},
   "outputs": [],
   "source": [
    "analyzer = Analyzer(db)"
   ]
  },
  {
   "cell_type": "code",
   "execution_count": null,
   "metadata": {},
   "outputs": [],
   "source": [
    "target_params = {\"cavity_frequency_GHz\": 6.9,\n",
    "                \"kappa_kHz\": 120,\n",
    "                \"resonator_type\":\"half\"}"
   ]
  },
  {
   "cell_type": "code",
   "execution_count": 12,
   "metadata": {},
   "outputs": [
    {
     "data": {
      "application/vnd.jupyter.widget-view+json": {
       "model_id": "bb971f3658bf4657952a5d0f07e4e133",
       "version_major": 2,
       "version_minor": 0
      },
      "text/plain": [
       "Downloading data files:   0%|          | 0/1 [00:00<?, ?it/s]"
      ]
     },
     "metadata": {},
     "output_type": "display_data"
    },
    {
     "data": {
      "application/vnd.jupyter.widget-view+json": {
       "model_id": "f9b6263c7a3e4452ac6e59e4300a7038",
       "version_major": 2,
       "version_minor": 0
      },
      "text/plain": [
       "Extracting data files:   0%|          | 0/1 [00:00<?, ?it/s]"
      ]
     },
     "metadata": {},
     "output_type": "display_data"
    },
    {
     "data": {
      "application/vnd.jupyter.widget-view+json": {
       "model_id": "34e2e86e9b7542d994fc30b87ec2493c",
       "version_major": 2,
       "version_minor": 0
      },
      "text/plain": [
       "Generating train split: 0 examples [00:00, ? examples/s]"
      ]
     },
     "metadata": {},
     "output_type": "display_data"
    }
   ],
   "source": [
    "cavity_df = db.get_dataset(data_type=\"eigenmode\", component=\"cavity_claw\", component_name=\"RouteMeander\")"
   ]
  },
  {
   "cell_type": "code",
   "execution_count": 14,
   "metadata": {},
   "outputs": [
    {
     "data": {
      "text/html": [
       "<div>\n",
       "<style scoped>\n",
       "    .dataframe tbody tr th:only-of-type {\n",
       "        vertical-align: middle;\n",
       "    }\n",
       "\n",
       "    .dataframe tbody tr th {\n",
       "        vertical-align: top;\n",
       "    }\n",
       "\n",
       "    .dataframe thead th {\n",
       "        text-align: right;\n",
       "    }\n",
       "</style>\n",
       "<table border=\"1\" class=\"dataframe\">\n",
       "  <thead>\n",
       "    <tr style=\"text-align: right;\">\n",
       "      <th></th>\n",
       "      <th>coupler_type</th>\n",
       "      <th>design_options</th>\n",
       "      <th>design_tool</th>\n",
       "      <th>resonator_type</th>\n",
       "      <th>cavity_frequency</th>\n",
       "      <th>kappa</th>\n",
       "      <th>units</th>\n",
       "      <th>PI</th>\n",
       "      <th>date_created</th>\n",
       "      <th>group</th>\n",
       "      <th>institution</th>\n",
       "      <th>misc</th>\n",
       "      <th>uploader</th>\n",
       "      <th>renderer_options</th>\n",
       "      <th>setup</th>\n",
       "      <th>simulator</th>\n",
       "    </tr>\n",
       "  </thead>\n",
       "  <tbody>\n",
       "    <tr>\n",
       "      <th>0</th>\n",
       "      <td>CLT</td>\n",
       "      <td>{'claw_opts': {'connection_pads': {'readout': ...</td>\n",
       "      <td>qiskit-metal</td>\n",
       "      <td>quarter</td>\n",
       "      <td>5.353550e+09</td>\n",
       "      <td>161106.598429</td>\n",
       "      <td>Hz</td>\n",
       "      <td>Eli Levenson-Falk, PhD</td>\n",
       "      <td>2023-12-01-170608</td>\n",
       "      <td>LFL</td>\n",
       "      <td>USC</td>\n",
       "      <td>None</td>\n",
       "      <td>Andre Kuo</td>\n",
       "      <td>None</td>\n",
       "      <td>{'basis_order': 1, 'max_delta_f': 0.05, 'max_p...</td>\n",
       "      <td>Ansys HFSS</td>\n",
       "    </tr>\n",
       "    <tr>\n",
       "      <th>1</th>\n",
       "      <td>CLT</td>\n",
       "      <td>{'claw_opts': {'connection_pads': {'readout': ...</td>\n",
       "      <td>qiskit-metal</td>\n",
       "      <td>quarter</td>\n",
       "      <td>8.399241e+09</td>\n",
       "      <td>268412.116632</td>\n",
       "      <td>Hz</td>\n",
       "      <td>Eli Levenson-Falk, PhD</td>\n",
       "      <td>2023-12-04-124953</td>\n",
       "      <td>LFL</td>\n",
       "      <td>USC</td>\n",
       "      <td>None</td>\n",
       "      <td>Andre Kuo</td>\n",
       "      <td>None</td>\n",
       "      <td>{'basis_order': 1, 'max_delta_f': 0.05, 'max_p...</td>\n",
       "      <td>Ansys HFSS</td>\n",
       "    </tr>\n",
       "    <tr>\n",
       "      <th>2</th>\n",
       "      <td>CLT</td>\n",
       "      <td>{'claw_opts': {'connection_pads': {'readout': ...</td>\n",
       "      <td>qiskit-metal</td>\n",
       "      <td>quarter</td>\n",
       "      <td>8.694845e+09</td>\n",
       "      <td>255873.654612</td>\n",
       "      <td>Hz</td>\n",
       "      <td>Eli Levenson-Falk, PhD</td>\n",
       "      <td>2023-12-09-204334</td>\n",
       "      <td>LFL</td>\n",
       "      <td>USC</td>\n",
       "      <td>None</td>\n",
       "      <td>Andre Kuo</td>\n",
       "      <td>None</td>\n",
       "      <td>{'basis_order': 1, 'max_delta_f': 0.05, 'max_p...</td>\n",
       "      <td>Ansys HFSS</td>\n",
       "    </tr>\n",
       "    <tr>\n",
       "      <th>3</th>\n",
       "      <td>CLT</td>\n",
       "      <td>{'claw_opts': {'connection_pads': {'readout': ...</td>\n",
       "      <td>qiskit-metal</td>\n",
       "      <td>quarter</td>\n",
       "      <td>6.616574e+09</td>\n",
       "      <td>30459.761161</td>\n",
       "      <td>Hz</td>\n",
       "      <td>Eli Levenson-Falk, PhD</td>\n",
       "      <td>2023-12-08-173545</td>\n",
       "      <td>LFL</td>\n",
       "      <td>USC</td>\n",
       "      <td>None</td>\n",
       "      <td>Andre Kuo</td>\n",
       "      <td>None</td>\n",
       "      <td>{'basis_order': 1, 'max_delta_f': 0.05, 'max_p...</td>\n",
       "      <td>Ansys HFSS</td>\n",
       "    </tr>\n",
       "    <tr>\n",
       "      <th>4</th>\n",
       "      <td>CLT</td>\n",
       "      <td>{'claw_opts': {'connection_pads': {'readout': ...</td>\n",
       "      <td>qiskit-metal</td>\n",
       "      <td>quarter</td>\n",
       "      <td>7.986835e+09</td>\n",
       "      <td>208304.221064</td>\n",
       "      <td>Hz</td>\n",
       "      <td>Eli Levenson-Falk, PhD</td>\n",
       "      <td>2023-12-09-204334</td>\n",
       "      <td>LFL</td>\n",
       "      <td>USC</td>\n",
       "      <td>None</td>\n",
       "      <td>Andre Kuo</td>\n",
       "      <td>None</td>\n",
       "      <td>{'basis_order': 1, 'max_delta_f': 0.05, 'max_p...</td>\n",
       "      <td>Ansys HFSS</td>\n",
       "    </tr>\n",
       "    <tr>\n",
       "      <th>...</th>\n",
       "      <td>...</td>\n",
       "      <td>...</td>\n",
       "      <td>...</td>\n",
       "      <td>...</td>\n",
       "      <td>...</td>\n",
       "      <td>...</td>\n",
       "      <td>...</td>\n",
       "      <td>...</td>\n",
       "      <td>...</td>\n",
       "      <td>...</td>\n",
       "      <td>...</td>\n",
       "      <td>...</td>\n",
       "      <td>...</td>\n",
       "      <td>...</td>\n",
       "      <td>...</td>\n",
       "      <td>...</td>\n",
       "    </tr>\n",
       "    <tr>\n",
       "      <th>905</th>\n",
       "      <td>NCap</td>\n",
       "      <td>{'claw_opts': {'connection_pads': {'readout': ...</td>\n",
       "      <td>Qiskit Metal</td>\n",
       "      <td>half</td>\n",
       "      <td>1.859429e+10</td>\n",
       "      <td>1708.750004</td>\n",
       "      <td>Hz</td>\n",
       "      <td>Eli Levenson-Falk</td>\n",
       "      <td>2024-02-26 230413</td>\n",
       "      <td>LFL</td>\n",
       "      <td>USC</td>\n",
       "      <td></td>\n",
       "      <td>Andre Kuo</td>\n",
       "      <td>{'Cj': 0, 'Lj': '10nH', '_Rj': 0, 'design_name...</td>\n",
       "      <td>{'basis_order': 1, 'max_delta_f': 0.05, 'max_p...</td>\n",
       "      <td>Ansys HFSS</td>\n",
       "    </tr>\n",
       "    <tr>\n",
       "      <th>906</th>\n",
       "      <td>NCap</td>\n",
       "      <td>{'claw_opts': {'connection_pads': {'readout': ...</td>\n",
       "      <td>Qiskit Metal</td>\n",
       "      <td>half</td>\n",
       "      <td>1.609044e+10</td>\n",
       "      <td>1478.741367</td>\n",
       "      <td>Hz</td>\n",
       "      <td>Eli Levenson-Falk</td>\n",
       "      <td>2024-02-26 230413</td>\n",
       "      <td>LFL</td>\n",
       "      <td>USC</td>\n",
       "      <td></td>\n",
       "      <td>Andre Kuo</td>\n",
       "      <td>{'Cj': 0, 'Lj': '10nH', '_Rj': 0, 'design_name...</td>\n",
       "      <td>{'basis_order': 1, 'max_delta_f': 0.05, 'max_p...</td>\n",
       "      <td>Ansys HFSS</td>\n",
       "    </tr>\n",
       "    <tr>\n",
       "      <th>907</th>\n",
       "      <td>NCap</td>\n",
       "      <td>{'claw_opts': {'connection_pads': {'readout': ...</td>\n",
       "      <td>Qiskit Metal</td>\n",
       "      <td>half</td>\n",
       "      <td>7.502149e+09</td>\n",
       "      <td>689.346880</td>\n",
       "      <td>Hz</td>\n",
       "      <td>Eli Levenson-Falk</td>\n",
       "      <td>2024-02-26 230413</td>\n",
       "      <td>LFL</td>\n",
       "      <td>USC</td>\n",
       "      <td></td>\n",
       "      <td>Andre Kuo</td>\n",
       "      <td>{'Cj': 0, 'Lj': '10nH', '_Rj': 0, 'design_name...</td>\n",
       "      <td>{'basis_order': 1, 'max_delta_f': 0.05, 'max_p...</td>\n",
       "      <td>Ansys HFSS</td>\n",
       "    </tr>\n",
       "    <tr>\n",
       "      <th>908</th>\n",
       "      <td>NCap</td>\n",
       "      <td>{'claw_opts': {'connection_pads': {'readout': ...</td>\n",
       "      <td>Qiskit Metal</td>\n",
       "      <td>half</td>\n",
       "      <td>7.064153e+09</td>\n",
       "      <td>649.104744</td>\n",
       "      <td>Hz</td>\n",
       "      <td>Eli Levenson-Falk</td>\n",
       "      <td>2024-02-26 230413</td>\n",
       "      <td>LFL</td>\n",
       "      <td>USC</td>\n",
       "      <td></td>\n",
       "      <td>Andre Kuo</td>\n",
       "      <td>{'Cj': 0, 'Lj': '10nH', '_Rj': 0, 'design_name...</td>\n",
       "      <td>{'basis_order': 1, 'max_delta_f': 0.05, 'max_p...</td>\n",
       "      <td>Ansys HFSS</td>\n",
       "    </tr>\n",
       "    <tr>\n",
       "      <th>909</th>\n",
       "      <td>NCap</td>\n",
       "      <td>{'claw_opts': {'connection_pads': {'readout': ...</td>\n",
       "      <td>Qiskit Metal</td>\n",
       "      <td>half</td>\n",
       "      <td>7.951532e+09</td>\n",
       "      <td>730.579357</td>\n",
       "      <td>Hz</td>\n",
       "      <td>Eli Levenson-Falk</td>\n",
       "      <td>2024-02-26 230413</td>\n",
       "      <td>LFL</td>\n",
       "      <td>USC</td>\n",
       "      <td></td>\n",
       "      <td>Andre Kuo</td>\n",
       "      <td>{'Cj': 0, 'Lj': '10nH', '_Rj': 0, 'design_name...</td>\n",
       "      <td>{'basis_order': 1, 'max_delta_f': 0.05, 'max_p...</td>\n",
       "      <td>Ansys HFSS</td>\n",
       "    </tr>\n",
       "  </tbody>\n",
       "</table>\n",
       "<p>910 rows × 16 columns</p>\n",
       "</div>"
      ],
      "text/plain": [
       "    coupler_type                                     design_options  \\\n",
       "0            CLT  {'claw_opts': {'connection_pads': {'readout': ...   \n",
       "1            CLT  {'claw_opts': {'connection_pads': {'readout': ...   \n",
       "2            CLT  {'claw_opts': {'connection_pads': {'readout': ...   \n",
       "3            CLT  {'claw_opts': {'connection_pads': {'readout': ...   \n",
       "4            CLT  {'claw_opts': {'connection_pads': {'readout': ...   \n",
       "..           ...                                                ...   \n",
       "905         NCap  {'claw_opts': {'connection_pads': {'readout': ...   \n",
       "906         NCap  {'claw_opts': {'connection_pads': {'readout': ...   \n",
       "907         NCap  {'claw_opts': {'connection_pads': {'readout': ...   \n",
       "908         NCap  {'claw_opts': {'connection_pads': {'readout': ...   \n",
       "909         NCap  {'claw_opts': {'connection_pads': {'readout': ...   \n",
       "\n",
       "      design_tool resonator_type  cavity_frequency          kappa units  \\\n",
       "0    qiskit-metal        quarter      5.353550e+09  161106.598429    Hz   \n",
       "1    qiskit-metal        quarter      8.399241e+09  268412.116632    Hz   \n",
       "2    qiskit-metal        quarter      8.694845e+09  255873.654612    Hz   \n",
       "3    qiskit-metal        quarter      6.616574e+09   30459.761161    Hz   \n",
       "4    qiskit-metal        quarter      7.986835e+09  208304.221064    Hz   \n",
       "..            ...            ...               ...            ...   ...   \n",
       "905  Qiskit Metal           half      1.859429e+10    1708.750004    Hz   \n",
       "906  Qiskit Metal           half      1.609044e+10    1478.741367    Hz   \n",
       "907  Qiskit Metal           half      7.502149e+09     689.346880    Hz   \n",
       "908  Qiskit Metal           half      7.064153e+09     649.104744    Hz   \n",
       "909  Qiskit Metal           half      7.951532e+09     730.579357    Hz   \n",
       "\n",
       "                         PI       date_created group institution  misc  \\\n",
       "0    Eli Levenson-Falk, PhD  2023-12-01-170608   LFL         USC  None   \n",
       "1    Eli Levenson-Falk, PhD  2023-12-04-124953   LFL         USC  None   \n",
       "2    Eli Levenson-Falk, PhD  2023-12-09-204334   LFL         USC  None   \n",
       "3    Eli Levenson-Falk, PhD  2023-12-08-173545   LFL         USC  None   \n",
       "4    Eli Levenson-Falk, PhD  2023-12-09-204334   LFL         USC  None   \n",
       "..                      ...                ...   ...         ...   ...   \n",
       "905       Eli Levenson-Falk  2024-02-26 230413   LFL         USC         \n",
       "906       Eli Levenson-Falk  2024-02-26 230413   LFL         USC         \n",
       "907       Eli Levenson-Falk  2024-02-26 230413   LFL         USC         \n",
       "908       Eli Levenson-Falk  2024-02-26 230413   LFL         USC         \n",
       "909       Eli Levenson-Falk  2024-02-26 230413   LFL         USC         \n",
       "\n",
       "      uploader                                   renderer_options  \\\n",
       "0    Andre Kuo                                               None   \n",
       "1    Andre Kuo                                               None   \n",
       "2    Andre Kuo                                               None   \n",
       "3    Andre Kuo                                               None   \n",
       "4    Andre Kuo                                               None   \n",
       "..         ...                                                ...   \n",
       "905  Andre Kuo  {'Cj': 0, 'Lj': '10nH', '_Rj': 0, 'design_name...   \n",
       "906  Andre Kuo  {'Cj': 0, 'Lj': '10nH', '_Rj': 0, 'design_name...   \n",
       "907  Andre Kuo  {'Cj': 0, 'Lj': '10nH', '_Rj': 0, 'design_name...   \n",
       "908  Andre Kuo  {'Cj': 0, 'Lj': '10nH', '_Rj': 0, 'design_name...   \n",
       "909  Andre Kuo  {'Cj': 0, 'Lj': '10nH', '_Rj': 0, 'design_name...   \n",
       "\n",
       "                                                 setup   simulator  \n",
       "0    {'basis_order': 1, 'max_delta_f': 0.05, 'max_p...  Ansys HFSS  \n",
       "1    {'basis_order': 1, 'max_delta_f': 0.05, 'max_p...  Ansys HFSS  \n",
       "2    {'basis_order': 1, 'max_delta_f': 0.05, 'max_p...  Ansys HFSS  \n",
       "3    {'basis_order': 1, 'max_delta_f': 0.05, 'max_p...  Ansys HFSS  \n",
       "4    {'basis_order': 1, 'max_delta_f': 0.05, 'max_p...  Ansys HFSS  \n",
       "..                                                 ...         ...  \n",
       "905  {'basis_order': 1, 'max_delta_f': 0.05, 'max_p...  Ansys HFSS  \n",
       "906  {'basis_order': 1, 'max_delta_f': 0.05, 'max_p...  Ansys HFSS  \n",
       "907  {'basis_order': 1, 'max_delta_f': 0.05, 'max_p...  Ansys HFSS  \n",
       "908  {'basis_order': 1, 'max_delta_f': 0.05, 'max_p...  Ansys HFSS  \n",
       "909  {'basis_order': 1, 'max_delta_f': 0.05, 'max_p...  Ansys HFSS  \n",
       "\n",
       "[910 rows x 16 columns]"
      ]
     },
     "execution_count": 14,
     "metadata": {},
     "output_type": "execute_result"
    }
   ],
   "source": [
    "cavity_df"
   ]
  },
  {
   "cell_type": "code",
   "execution_count": 13,
   "metadata": {},
   "outputs": [
    {
     "data": {
      "application/vnd.jupyter.widget-view+json": {
       "model_id": "883f3a4dcd264cc19449e1bfb1598c2c",
       "version_major": 2,
       "version_minor": 0
      },
      "text/plain": [
       "Downloading data files:   0%|          | 0/1 [00:00<?, ?it/s]"
      ]
     },
     "metadata": {},
     "output_type": "display_data"
    },
    {
     "data": {
      "application/vnd.jupyter.widget-view+json": {
       "model_id": "4983f5cc594548e8999c164902ab702b",
       "version_major": 2,
       "version_minor": 0
      },
      "text/plain": [
       "Extracting data files:   0%|          | 0/1 [00:00<?, ?it/s]"
      ]
     },
     "metadata": {},
     "output_type": "display_data"
    },
    {
     "data": {
      "application/vnd.jupyter.widget-view+json": {
       "model_id": "63013c57422b42f0a3e4a6cc19655202",
       "version_major": 2,
       "version_minor": 0
      },
      "text/plain": [
       "Generating train split: 0 examples [00:00, ? examples/s]"
      ]
     },
     "metadata": {},
     "output_type": "display_data"
    }
   ],
   "source": [
    "ncap_df = db.get_dataset(data_type=\"cap_matrix\", component=\"coupler\", component_name=\"NCap\") #TODO: handle dynamically"
   ]
  },
  {
   "cell_type": "code",
   "execution_count": 15,
   "metadata": {},
   "outputs": [
    {
     "data": {
      "text/html": [
       "<div>\n",
       "<style scoped>\n",
       "    .dataframe tbody tr th:only-of-type {\n",
       "        vertical-align: middle;\n",
       "    }\n",
       "\n",
       "    .dataframe tbody tr th {\n",
       "        vertical-align: top;\n",
       "    }\n",
       "\n",
       "    .dataframe thead th {\n",
       "        text-align: right;\n",
       "    }\n",
       "</style>\n",
       "<table border=\"1\" class=\"dataframe\">\n",
       "  <thead>\n",
       "    <tr style=\"text-align: right;\">\n",
       "      <th></th>\n",
       "      <th>coupler_type</th>\n",
       "      <th>design_options</th>\n",
       "      <th>design_tool</th>\n",
       "      <th>bottom_to_bottom</th>\n",
       "      <th>bottom_to_ground</th>\n",
       "      <th>ground_to_ground</th>\n",
       "      <th>top_to_bottom</th>\n",
       "      <th>top_to_ground</th>\n",
       "      <th>top_to_top</th>\n",
       "      <th>units</th>\n",
       "      <th>PI</th>\n",
       "      <th>date_created</th>\n",
       "      <th>group</th>\n",
       "      <th>institution</th>\n",
       "      <th>uploader</th>\n",
       "      <th>setup</th>\n",
       "      <th>simulator</th>\n",
       "    </tr>\n",
       "  </thead>\n",
       "  <tbody>\n",
       "    <tr>\n",
       "      <th>0</th>\n",
       "      <td>NCap</td>\n",
       "      <td>{'cap_distance': '50.9um', 'cap_gap': '2.1um',...</td>\n",
       "      <td>qiskit-metal</td>\n",
       "      <td>12.78614</td>\n",
       "      <td>12.09846</td>\n",
       "      <td>58.45017</td>\n",
       "      <td>0.51663</td>\n",
       "      <td>14.95437</td>\n",
       "      <td>15.65491</td>\n",
       "      <td>nH</td>\n",
       "      <td>Eli Levenson-Falk, PhD</td>\n",
       "      <td>2023-11-09-011049</td>\n",
       "      <td>LFL</td>\n",
       "      <td>USC</td>\n",
       "      <td>Andre Kuo</td>\n",
       "      <td>{'auto_increase_solution_order': 'False', 'ena...</td>\n",
       "      <td>Ansys HFSS</td>\n",
       "    </tr>\n",
       "    <tr>\n",
       "      <th>1</th>\n",
       "      <td>NCap</td>\n",
       "      <td>{'cap_distance': '50.9um', 'cap_gap': '2.1um',...</td>\n",
       "      <td>qiskit-metal</td>\n",
       "      <td>94.96956</td>\n",
       "      <td>58.07364</td>\n",
       "      <td>124.18885</td>\n",
       "      <td>36.28408</td>\n",
       "      <td>29.22434</td>\n",
       "      <td>65.85844</td>\n",
       "      <td>nH</td>\n",
       "      <td>Eli Levenson-Falk, PhD</td>\n",
       "      <td>2023-11-09-011049</td>\n",
       "      <td>LFL</td>\n",
       "      <td>USC</td>\n",
       "      <td>Andre Kuo</td>\n",
       "      <td>{'auto_increase_solution_order': 'False', 'ena...</td>\n",
       "      <td>Ansys HFSS</td>\n",
       "    </tr>\n",
       "    <tr>\n",
       "      <th>2</th>\n",
       "      <td>NCap</td>\n",
       "      <td>{'cap_distance': '50.9um', 'cap_gap': '4.1um',...</td>\n",
       "      <td>qiskit-metal</td>\n",
       "      <td>21.94864</td>\n",
       "      <td>18.77498</td>\n",
       "      <td>66.60369</td>\n",
       "      <td>2.88026</td>\n",
       "      <td>15.65588</td>\n",
       "      <td>18.77838</td>\n",
       "      <td>nH</td>\n",
       "      <td>Eli Levenson-Falk, PhD</td>\n",
       "      <td>2023-11-09-011049</td>\n",
       "      <td>LFL</td>\n",
       "      <td>USC</td>\n",
       "      <td>Andre Kuo</td>\n",
       "      <td>{'auto_increase_solution_order': 'False', 'ena...</td>\n",
       "      <td>Ansys HFSS</td>\n",
       "    </tr>\n",
       "    <tr>\n",
       "      <th>3</th>\n",
       "      <td>NCap</td>\n",
       "      <td>{'cap_distance': '50.9um', 'cap_gap': '2.1um',...</td>\n",
       "      <td>qiskit-metal</td>\n",
       "      <td>55.18578</td>\n",
       "      <td>33.69106</td>\n",
       "      <td>88.75992</td>\n",
       "      <td>21.05076</td>\n",
       "      <td>20.98596</td>\n",
       "      <td>42.46632</td>\n",
       "      <td>nH</td>\n",
       "      <td>Eli Levenson-Falk, PhD</td>\n",
       "      <td>2023-11-09-011049</td>\n",
       "      <td>LFL</td>\n",
       "      <td>USC</td>\n",
       "      <td>Andre Kuo</td>\n",
       "      <td>{'auto_increase_solution_order': 'False', 'ena...</td>\n",
       "      <td>Ansys HFSS</td>\n",
       "    </tr>\n",
       "    <tr>\n",
       "      <th>4</th>\n",
       "      <td>NCap</td>\n",
       "      <td>{'cap_distance': '50.9um', 'cap_gap': '4.1um',...</td>\n",
       "      <td>qiskit-metal</td>\n",
       "      <td>60.57606</td>\n",
       "      <td>41.62987</td>\n",
       "      <td>101.33585</td>\n",
       "      <td>18.40010</td>\n",
       "      <td>24.77954</td>\n",
       "      <td>43.49158</td>\n",
       "      <td>nH</td>\n",
       "      <td>Eli Levenson-Falk, PhD</td>\n",
       "      <td>2023-11-09-011049</td>\n",
       "      <td>LFL</td>\n",
       "      <td>USC</td>\n",
       "      <td>Andre Kuo</td>\n",
       "      <td>{'auto_increase_solution_order': 'False', 'ena...</td>\n",
       "      <td>Ansys HFSS</td>\n",
       "    </tr>\n",
       "    <tr>\n",
       "      <th>...</th>\n",
       "      <td>...</td>\n",
       "      <td>...</td>\n",
       "      <td>...</td>\n",
       "      <td>...</td>\n",
       "      <td>...</td>\n",
       "      <td>...</td>\n",
       "      <td>...</td>\n",
       "      <td>...</td>\n",
       "      <td>...</td>\n",
       "      <td>...</td>\n",
       "      <td>...</td>\n",
       "      <td>...</td>\n",
       "      <td>...</td>\n",
       "      <td>...</td>\n",
       "      <td>...</td>\n",
       "      <td>...</td>\n",
       "      <td>...</td>\n",
       "    </tr>\n",
       "    <tr>\n",
       "      <th>425</th>\n",
       "      <td>NCap</td>\n",
       "      <td>{'cap_distance': '50.9um', 'cap_gap': '2.1um',...</td>\n",
       "      <td>qiskit-metal</td>\n",
       "      <td>15.86284</td>\n",
       "      <td>14.59008</td>\n",
       "      <td>64.32406</td>\n",
       "      <td>1.02606</td>\n",
       "      <td>18.87248</td>\n",
       "      <td>20.16504</td>\n",
       "      <td>nH</td>\n",
       "      <td>Eli Levenson-Falk, PhD</td>\n",
       "      <td>2023-11-09-011049</td>\n",
       "      <td>LFL</td>\n",
       "      <td>USC</td>\n",
       "      <td>Andre Kuo</td>\n",
       "      <td>{'auto_increase_solution_order': 'False', 'ena...</td>\n",
       "      <td>Ansys HFSS</td>\n",
       "    </tr>\n",
       "    <tr>\n",
       "      <th>426</th>\n",
       "      <td>NCap</td>\n",
       "      <td>{'cap_distance': '50.9um', 'cap_gap': '4.1um',...</td>\n",
       "      <td>qiskit-metal</td>\n",
       "      <td>28.43531</td>\n",
       "      <td>24.50768</td>\n",
       "      <td>74.50121</td>\n",
       "      <td>3.57699</td>\n",
       "      <td>17.41757</td>\n",
       "      <td>21.23155</td>\n",
       "      <td>nH</td>\n",
       "      <td>Eli Levenson-Falk, PhD</td>\n",
       "      <td>2023-11-09-011049</td>\n",
       "      <td>LFL</td>\n",
       "      <td>USC</td>\n",
       "      <td>Andre Kuo</td>\n",
       "      <td>{'auto_increase_solution_order': 'False', 'ena...</td>\n",
       "      <td>Ansys HFSS</td>\n",
       "    </tr>\n",
       "    <tr>\n",
       "      <th>427</th>\n",
       "      <td>NCap</td>\n",
       "      <td>{'cap_distance': '50.9um', 'cap_gap': '4.1um',...</td>\n",
       "      <td>qiskit-metal</td>\n",
       "      <td>55.36257</td>\n",
       "      <td>38.54199</td>\n",
       "      <td>102.24635</td>\n",
       "      <td>16.38109</td>\n",
       "      <td>28.66939</td>\n",
       "      <td>45.47336</td>\n",
       "      <td>nH</td>\n",
       "      <td>Eli Levenson-Falk, PhD</td>\n",
       "      <td>2023-11-09-011049</td>\n",
       "      <td>LFL</td>\n",
       "      <td>USC</td>\n",
       "      <td>Andre Kuo</td>\n",
       "      <td>{'auto_increase_solution_order': 'False', 'ena...</td>\n",
       "      <td>Ansys HFSS</td>\n",
       "    </tr>\n",
       "    <tr>\n",
       "      <th>428</th>\n",
       "      <td>NCap</td>\n",
       "      <td>{'cap_distance': '50.9um', 'cap_gap': '4.1um',...</td>\n",
       "      <td>qiskit-metal</td>\n",
       "      <td>23.20076</td>\n",
       "      <td>19.39282</td>\n",
       "      <td>65.27181</td>\n",
       "      <td>3.52960</td>\n",
       "      <td>14.36617</td>\n",
       "      <td>18.15142</td>\n",
       "      <td>nH</td>\n",
       "      <td>Eli Levenson-Falk, PhD</td>\n",
       "      <td>2023-11-09-011049</td>\n",
       "      <td>LFL</td>\n",
       "      <td>USC</td>\n",
       "      <td>Andre Kuo</td>\n",
       "      <td>{'auto_increase_solution_order': 'False', 'ena...</td>\n",
       "      <td>Ansys HFSS</td>\n",
       "    </tr>\n",
       "    <tr>\n",
       "      <th>429</th>\n",
       "      <td>NCap</td>\n",
       "      <td>{'cap_distance': '50.9um', 'cap_gap': '2.1um',...</td>\n",
       "      <td>qiskit-metal</td>\n",
       "      <td>59.19318</td>\n",
       "      <td>42.93285</td>\n",
       "      <td>102.26526</td>\n",
       "      <td>15.85270</td>\n",
       "      <td>23.83046</td>\n",
       "      <td>40.05013</td>\n",
       "      <td>nH</td>\n",
       "      <td>Eli Levenson-Falk, PhD</td>\n",
       "      <td>2023-11-09-011049</td>\n",
       "      <td>LFL</td>\n",
       "      <td>USC</td>\n",
       "      <td>Andre Kuo</td>\n",
       "      <td>{'auto_increase_solution_order': 'False', 'ena...</td>\n",
       "      <td>Ansys HFSS</td>\n",
       "    </tr>\n",
       "  </tbody>\n",
       "</table>\n",
       "<p>430 rows × 17 columns</p>\n",
       "</div>"
      ],
      "text/plain": [
       "    coupler_type                                     design_options  \\\n",
       "0           NCap  {'cap_distance': '50.9um', 'cap_gap': '2.1um',...   \n",
       "1           NCap  {'cap_distance': '50.9um', 'cap_gap': '2.1um',...   \n",
       "2           NCap  {'cap_distance': '50.9um', 'cap_gap': '4.1um',...   \n",
       "3           NCap  {'cap_distance': '50.9um', 'cap_gap': '2.1um',...   \n",
       "4           NCap  {'cap_distance': '50.9um', 'cap_gap': '4.1um',...   \n",
       "..           ...                                                ...   \n",
       "425         NCap  {'cap_distance': '50.9um', 'cap_gap': '2.1um',...   \n",
       "426         NCap  {'cap_distance': '50.9um', 'cap_gap': '4.1um',...   \n",
       "427         NCap  {'cap_distance': '50.9um', 'cap_gap': '4.1um',...   \n",
       "428         NCap  {'cap_distance': '50.9um', 'cap_gap': '4.1um',...   \n",
       "429         NCap  {'cap_distance': '50.9um', 'cap_gap': '2.1um',...   \n",
       "\n",
       "      design_tool  bottom_to_bottom  bottom_to_ground  ground_to_ground  \\\n",
       "0    qiskit-metal          12.78614          12.09846          58.45017   \n",
       "1    qiskit-metal          94.96956          58.07364         124.18885   \n",
       "2    qiskit-metal          21.94864          18.77498          66.60369   \n",
       "3    qiskit-metal          55.18578          33.69106          88.75992   \n",
       "4    qiskit-metal          60.57606          41.62987         101.33585   \n",
       "..            ...               ...               ...               ...   \n",
       "425  qiskit-metal          15.86284          14.59008          64.32406   \n",
       "426  qiskit-metal          28.43531          24.50768          74.50121   \n",
       "427  qiskit-metal          55.36257          38.54199         102.24635   \n",
       "428  qiskit-metal          23.20076          19.39282          65.27181   \n",
       "429  qiskit-metal          59.19318          42.93285         102.26526   \n",
       "\n",
       "     top_to_bottom  top_to_ground  top_to_top units                      PI  \\\n",
       "0          0.51663       14.95437    15.65491    nH  Eli Levenson-Falk, PhD   \n",
       "1         36.28408       29.22434    65.85844    nH  Eli Levenson-Falk, PhD   \n",
       "2          2.88026       15.65588    18.77838    nH  Eli Levenson-Falk, PhD   \n",
       "3         21.05076       20.98596    42.46632    nH  Eli Levenson-Falk, PhD   \n",
       "4         18.40010       24.77954    43.49158    nH  Eli Levenson-Falk, PhD   \n",
       "..             ...            ...         ...   ...                     ...   \n",
       "425        1.02606       18.87248    20.16504    nH  Eli Levenson-Falk, PhD   \n",
       "426        3.57699       17.41757    21.23155    nH  Eli Levenson-Falk, PhD   \n",
       "427       16.38109       28.66939    45.47336    nH  Eli Levenson-Falk, PhD   \n",
       "428        3.52960       14.36617    18.15142    nH  Eli Levenson-Falk, PhD   \n",
       "429       15.85270       23.83046    40.05013    nH  Eli Levenson-Falk, PhD   \n",
       "\n",
       "          date_created group institution   uploader  \\\n",
       "0    2023-11-09-011049   LFL         USC  Andre Kuo   \n",
       "1    2023-11-09-011049   LFL         USC  Andre Kuo   \n",
       "2    2023-11-09-011049   LFL         USC  Andre Kuo   \n",
       "3    2023-11-09-011049   LFL         USC  Andre Kuo   \n",
       "4    2023-11-09-011049   LFL         USC  Andre Kuo   \n",
       "..                 ...   ...         ...        ...   \n",
       "425  2023-11-09-011049   LFL         USC  Andre Kuo   \n",
       "426  2023-11-09-011049   LFL         USC  Andre Kuo   \n",
       "427  2023-11-09-011049   LFL         USC  Andre Kuo   \n",
       "428  2023-11-09-011049   LFL         USC  Andre Kuo   \n",
       "429  2023-11-09-011049   LFL         USC  Andre Kuo   \n",
       "\n",
       "                                                 setup   simulator  \n",
       "0    {'auto_increase_solution_order': 'False', 'ena...  Ansys HFSS  \n",
       "1    {'auto_increase_solution_order': 'False', 'ena...  Ansys HFSS  \n",
       "2    {'auto_increase_solution_order': 'False', 'ena...  Ansys HFSS  \n",
       "3    {'auto_increase_solution_order': 'False', 'ena...  Ansys HFSS  \n",
       "4    {'auto_increase_solution_order': 'False', 'ena...  Ansys HFSS  \n",
       "..                                                 ...         ...  \n",
       "425  {'auto_increase_solution_order': 'False', 'ena...  Ansys HFSS  \n",
       "426  {'auto_increase_solution_order': 'False', 'ena...  Ansys HFSS  \n",
       "427  {'auto_increase_solution_order': 'False', 'ena...  Ansys HFSS  \n",
       "428  {'auto_increase_solution_order': 'False', 'ena...  Ansys HFSS  \n",
       "429  {'auto_increase_solution_order': 'False', 'ena...  Ansys HFSS  \n",
       "\n",
       "[430 rows x 17 columns]"
      ]
     },
     "execution_count": 15,
     "metadata": {},
     "output_type": "execute_result"
    }
   ],
   "source": [
    "ncap_df"
   ]
  },
  {
   "cell_type": "code",
   "execution_count": 17,
   "metadata": {},
   "outputs": [
    {
     "data": {
      "text/plain": [
       "{'cap_distance': '50.9um',\n",
       " 'cap_gap': '2.1um',\n",
       " 'cap_gap_ground': '5.1um',\n",
       " 'cap_width': '4.9um',\n",
       " 'finger_count': '1',\n",
       " 'finger_length': '25.9um',\n",
       " 'orientation': '-90',\n",
       " 'prime_gap': '5.1um',\n",
       " 'prime_width': '11.7um',\n",
       " 'second_gap': '5.1um',\n",
       " 'second_width': '11.7um'}"
      ]
     },
     "execution_count": 17,
     "metadata": {},
     "output_type": "execute_result"
    }
   ],
   "source": [
    "ncap_opts = ncap_df.iloc[0][\"design_options\"]\n",
    "ncap_opts"
   ]
  },
  {
   "cell_type": "code",
   "execution_count": 20,
   "metadata": {},
   "outputs": [
    {
     "data": {
      "text/plain": [
       "{'cap_distance': '50.9um',\n",
       " 'cap_gap': '5um',\n",
       " 'cap_gap_ground': '5.1um',\n",
       " 'cap_width': '10um',\n",
       " 'coupling_length': None,\n",
       " 'coupling_space': None,\n",
       " 'down_length': None,\n",
       " 'finger_count': '5',\n",
       " 'finger_length': '30um',\n",
       " 'open_termination': None,\n",
       " 'orientation': '-90',\n",
       " 'prime_gap': '5.1um',\n",
       " 'prime_width': '11.7um',\n",
       " 'second_gap': '5.1um',\n",
       " 'second_width': '11.7um'}"
      ]
     },
     "execution_count": 20,
     "metadata": {},
     "output_type": "execute_result"
    }
   ],
   "source": [
    "cpw_cplr_opts = cavity_df.iloc[-1][\"design_options\"][\"cplr_opts\"]\n",
    "cpw_cplr_opts"
   ]
  },
  {
   "cell_type": "code",
   "execution_count": 21,
   "metadata": {},
   "outputs": [
    {
     "data": {
      "text/plain": [
       "{'cap_distance',\n",
       " 'cap_gap',\n",
       " 'cap_gap_ground',\n",
       " 'cap_width',\n",
       " 'finger_count',\n",
       " 'finger_length',\n",
       " 'orientation',\n",
       " 'prime_gap',\n",
       " 'prime_width',\n",
       " 'second_gap',\n",
       " 'second_width'}"
      ]
     },
     "execution_count": 21,
     "metadata": {},
     "output_type": "execute_result"
    }
   ],
   "source": [
    "common_terms = set(ncap_opts.keys()) & set(cpw_cplr_opts.keys())\n",
    "common_terms\n"
   ]
  },
  {
   "cell_type": "code",
   "execution_count": 22,
   "metadata": {},
   "outputs": [],
   "source": [
    "# Function to merge dataframes based on specific common design options\n",
    "def merge_dataframes_specific_common_terms(cavity_df, ncap_df, common_terms):\n",
    "    # Create temporary columns in both dataframes for the specific common terms\n",
    "    for term in common_terms:\n",
    "        cavity_df[f'temp_{term}'] = cavity_df['design_options'].apply(lambda x: x['cplr_opts'].get(term))\n",
    "        ncap_df[f'temp_{term}'] = ncap_df['design_options'].apply(lambda x: x.get(term))\n",
    "    \n",
    "    # Perform the merge on the specific common terms\n",
    "    merged_df = pd.merge(cavity_df, ncap_df, \n",
    "                         left_on=[f'temp_{term}' for term in common_terms], \n",
    "                         right_on=[f'temp_{term}' for term in common_terms],\n",
    "                         suffixes=('', '_ncap'))\n",
    "\n",
    "    # Now, select only the subset of cavity_df and add additional columns from ncap_df\n",
    "    additional_columns = ['bottom_to_bottom', 'bottom_to_ground', 'ground_to_ground',\n",
    "                          'top_to_bottom', 'top_to_ground', 'top_to_top', 'units_ncap']\n",
    "    merged_df = merged_df[[col for col in cavity_df.columns if col not in ['design_options']] + additional_columns]\n",
    "\n",
    "    # Drop the temporary columns used for merging\n",
    "    merged_df.drop(columns=[f'temp_{term}' for term in common_terms], inplace=True)\n",
    "\n",
    "    return merged_df\n",
    "\n",
    "# Define the specific common terms we're interested in for the merge\n",
    "#specific_common_terms = ['prime_width', 'prime_gap', 'second_width', 'second_gap']\n",
    "specific_common_terms = ['prime_width', 'prime_gap']\n"
   ]
  },
  {
   "cell_type": "code",
   "execution_count": 23,
   "metadata": {},
   "outputs": [],
   "source": [
    "# Merge the dataframes based on the specific common terms\n",
    "# filter ncap_df to only include 5 random rows from it\n",
    "ncap_df_sample = ncap_df.sample(1)\n"
   ]
  },
  {
   "cell_type": "code",
   "execution_count": 24,
   "metadata": {},
   "outputs": [
    {
     "ename": "NameError",
     "evalue": "name 'ncap_cavity_df' is not defined",
     "output_type": "error",
     "traceback": [
      "\u001b[0;31m---------------------------------------------------------------------------\u001b[0m",
      "\u001b[0;31mNameError\u001b[0m                                 Traceback (most recent call last)",
      "Cell \u001b[0;32mIn[24], line 1\u001b[0m\n\u001b[0;32m----> 1\u001b[0m merged_df \u001b[38;5;241m=\u001b[39m merge_dataframes_specific_common_terms(\u001b[43mncap_cavity_df\u001b[49m, ncap_df_sample, specific_common_terms)\n\u001b[1;32m      2\u001b[0m merged_df\n",
      "\u001b[0;31mNameError\u001b[0m: name 'ncap_cavity_df' is not defined"
     ]
    }
   ],
   "source": [
    "merged_df = merge_dataframes_specific_common_terms(ncap_cavity_df, ncap_df_sample, specific_common_terms)\n",
    "merged_df"
   ]
  },
  {
   "cell_type": "code",
   "execution_count": null,
   "metadata": {},
   "outputs": [],
   "source": [
    "%matplotlib inline"
   ]
  },
  {
   "cell_type": "code",
   "execution_count": null,
   "metadata": {},
   "outputs": [],
   "source": [
    "# Extracting values for initial common terms from cavity_df\n",
    "cavity_values = {}\n",
    "for term in initial_common_terms:\n",
    "    cavity_values[term] = cavity_df['design_options'].apply(lambda x: x['cplr_opts'][term])"
   ]
  },
  {
   "cell_type": "code",
   "execution_count": null,
   "metadata": {},
   "outputs": [],
   "source": [
    "\n",
    "import matplotlib.pyplot as plt\n",
    "\n",
    "# Extracting initial common terms for statistics\n",
    "initial_common_terms = list(common_terms)\n",
    "\n",
    "# Creating plots\n",
    "fig, axs = plt.subplots(len(initial_common_terms), 2, figsize=(12, 10), sharey='row')\n",
    "fig.suptitle('Statistics of Initial Common Terms between ncap_df and cavity_df')\n",
    "\n",
    "for i, term in enumerate(initial_common_terms):\n",
    "    # Plotting for ncap_df\n",
    "    axs[i, 0].hist(ncap_values[term], color='skyblue', edgecolor='black', alpha=0.7)\n",
    "    axs[i, 0].set_title(f'ncap_df: {term}')\n",
    "    axs[i, 0].set_ylabel('Frequency')\n",
    "\n",
    "    try:\n",
    "        # Plotting for cavity_df\n",
    "        axs[i, 1].hist(cavity_values[term], color='orange', edgecolor='black', alpha=0.7)\n",
    "        axs[i, 1].set_title(f'cavity_df: {term}')\n",
    "    except:\n",
    "        pass\n",
    "\n",
    "# Adjusting layout\n",
    "plt.tight_layout(rect=[0, 0.03, 1, 0.95])\n",
    "plt.show()\n"
   ]
  },
  {
   "cell_type": "code",
   "execution_count": null,
   "metadata": {},
   "outputs": [],
   "source": []
  },
  {
   "cell_type": "code",
   "execution_count": null,
   "metadata": {},
   "outputs": [],
   "source": [
    "results = analyzer.find_closest(target_params=target_params,\n",
    "                                       num_top=5,\n",
    "                                       metric=\"Euclidean\",\n",
    "                                       display=True)\n",
    "results"
   ]
  },
  {
   "cell_type": "markdown",
   "metadata": {},
   "source": [
    "Lets say we want to use the \"Weighted Euclidean\" metric to find the closest design to our target cavity parameters.\n",
    "\n",
    "#### Weighted Euclidean Metric\n",
    "\n",
    "You can do a weighted Euclidean metric instead.\n",
    "\n",
    "$$\n",
    "F(\\{P_i\\},\\{p_i\\}) = \\sum_i w_i\\frac{(P_i - p_i)^2}{P_i^2}\n",
    "$$\n",
    "\n",
    "Here \\( w_i \\) are weights which default to 1 if not user-defined.\n",
    "\n",
    "Note: The default metric for `find_closest` is `Euclidean` when not user-defined.\n"
   ]
  },
  {
   "cell_type": "code",
   "execution_count": null,
   "metadata": {},
   "outputs": [],
   "source": [
    "# Set up the weights\n",
    "analyzer.metric_weights = {\"cavity_frequency_GHz\": 2, \"kappa_kHz\": 1}"
   ]
  },
  {
   "cell_type": "code",
   "execution_count": null,
   "metadata": {},
   "outputs": [],
   "source": [
    "results = analyzer.find_closest(target_params=target_params,\n",
    "                                       num_top=3,\n",
    "                                       metric=\"Weighted Euclidean\",\n",
    "                                       display=True)\n",
    "results"
   ]
  },
  {
   "cell_type": "markdown",
   "metadata": {},
   "source": [
    "### Querying for a target qubit-cavity design\n",
    "\n",
    "Again, we follow the same procedure as before."
   ]
  },
  {
   "cell_type": "code",
   "execution_count": null,
   "metadata": {},
   "outputs": [],
   "source": [
    "db.select_system([\"qubit\",\"cavity_claw\"])"
   ]
  },
  {
   "cell_type": "code",
   "execution_count": null,
   "metadata": {},
   "outputs": [],
   "source": [
    "db.select_qubit(\"TransmonCross\")\n",
    "db.select_cavity_claw(\"RouteMeander\")\n",
    "db.select_coupler(\"CLT\")"
   ]
  },
  {
   "cell_type": "code",
   "execution_count": null,
   "metadata": {},
   "outputs": [],
   "source": [
    "db.show_selections()"
   ]
  },
  {
   "cell_type": "code",
   "execution_count": null,
   "metadata": {},
   "outputs": [],
   "source": [
    "merged_df = db.create_system_df()"
   ]
  },
  {
   "cell_type": "code",
   "execution_count": null,
   "metadata": {},
   "outputs": [],
   "source": [
    "merged_df"
   ]
  },
  {
   "cell_type": "markdown",
   "metadata": {},
   "source": [
    "Pass the `SQuADDS_DB` instance to the `Analyzer` object."
   ]
  },
  {
   "cell_type": "code",
   "execution_count": null,
   "metadata": {},
   "outputs": [],
   "source": [
    "analyzer = Analyzer(db)"
   ]
  },
  {
   "cell_type": "markdown",
   "metadata": {},
   "source": [
    "Always good to check whether the system you have selected is correct."
   ]
  },
  {
   "cell_type": "code",
   "execution_count": null,
   "metadata": {},
   "outputs": [],
   "source": [
    "db.selected_system"
   ]
  },
  {
   "cell_type": "code",
   "execution_count": null,
   "metadata": {},
   "outputs": [],
   "source": [
    "analyzer.selected_system"
   ]
  },
  {
   "cell_type": "markdown",
   "metadata": {},
   "source": [
    "Define the `target_params` for your qubit-cavity system."
   ]
  },
  {
   "cell_type": "code",
   "execution_count": null,
   "metadata": {},
   "outputs": [],
   "source": [
    "target_params = {\n",
    "                \"qubit_frequency_GHz\": 4,\n",
    "                \"cavity_frequency_GHz\": 6.2,\n",
    "                \"kappa_kHz\": 120,\n",
    "                \"resonator_type\":\"quarter\",\n",
    "                \"anharmonicity_MHz\": -200,\n",
    "                \"g_MHz\": 70}"
   ]
  },
  {
   "cell_type": "code",
   "execution_count": null,
   "metadata": {},
   "outputs": [],
   "source": [
    "results = analyzer.find_closest(target_params=target_params,\n",
    "                                       num_top=3,\n",
    "                                       metric=\"Euclidean\",\n",
    "                                       display=True)\n",
    "results"
   ]
  },
  {
   "cell_type": "markdown",
   "metadata": {},
   "source": [
    "Awesome! we have some designs for our qubit-cavity system. To see where the closest design lies in the Hamiltonian parameter space, we can use the `closest_design_in_H_space` method."
   ]
  },
  {
   "cell_type": "code",
   "execution_count": null,
   "metadata": {},
   "outputs": [],
   "source": [
    "%matplotlib inline"
   ]
  },
  {
   "cell_type": "code",
   "execution_count": null,
   "metadata": {},
   "outputs": [],
   "source": [
    "analyzer.closest_design_in_H_space()"
   ]
  },
  {
   "cell_type": "markdown",
   "metadata": {},
   "source": [
    "#### Interpolation of Best Designs\n",
    "\n",
    "Even though the `closest_design` will become better as more validated pre-simulated points are added to the database, it is still a good idea to interpolate to get the best designs."
   ]
  },
  {
   "cell_type": "markdown",
   "metadata": {},
   "source": [
    "We use the physics inspired interpolation algorithm described in our [paper](https://arxiv.org/pdf/2312.13483.pdf) - `ScalingInterpolator` class to interpolate the best designs."
   ]
  },
  {
   "cell_type": "code",
   "execution_count": null,
   "metadata": {},
   "outputs": [],
   "source": [
    "from squadds.interpolations.physics import ScalingInterpolator"
   ]
  },
  {
   "cell_type": "markdown",
   "metadata": {},
   "source": [
    "We pass the `Analzyer` object and the `target_params` dict to the `ScalingInterpolator` class."
   ]
  },
  {
   "cell_type": "code",
   "execution_count": null,
   "metadata": {},
   "outputs": [],
   "source": [
    "# Create an instance of ScalingInterpolator\n",
    "interpolator = ScalingInterpolator(analyzer, target_params)\n",
    "\n",
    "design_df = interpolator.get_design()"
   ]
  },
  {
   "cell_type": "markdown",
   "metadata": {},
   "source": [
    "The `design_df` contains the various `design_options` for the best designs and also the `sim_options` needed to simulate them."
   ]
  },
  {
   "cell_type": "code",
   "execution_count": null,
   "metadata": {},
   "outputs": [],
   "source": [
    "design_df"
   ]
  },
  {
   "cell_type": "markdown",
   "metadata": {},
   "source": [
    "Congrats for making it to the end of this tutorial! 🤗🎉 You have now learned how to use the SQuADDS API to query for closest and \"best-guess\" interpolated device designs for your chosen Hamiltonian parameters.\n",
    "\n",
    "## Next Steps...\n",
    "\n",
    "In the next [tutorial](https://lfl-lab.github.io/SQuADDS/source/tutorials/Tutorial-2_Simulate_interpolated_designs.html), we will learn how to simulate the \"best-guess\" design using an EM solver tool and the `SQuADDS` API."
   ]
  },
  {
   "cell_type": "markdown",
   "metadata": {},
   "source": [
    "## License\n",
    "\n",
    "<div style='width: 100%; background-color:#3cb1c2;color:#324344;padding-left: 10px; padding-bottom: 10px; padding-right: 10px; padding-top: 5px'>\n",
    "    <h3>This code is a part of SQuADDS</h3>\n",
    "    <p>Developed by Sadman Ahmed Shanto</p>\n",
    "    <p>&copy; Copyright Sadman Ahmed Shanto & Eli Levenson-Falk 2023.</p>\n",
    "    <p>This code is licensed under the MIT License. You may<br> obtain a copy of this license in the LICENSE.txt file in the root directory<br> of this source tree.</p>\n",
    "    <p>Any modifications or derivative works of this code must retain this<br>copyright notice, and modified files need to carry a notice indicating<br>that they have been altered from the originals.</p>\n",
    "</div>"
   ]
  }
 ],
 "metadata": {
  "kernelspec": {
   "display_name": "Python 3",
   "language": "python",
   "name": "python3"
  },
  "language_info": {
   "codemirror_mode": {
    "name": "ipython",
    "version": 3
   },
   "file_extension": ".py",
   "mimetype": "text/x-python",
   "name": "python",
   "nbconvert_exporter": "python",
   "pygments_lexer": "ipython3",
   "version": "3.10.6"
  }
 },
 "nbformat": 4,
 "nbformat_minor": 2
}

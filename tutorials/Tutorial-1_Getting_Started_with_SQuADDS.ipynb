{
 "cells": [
  {
   "cell_type": "markdown",
   "metadata": {},
   "source": [
    "# Tutorial 1: Getting Started with SQuADDS\n",
    "\n",
    "In this tutorial, we will walk you through some basic usage of SQuADDS. By the end of this tutorial, you will be able to:\n",
    "\n",
    "- Have an HuggingFace account\n",
    "\n",
    "- Access the SQuADDS Database\n",
    "\n",
    "- Use the SQuADDS API to query for closest and \"best-guess\" interpolated device designs for your chosen Hamiltonian parameters\n",
    "\n",
    "- Simulate the \"best-guess\" design using an EM solver tool"
   ]
  },
  {
   "cell_type": "code",
   "execution_count": 1,
   "metadata": {},
   "outputs": [],
   "source": [
    "%load_ext autoreload\n",
    "%autoreload 2"
   ]
  },
  {
   "cell_type": "code",
   "execution_count": null,
   "metadata": {},
   "outputs": [],
   "source": [
    "!pip install -e ../."
   ]
  },
  {
   "cell_type": "markdown",
   "metadata": {},
   "source": [
    "Since the SQuADDS Database is hosted on [HuggingFace](https://huggingface.co/), we will need to create an account and get an API key to access the database.\n",
    "\n",
    "## HuggingFace 🤗 \n",
    "\n",
    "HuggingFace is a company that provides a large number of NLP models and datasets. They also provide a platform to host your own models and datasets.\n",
    "\n",
    "### Creating an  Account\n",
    "\n",
    "Follow the instructions here - [HuggingFace: Sign Up](https://huggingface.co/join) - to create an account.\n",
    "\n",
    "Once you have created an account, you can get your API key from the [settings page](https://huggingface.co/settings/token).\n",
    "\n",
    "Please update the `HUGGINGFACE_API_KEY` variable in the `.env` file with your API key or execute the following code to set the environment variable."
   ]
  },
  {
   "cell_type": "code",
   "execution_count": null,
   "metadata": {},
   "outputs": [],
   "source": [
    "from squadds.core.utils import set_huggingface_api_key\n",
    "\n",
    "set_huggingface_api_key()"
   ]
  },
  {
   "cell_type": "markdown",
   "metadata": {},
   "source": [
    "### Login\n",
    "\n",
    "To login to your HuggingFace account, run the following command in your terminal:\n",
    "\n",
    "```bash\n",
    "huggingface-cli login\n",
    "```\n",
    "\n",
    "You will be prompted to enter your username and password. Once you have logged in, you can check your login status by running the following command:\n",
    "\n",
    "```bash\n",
    "huggingface-cli whoami\n",
    "```\n"
   ]
  },
  {
   "cell_type": "markdown",
   "metadata": {},
   "source": [
    "### Accessing the SQuADDS Database using the HuggingFace API\n",
    "\n",
    "The SQuADDS Database is hosted on HuggingFace. You can access the database using the `datasets` library from HuggingFace."
   ]
  },
  {
   "cell_type": "code",
   "execution_count": null,
   "metadata": {},
   "outputs": [],
   "source": [
    "from datasets import get_dataset_config_names\n",
    "from datasets import load_dataset\n",
    "\n",
    "configs = get_dataset_config_names(\"SQuADDS/SQuADDS_DB\")"
   ]
  },
  {
   "cell_type": "code",
   "execution_count": null,
   "metadata": {},
   "outputs": [],
   "source": [
    "components = []\n",
    "component_names = []\n",
    "data_types = []\n",
    "\n",
    "for config in configs:\n",
    "    components.append(config.split(\"-\")[0])\n",
    "    component_names.append(config.split(\"-\")[1])\n",
    "    data_types.append(config.split(\"-\")[2])\n",
    "    \n",
    "print(components)\n",
    "print(component_names)\n",
    "print(data_types)\n",
    "    "
   ]
  },
  {
   "cell_type": "code",
   "execution_count": null,
   "metadata": {},
   "outputs": [],
   "source": [
    "qubit_data = load_dataset(\"SQuADDS/SQuADDS_DB\", configs[0])\n",
    "qubit_data"
   ]
  },
  {
   "cell_type": "markdown",
   "metadata": {},
   "source": [
    "## Using the SQuADDS API to access and anlyze the database\n",
    "\n",
    "While it is possible to directly access the SQuADDS Database using the `datasets` library, we have created a simple API to make it easier to query the database."
   ]
  },
  {
   "cell_type": "markdown",
   "metadata": {},
   "source": [
    "### Making Systems out of Circuit QED Elements"
   ]
  },
  {
   "cell_type": "code",
   "execution_count": 2,
   "metadata": {},
   "outputs": [],
   "source": [
    "from squadds import SQuADDS_DB"
   ]
  },
  {
   "cell_type": "code",
   "execution_count": 3,
   "metadata": {},
   "outputs": [
    {
     "data": {
      "application/vnd.jupyter.widget-view+json": {
       "model_id": "9da5d152d56247fcbf33fb5fcfa38de8",
       "version_major": 2,
       "version_minor": 0
      },
      "text/plain": [
       "Downloading readme:   0%|          | 0.00/2.35k [00:00<?, ?B/s]"
      ]
     },
     "metadata": {},
     "output_type": "display_data"
    }
   ],
   "source": [
    "db = SQuADDS_DB()"
   ]
  },
  {
   "cell_type": "code",
   "execution_count": 4,
   "metadata": {},
   "outputs": [
    {
     "name": "stdout",
     "output_type": "stream",
     "text": [
      "╒═════════════╤══════════════════╤══════════════════╕\n",
      "│ Component   │ Component Name   │ Data Available   │\n",
      "╞═════════════╪══════════════════╪══════════════════╡\n",
      "│ qubit       │ TransmonCross    │ cap_matrix       │\n",
      "├─────────────┼──────────────────┼──────────────────┤\n",
      "│ cavity_claw │ RouteMeander     │ eigenmode        │\n",
      "├─────────────┼──────────────────┼──────────────────┤\n",
      "│ coupler     │ NCap             │ cap_matrix       │\n",
      "╘═════════════╧══════════════════╧══════════════════╛\n"
     ]
    }
   ],
   "source": [
    "db.view_datasets()"
   ]
  },
  {
   "cell_type": "code",
   "execution_count": null,
   "metadata": {},
   "outputs": [],
   "source": [
    "db.get_dataset_info(component=\"qubit\", component_name=\"TransmonCross\", data_type=\"cap_matrix\")"
   ]
  },
  {
   "cell_type": "code",
   "execution_count": 5,
   "metadata": {},
   "outputs": [
    {
     "data": {
      "application/vnd.jupyter.widget-view+json": {
       "model_id": "6e2c08fde7e841d68cea700d41d40e83",
       "version_major": 2,
       "version_minor": 0
      },
      "text/plain": [
       "Downloading data files:   0%|          | 0/1 [00:00<?, ?it/s]"
      ]
     },
     "metadata": {},
     "output_type": "display_data"
    },
    {
     "data": {
      "application/vnd.jupyter.widget-view+json": {
       "model_id": "a2fd5c73b57e40afb98d11f1a457d647",
       "version_major": 2,
       "version_minor": 0
      },
      "text/plain": [
       "Downloading data:   0%|          | 0.00/770k [00:00<?, ?B/s]"
      ]
     },
     "metadata": {},
     "output_type": "display_data"
    },
    {
     "data": {
      "application/vnd.jupyter.widget-view+json": {
       "model_id": "cc0ed3b0ed1d406e8f751f800fc7cc0d",
       "version_major": 2,
       "version_minor": 0
      },
      "text/plain": [
       "Extracting data files:   0%|          | 0/1 [00:00<?, ?it/s]"
      ]
     },
     "metadata": {},
     "output_type": "display_data"
    },
    {
     "data": {
      "application/vnd.jupyter.widget-view+json": {
       "model_id": "51f6dd41334545ddb531cdef8d610b16",
       "version_major": 2,
       "version_minor": 0
      },
      "text/plain": [
       "Generating train split: 0 examples [00:00, ? examples/s]"
      ]
     },
     "metadata": {},
     "output_type": "display_data"
    },
    {
     "name": "stdout",
     "output_type": "stream",
     "text": [
      "================================================================================\n",
      "Dataset Features:\n",
      "{'contributor': {'PI': Value(dtype='string', id=None),\n",
      "                 'date_created': Value(dtype='string', id=None),\n",
      "                 'group': Value(dtype='string', id=None),\n",
      "                 'institution': Value(dtype='string', id=None),\n",
      "                 'uploader': Value(dtype='string', id=None)},\n",
      " 'design': {'coupler_type': Value(dtype='string', id=None),\n",
      "            'design_options': {...},\n",
      "            'design_tool': Value(dtype='string', id=None),\n",
      "            'resonator_type': Value(dtype='string', id=None)},\n",
      " 'notes': {},\n",
      " 'sim_options': {'setup': {...}, 'simulator': Value(dtype='string', id=None)},\n",
      " 'sim_results': {'cavity_frequency': Value(dtype='float64', id=None),\n",
      "                 'kappa': Value(dtype='float64', id=None),\n",
      "                 'units': Value(dtype='string', id=None)}}\n",
      "\n",
      "Dataset Description:\n",
      "\n",
      "\n",
      "Dataset Citation:\n",
      "\n",
      "\n",
      "Dataset Homepage:\n",
      "\n",
      "\n",
      "Dataset License:\n",
      "\n",
      "\n",
      "Dataset Size in Bytes:\n",
      "891279\n",
      "================================================================================\n"
     ]
    }
   ],
   "source": [
    "db.get_dataset_info(component=\"cavity_claw\", component_name=\"RouteMeander\", data_type=\"eigenmode\")"
   ]
  },
  {
   "cell_type": "code",
   "execution_count": null,
   "metadata": {},
   "outputs": [],
   "source": [
    "db.get_dataset(component=\"qubit\", component_name=\"TransmonCross\", data_type=\"cap_matrix\")"
   ]
  },
  {
   "cell_type": "code",
   "execution_count": null,
   "metadata": {},
   "outputs": [],
   "source": [
    "db.get_configs()"
   ]
  },
  {
   "cell_type": "code",
   "execution_count": null,
   "metadata": {},
   "outputs": [],
   "source": [
    "db.view_contributors_of(\"qubit\", \"TransmonCross\", \"cap_matrix\")"
   ]
  },
  {
   "cell_type": "code",
   "execution_count": null,
   "metadata": {},
   "outputs": [],
   "source": [
    "db.view_all_contributors()"
   ]
  },
  {
   "cell_type": "markdown",
   "metadata": {},
   "source": [
    "### Querying for the a target qubit design"
   ]
  },
  {
   "cell_type": "code",
   "execution_count": null,
   "metadata": {},
   "outputs": [],
   "source": [
    "db.select_system(\"qubit\")"
   ]
  },
  {
   "cell_type": "code",
   "execution_count": null,
   "metadata": {},
   "outputs": [],
   "source": [
    "db.select_qubit(\"TransmonCross\")"
   ]
  },
  {
   "cell_type": "code",
   "execution_count": null,
   "metadata": {},
   "outputs": [],
   "source": [
    "db.selected_system"
   ]
  },
  {
   "cell_type": "code",
   "execution_count": null,
   "metadata": {},
   "outputs": [],
   "source": [
    "df = db.selected_system_df()\n",
    "df"
   ]
  },
  {
   "cell_type": "code",
   "execution_count": null,
   "metadata": {},
   "outputs": [],
   "source": []
  },
  {
   "cell_type": "markdown",
   "metadata": {},
   "source": [
    "### Querying for a target cavity design"
   ]
  },
  {
   "cell_type": "code",
   "execution_count": 6,
   "metadata": {},
   "outputs": [],
   "source": [
    "db.unselect_all()"
   ]
  },
  {
   "cell_type": "code",
   "execution_count": 7,
   "metadata": {},
   "outputs": [],
   "source": [
    "db.select_system(\"cavity_claw\")"
   ]
  },
  {
   "cell_type": "code",
   "execution_count": 8,
   "metadata": {},
   "outputs": [],
   "source": [
    "db.select_cavity_claw(\"RouteMeander\")"
   ]
  },
  {
   "cell_type": "code",
   "execution_count": 9,
   "metadata": {},
   "outputs": [],
   "source": [
    "db.select_coupler(\"CLT\")"
   ]
  },
  {
   "cell_type": "code",
   "execution_count": 10,
   "metadata": {},
   "outputs": [
    {
     "name": "stdout",
     "output_type": "stream",
     "text": [
      "Selected component:  cavity_claw\n",
      "Selected component name:  RouteMeander\n",
      "Selected data type:  eigenmode\n",
      "Selected system:  cavity_claw\n",
      "Selected coupler:  CLT\n"
     ]
    }
   ],
   "source": [
    "db.show_selections()"
   ]
  },
  {
   "cell_type": "code",
   "execution_count": 11,
   "metadata": {},
   "outputs": [
    {
     "data": {
      "text/html": [
       "<div>\n",
       "<style scoped>\n",
       "    .dataframe tbody tr th:only-of-type {\n",
       "        vertical-align: middle;\n",
       "    }\n",
       "\n",
       "    .dataframe tbody tr th {\n",
       "        vertical-align: top;\n",
       "    }\n",
       "\n",
       "    .dataframe thead th {\n",
       "        text-align: right;\n",
       "    }\n",
       "</style>\n",
       "<table border=\"1\" class=\"dataframe\">\n",
       "  <thead>\n",
       "    <tr style=\"text-align: right;\">\n",
       "      <th></th>\n",
       "      <th>cavity_frequency</th>\n",
       "      <th>kappa</th>\n",
       "      <th>units</th>\n",
       "      <th>PI</th>\n",
       "      <th>date_created</th>\n",
       "      <th>group</th>\n",
       "      <th>institution</th>\n",
       "      <th>uploader</th>\n",
       "      <th>setup</th>\n",
       "      <th>simulator</th>\n",
       "      <th>coupler_type</th>\n",
       "      <th>design_options</th>\n",
       "      <th>design_tool</th>\n",
       "      <th>resonator_type</th>\n",
       "    </tr>\n",
       "  </thead>\n",
       "  <tbody>\n",
       "    <tr>\n",
       "      <th>0</th>\n",
       "      <td>5.353550e+09</td>\n",
       "      <td>161106.598429</td>\n",
       "      <td>Hz</td>\n",
       "      <td>Eli Levenson-Falk, PhD</td>\n",
       "      <td>2023-12-01-170608</td>\n",
       "      <td>LFL</td>\n",
       "      <td>USC</td>\n",
       "      <td>Andre Kuo</td>\n",
       "      <td>{'basis_order': 1, 'max_delta_f': 0.05, 'max_p...</td>\n",
       "      <td>Ansys HFSS</td>\n",
       "      <td>CLT</td>\n",
       "      <td>{'claw_opts': {'connection_pads': {'readout': ...</td>\n",
       "      <td>qiskit-metal</td>\n",
       "      <td>quarter</td>\n",
       "    </tr>\n",
       "    <tr>\n",
       "      <th>1</th>\n",
       "      <td>8.399241e+09</td>\n",
       "      <td>268412.116632</td>\n",
       "      <td>Hz</td>\n",
       "      <td>Eli Levenson-Falk, PhD</td>\n",
       "      <td>2023-12-04-124953</td>\n",
       "      <td>LFL</td>\n",
       "      <td>USC</td>\n",
       "      <td>Andre Kuo</td>\n",
       "      <td>{'basis_order': 1, 'max_delta_f': 0.05, 'max_p...</td>\n",
       "      <td>Ansys HFSS</td>\n",
       "      <td>CLT</td>\n",
       "      <td>{'claw_opts': {'connection_pads': {'readout': ...</td>\n",
       "      <td>qiskit-metal</td>\n",
       "      <td>quarter</td>\n",
       "    </tr>\n",
       "    <tr>\n",
       "      <th>2</th>\n",
       "      <td>8.694845e+09</td>\n",
       "      <td>255873.654612</td>\n",
       "      <td>Hz</td>\n",
       "      <td>Eli Levenson-Falk, PhD</td>\n",
       "      <td>2023-12-09-204334</td>\n",
       "      <td>LFL</td>\n",
       "      <td>USC</td>\n",
       "      <td>Andre Kuo</td>\n",
       "      <td>{'basis_order': 1, 'max_delta_f': 0.05, 'max_p...</td>\n",
       "      <td>Ansys HFSS</td>\n",
       "      <td>CLT</td>\n",
       "      <td>{'claw_opts': {'connection_pads': {'readout': ...</td>\n",
       "      <td>qiskit-metal</td>\n",
       "      <td>quarter</td>\n",
       "    </tr>\n",
       "    <tr>\n",
       "      <th>3</th>\n",
       "      <td>6.616574e+09</td>\n",
       "      <td>30459.761161</td>\n",
       "      <td>Hz</td>\n",
       "      <td>Eli Levenson-Falk, PhD</td>\n",
       "      <td>2023-12-08-173545</td>\n",
       "      <td>LFL</td>\n",
       "      <td>USC</td>\n",
       "      <td>Andre Kuo</td>\n",
       "      <td>{'basis_order': 1, 'max_delta_f': 0.05, 'max_p...</td>\n",
       "      <td>Ansys HFSS</td>\n",
       "      <td>CLT</td>\n",
       "      <td>{'claw_opts': {'connection_pads': {'readout': ...</td>\n",
       "      <td>qiskit-metal</td>\n",
       "      <td>quarter</td>\n",
       "    </tr>\n",
       "    <tr>\n",
       "      <th>4</th>\n",
       "      <td>7.986835e+09</td>\n",
       "      <td>208304.221064</td>\n",
       "      <td>Hz</td>\n",
       "      <td>Eli Levenson-Falk, PhD</td>\n",
       "      <td>2023-12-09-204334</td>\n",
       "      <td>LFL</td>\n",
       "      <td>USC</td>\n",
       "      <td>Andre Kuo</td>\n",
       "      <td>{'basis_order': 1, 'max_delta_f': 0.05, 'max_p...</td>\n",
       "      <td>Ansys HFSS</td>\n",
       "      <td>CLT</td>\n",
       "      <td>{'claw_opts': {'connection_pads': {'readout': ...</td>\n",
       "      <td>qiskit-metal</td>\n",
       "      <td>quarter</td>\n",
       "    </tr>\n",
       "    <tr>\n",
       "      <th>...</th>\n",
       "      <td>...</td>\n",
       "      <td>...</td>\n",
       "      <td>...</td>\n",
       "      <td>...</td>\n",
       "      <td>...</td>\n",
       "      <td>...</td>\n",
       "      <td>...</td>\n",
       "      <td>...</td>\n",
       "      <td>...</td>\n",
       "      <td>...</td>\n",
       "      <td>...</td>\n",
       "      <td>...</td>\n",
       "      <td>...</td>\n",
       "      <td>...</td>\n",
       "    </tr>\n",
       "    <tr>\n",
       "      <th>229</th>\n",
       "      <td>4.949469e+09</td>\n",
       "      <td>126438.881378</td>\n",
       "      <td>Hz</td>\n",
       "      <td>Eli Levenson-Falk, PhD</td>\n",
       "      <td>2023-12-01-170608</td>\n",
       "      <td>LFL</td>\n",
       "      <td>USC</td>\n",
       "      <td>Andre Kuo</td>\n",
       "      <td>{'basis_order': 1, 'max_delta_f': 0.05, 'max_p...</td>\n",
       "      <td>Ansys HFSS</td>\n",
       "      <td>CLT</td>\n",
       "      <td>{'claw_opts': {'connection_pads': {'readout': ...</td>\n",
       "      <td>qiskit-metal</td>\n",
       "      <td>quarter</td>\n",
       "    </tr>\n",
       "    <tr>\n",
       "      <th>230</th>\n",
       "      <td>8.805442e+09</td>\n",
       "      <td>291439.656224</td>\n",
       "      <td>Hz</td>\n",
       "      <td>Eli Levenson-Falk, PhD</td>\n",
       "      <td>2023-12-04-124953</td>\n",
       "      <td>LFL</td>\n",
       "      <td>USC</td>\n",
       "      <td>Andre Kuo</td>\n",
       "      <td>{'basis_order': 1, 'max_delta_f': 0.05, 'max_p...</td>\n",
       "      <td>Ansys HFSS</td>\n",
       "      <td>CLT</td>\n",
       "      <td>{'claw_opts': {'connection_pads': {'readout': ...</td>\n",
       "      <td>qiskit-metal</td>\n",
       "      <td>quarter</td>\n",
       "    </tr>\n",
       "    <tr>\n",
       "      <th>231</th>\n",
       "      <td>6.597444e+09</td>\n",
       "      <td>587144.918000</td>\n",
       "      <td>Hz</td>\n",
       "      <td>Eli Levenson-Falk, PhD</td>\n",
       "      <td>2023-12-06-224829</td>\n",
       "      <td>LFL</td>\n",
       "      <td>USC</td>\n",
       "      <td>Andre Kuo</td>\n",
       "      <td>{'basis_order': 1, 'max_delta_f': 0.05, 'max_p...</td>\n",
       "      <td>Ansys HFSS</td>\n",
       "      <td>CLT</td>\n",
       "      <td>{'claw_opts': {'connection_pads': {'readout': ...</td>\n",
       "      <td>qiskit-metal</td>\n",
       "      <td>quarter</td>\n",
       "    </tr>\n",
       "    <tr>\n",
       "      <th>232</th>\n",
       "      <td>8.116894e+09</td>\n",
       "      <td>209744.544864</td>\n",
       "      <td>Hz</td>\n",
       "      <td>Eli Levenson-Falk, PhD</td>\n",
       "      <td>2023-12-09-204334</td>\n",
       "      <td>LFL</td>\n",
       "      <td>USC</td>\n",
       "      <td>Andre Kuo</td>\n",
       "      <td>{'basis_order': 1, 'max_delta_f': 0.05, 'max_p...</td>\n",
       "      <td>Ansys HFSS</td>\n",
       "      <td>CLT</td>\n",
       "      <td>{'claw_opts': {'connection_pads': {'readout': ...</td>\n",
       "      <td>qiskit-metal</td>\n",
       "      <td>quarter</td>\n",
       "    </tr>\n",
       "    <tr>\n",
       "      <th>233</th>\n",
       "      <td>5.145996e+09</td>\n",
       "      <td>155139.565546</td>\n",
       "      <td>Hz</td>\n",
       "      <td>Eli Levenson-Falk, PhD</td>\n",
       "      <td>2023-12-01-170608</td>\n",
       "      <td>LFL</td>\n",
       "      <td>USC</td>\n",
       "      <td>Andre Kuo</td>\n",
       "      <td>{'basis_order': 1, 'max_delta_f': 0.05, 'max_p...</td>\n",
       "      <td>Ansys HFSS</td>\n",
       "      <td>CLT</td>\n",
       "      <td>{'claw_opts': {'connection_pads': {'readout': ...</td>\n",
       "      <td>qiskit-metal</td>\n",
       "      <td>quarter</td>\n",
       "    </tr>\n",
       "  </tbody>\n",
       "</table>\n",
       "<p>234 rows × 14 columns</p>\n",
       "</div>"
      ],
      "text/plain": [
       "     cavity_frequency          kappa units                      PI  \\\n",
       "0        5.353550e+09  161106.598429    Hz  Eli Levenson-Falk, PhD   \n",
       "1        8.399241e+09  268412.116632    Hz  Eli Levenson-Falk, PhD   \n",
       "2        8.694845e+09  255873.654612    Hz  Eli Levenson-Falk, PhD   \n",
       "3        6.616574e+09   30459.761161    Hz  Eli Levenson-Falk, PhD   \n",
       "4        7.986835e+09  208304.221064    Hz  Eli Levenson-Falk, PhD   \n",
       "..                ...            ...   ...                     ...   \n",
       "229      4.949469e+09  126438.881378    Hz  Eli Levenson-Falk, PhD   \n",
       "230      8.805442e+09  291439.656224    Hz  Eli Levenson-Falk, PhD   \n",
       "231      6.597444e+09  587144.918000    Hz  Eli Levenson-Falk, PhD   \n",
       "232      8.116894e+09  209744.544864    Hz  Eli Levenson-Falk, PhD   \n",
       "233      5.145996e+09  155139.565546    Hz  Eli Levenson-Falk, PhD   \n",
       "\n",
       "          date_created group institution   uploader  \\\n",
       "0    2023-12-01-170608   LFL         USC  Andre Kuo   \n",
       "1    2023-12-04-124953   LFL         USC  Andre Kuo   \n",
       "2    2023-12-09-204334   LFL         USC  Andre Kuo   \n",
       "3    2023-12-08-173545   LFL         USC  Andre Kuo   \n",
       "4    2023-12-09-204334   LFL         USC  Andre Kuo   \n",
       "..                 ...   ...         ...        ...   \n",
       "229  2023-12-01-170608   LFL         USC  Andre Kuo   \n",
       "230  2023-12-04-124953   LFL         USC  Andre Kuo   \n",
       "231  2023-12-06-224829   LFL         USC  Andre Kuo   \n",
       "232  2023-12-09-204334   LFL         USC  Andre Kuo   \n",
       "233  2023-12-01-170608   LFL         USC  Andre Kuo   \n",
       "\n",
       "                                                 setup   simulator  \\\n",
       "0    {'basis_order': 1, 'max_delta_f': 0.05, 'max_p...  Ansys HFSS   \n",
       "1    {'basis_order': 1, 'max_delta_f': 0.05, 'max_p...  Ansys HFSS   \n",
       "2    {'basis_order': 1, 'max_delta_f': 0.05, 'max_p...  Ansys HFSS   \n",
       "3    {'basis_order': 1, 'max_delta_f': 0.05, 'max_p...  Ansys HFSS   \n",
       "4    {'basis_order': 1, 'max_delta_f': 0.05, 'max_p...  Ansys HFSS   \n",
       "..                                                 ...         ...   \n",
       "229  {'basis_order': 1, 'max_delta_f': 0.05, 'max_p...  Ansys HFSS   \n",
       "230  {'basis_order': 1, 'max_delta_f': 0.05, 'max_p...  Ansys HFSS   \n",
       "231  {'basis_order': 1, 'max_delta_f': 0.05, 'max_p...  Ansys HFSS   \n",
       "232  {'basis_order': 1, 'max_delta_f': 0.05, 'max_p...  Ansys HFSS   \n",
       "233  {'basis_order': 1, 'max_delta_f': 0.05, 'max_p...  Ansys HFSS   \n",
       "\n",
       "    coupler_type                                     design_options  \\\n",
       "0            CLT  {'claw_opts': {'connection_pads': {'readout': ...   \n",
       "1            CLT  {'claw_opts': {'connection_pads': {'readout': ...   \n",
       "2            CLT  {'claw_opts': {'connection_pads': {'readout': ...   \n",
       "3            CLT  {'claw_opts': {'connection_pads': {'readout': ...   \n",
       "4            CLT  {'claw_opts': {'connection_pads': {'readout': ...   \n",
       "..           ...                                                ...   \n",
       "229          CLT  {'claw_opts': {'connection_pads': {'readout': ...   \n",
       "230          CLT  {'claw_opts': {'connection_pads': {'readout': ...   \n",
       "231          CLT  {'claw_opts': {'connection_pads': {'readout': ...   \n",
       "232          CLT  {'claw_opts': {'connection_pads': {'readout': ...   \n",
       "233          CLT  {'claw_opts': {'connection_pads': {'readout': ...   \n",
       "\n",
       "      design_tool resonator_type  \n",
       "0    qiskit-metal        quarter  \n",
       "1    qiskit-metal        quarter  \n",
       "2    qiskit-metal        quarter  \n",
       "3    qiskit-metal        quarter  \n",
       "4    qiskit-metal        quarter  \n",
       "..            ...            ...  \n",
       "229  qiskit-metal        quarter  \n",
       "230  qiskit-metal        quarter  \n",
       "231  qiskit-metal        quarter  \n",
       "232  qiskit-metal        quarter  \n",
       "233  qiskit-metal        quarter  \n",
       "\n",
       "[234 rows x 14 columns]"
      ]
     },
     "execution_count": 11,
     "metadata": {},
     "output_type": "execute_result"
    }
   ],
   "source": [
    "db.selected_system_df()"
   ]
  },
  {
   "cell_type": "code",
   "execution_count": null,
   "metadata": {},
   "outputs": [],
   "source": []
  },
  {
   "cell_type": "markdown",
   "metadata": {},
   "source": [
    "### Querying for a target qubit-cavity design"
   ]
  },
  {
   "cell_type": "code",
   "execution_count": 12,
   "metadata": {},
   "outputs": [],
   "source": [
    "db.select_system([\"qubit\",\"cavity_claw\"])"
   ]
  },
  {
   "cell_type": "code",
   "execution_count": 13,
   "metadata": {},
   "outputs": [],
   "source": [
    "db.select_qubit(\"TransmonCross\")\n",
    "db.select_cavity_claw(\"RouteMeander\")\n",
    "db.select_coupler(\"CLT\")"
   ]
  },
  {
   "cell_type": "code",
   "execution_count": 14,
   "metadata": {},
   "outputs": [
    {
     "name": "stdout",
     "output_type": "stream",
     "text": [
      "Selected qubit:  TransmonCross\n",
      "Selected cavity:  RouteMeander\n",
      "Selected coupler:  CLT\n",
      "Selected system:  ['qubit', 'cavity_claw']\n"
     ]
    }
   ],
   "source": [
    "db.show_selections()"
   ]
  },
  {
   "cell_type": "code",
   "execution_count": 78,
   "metadata": {},
   "outputs": [],
   "source": [
    "merged_df = db.selected_system_df()"
   ]
  },
  {
   "cell_type": "code",
   "execution_count": 79,
   "metadata": {},
   "outputs": [
    {
     "data": {
      "text/html": [
       "<div>\n",
       "<style scoped>\n",
       "    .dataframe tbody tr th:only-of-type {\n",
       "        vertical-align: middle;\n",
       "    }\n",
       "\n",
       "    .dataframe tbody tr th {\n",
       "        vertical-align: top;\n",
       "    }\n",
       "\n",
       "    .dataframe thead th {\n",
       "        text-align: right;\n",
       "    }\n",
       "</style>\n",
       "<table border=\"1\" class=\"dataframe\">\n",
       "  <thead>\n",
       "    <tr style=\"text-align: right;\">\n",
       "      <th></th>\n",
       "      <th>claw_to_claw</th>\n",
       "      <th>claw_to_ground</th>\n",
       "      <th>cross_to_claw</th>\n",
       "      <th>cross_to_cross</th>\n",
       "      <th>cross_to_ground</th>\n",
       "      <th>ground_to_ground</th>\n",
       "      <th>units_qubit</th>\n",
       "      <th>PI_qubit</th>\n",
       "      <th>date_created_qubit</th>\n",
       "      <th>group_qubit</th>\n",
       "      <th>...</th>\n",
       "      <th>group_cavity_claw</th>\n",
       "      <th>institution_cavity_claw</th>\n",
       "      <th>uploader_cavity_claw</th>\n",
       "      <th>setup_cavity_claw</th>\n",
       "      <th>simulator_cavity_claw</th>\n",
       "      <th>coupler_type</th>\n",
       "      <th>design_options_cavity_claw</th>\n",
       "      <th>design_tool_cavity_claw</th>\n",
       "      <th>resonator_type</th>\n",
       "      <th>design_options</th>\n",
       "    </tr>\n",
       "  </thead>\n",
       "  <tbody>\n",
       "    <tr>\n",
       "      <th>0</th>\n",
       "      <td>94.97421</td>\n",
       "      <td>90.86585</td>\n",
       "      <td>3.73363</td>\n",
       "      <td>158.40783</td>\n",
       "      <td>158.40783</td>\n",
       "      <td>311.25590</td>\n",
       "      <td>nH</td>\n",
       "      <td>Eli Levenson-Falk, PhD</td>\n",
       "      <td>2023-09-20-142547</td>\n",
       "      <td>LFL</td>\n",
       "      <td>...</td>\n",
       "      <td>LFL</td>\n",
       "      <td>USC</td>\n",
       "      <td>Andre Kuo</td>\n",
       "      <td>{'basis_order': 1, 'max_delta_f': 0.05, 'max_p...</td>\n",
       "      <td>Ansys HFSS</td>\n",
       "      <td>CLT</td>\n",
       "      <td>{'claw_opts': {'connection_pads': {'readout': ...</td>\n",
       "      <td>qiskit-metal</td>\n",
       "      <td>quarter</td>\n",
       "      <td>{'cavity_claw_options': {'coupling_type': 'CLT...</td>\n",
       "    </tr>\n",
       "    <tr>\n",
       "      <th>1</th>\n",
       "      <td>94.97421</td>\n",
       "      <td>90.86585</td>\n",
       "      <td>3.73363</td>\n",
       "      <td>158.40783</td>\n",
       "      <td>158.40783</td>\n",
       "      <td>311.25590</td>\n",
       "      <td>nH</td>\n",
       "      <td>Eli Levenson-Falk, PhD</td>\n",
       "      <td>2023-09-20-142547</td>\n",
       "      <td>LFL</td>\n",
       "      <td>...</td>\n",
       "      <td>LFL</td>\n",
       "      <td>USC</td>\n",
       "      <td>Andre Kuo</td>\n",
       "      <td>{'basis_order': 1, 'max_delta_f': 0.05, 'max_p...</td>\n",
       "      <td>Ansys HFSS</td>\n",
       "      <td>CLT</td>\n",
       "      <td>{'claw_opts': {'connection_pads': {'readout': ...</td>\n",
       "      <td>qiskit-metal</td>\n",
       "      <td>quarter</td>\n",
       "      <td>{'cavity_claw_options': {'coupling_type': 'CLT...</td>\n",
       "    </tr>\n",
       "    <tr>\n",
       "      <th>2</th>\n",
       "      <td>94.97421</td>\n",
       "      <td>90.86585</td>\n",
       "      <td>3.73363</td>\n",
       "      <td>158.40783</td>\n",
       "      <td>158.40783</td>\n",
       "      <td>311.25590</td>\n",
       "      <td>nH</td>\n",
       "      <td>Eli Levenson-Falk, PhD</td>\n",
       "      <td>2023-09-20-142547</td>\n",
       "      <td>LFL</td>\n",
       "      <td>...</td>\n",
       "      <td>LFL</td>\n",
       "      <td>USC</td>\n",
       "      <td>Andre Kuo</td>\n",
       "      <td>{'basis_order': 1, 'max_delta_f': 0.05, 'max_p...</td>\n",
       "      <td>Ansys HFSS</td>\n",
       "      <td>CLT</td>\n",
       "      <td>{'claw_opts': {'connection_pads': {'readout': ...</td>\n",
       "      <td>qiskit-metal</td>\n",
       "      <td>quarter</td>\n",
       "      <td>{'cavity_claw_options': {'coupling_type': 'CLT...</td>\n",
       "    </tr>\n",
       "    <tr>\n",
       "      <th>3</th>\n",
       "      <td>94.97421</td>\n",
       "      <td>90.86585</td>\n",
       "      <td>3.73363</td>\n",
       "      <td>158.40783</td>\n",
       "      <td>158.40783</td>\n",
       "      <td>311.25590</td>\n",
       "      <td>nH</td>\n",
       "      <td>Eli Levenson-Falk, PhD</td>\n",
       "      <td>2023-09-20-142547</td>\n",
       "      <td>LFL</td>\n",
       "      <td>...</td>\n",
       "      <td>LFL</td>\n",
       "      <td>USC</td>\n",
       "      <td>Andre Kuo</td>\n",
       "      <td>{'basis_order': 1, 'max_delta_f': 0.05, 'max_p...</td>\n",
       "      <td>Ansys HFSS</td>\n",
       "      <td>CLT</td>\n",
       "      <td>{'claw_opts': {'connection_pads': {'readout': ...</td>\n",
       "      <td>qiskit-metal</td>\n",
       "      <td>quarter</td>\n",
       "      <td>{'cavity_claw_options': {'coupling_type': 'CLT...</td>\n",
       "    </tr>\n",
       "    <tr>\n",
       "      <th>4</th>\n",
       "      <td>94.97421</td>\n",
       "      <td>90.86585</td>\n",
       "      <td>3.73363</td>\n",
       "      <td>158.40783</td>\n",
       "      <td>158.40783</td>\n",
       "      <td>311.25590</td>\n",
       "      <td>nH</td>\n",
       "      <td>Eli Levenson-Falk, PhD</td>\n",
       "      <td>2023-09-20-142547</td>\n",
       "      <td>LFL</td>\n",
       "      <td>...</td>\n",
       "      <td>LFL</td>\n",
       "      <td>USC</td>\n",
       "      <td>Andre Kuo</td>\n",
       "      <td>{'basis_order': 1, 'max_delta_f': 0.05, 'max_p...</td>\n",
       "      <td>Ansys HFSS</td>\n",
       "      <td>CLT</td>\n",
       "      <td>{'claw_opts': {'connection_pads': {'readout': ...</td>\n",
       "      <td>qiskit-metal</td>\n",
       "      <td>quarter</td>\n",
       "      <td>{'cavity_claw_options': {'coupling_type': 'CLT...</td>\n",
       "    </tr>\n",
       "    <tr>\n",
       "      <th>...</th>\n",
       "      <td>...</td>\n",
       "      <td>...</td>\n",
       "      <td>...</td>\n",
       "      <td>...</td>\n",
       "      <td>...</td>\n",
       "      <td>...</td>\n",
       "      <td>...</td>\n",
       "      <td>...</td>\n",
       "      <td>...</td>\n",
       "      <td>...</td>\n",
       "      <td>...</td>\n",
       "      <td>...</td>\n",
       "      <td>...</td>\n",
       "      <td>...</td>\n",
       "      <td>...</td>\n",
       "      <td>...</td>\n",
       "      <td>...</td>\n",
       "      <td>...</td>\n",
       "      <td>...</td>\n",
       "      <td>...</td>\n",
       "      <td>...</td>\n",
       "    </tr>\n",
       "    <tr>\n",
       "      <th>11599</th>\n",
       "      <td>183.80802</td>\n",
       "      <td>168.04023</td>\n",
       "      <td>15.11184</td>\n",
       "      <td>214.45993</td>\n",
       "      <td>214.45993</td>\n",
       "      <td>454.60312</td>\n",
       "      <td>nH</td>\n",
       "      <td>Eli Levenson-Falk, PhD</td>\n",
       "      <td>2023-09-20-142547</td>\n",
       "      <td>LFL</td>\n",
       "      <td>...</td>\n",
       "      <td>LFL</td>\n",
       "      <td>USC</td>\n",
       "      <td>Andre Kuo</td>\n",
       "      <td>{'basis_order': 1, 'max_delta_f': 0.05, 'max_p...</td>\n",
       "      <td>Ansys HFSS</td>\n",
       "      <td>CLT</td>\n",
       "      <td>{'claw_opts': {'connection_pads': {'readout': ...</td>\n",
       "      <td>qiskit-metal</td>\n",
       "      <td>quarter</td>\n",
       "      <td>{'cavity_claw_options': {'coupling_type': 'CLT...</td>\n",
       "    </tr>\n",
       "    <tr>\n",
       "      <th>11600</th>\n",
       "      <td>183.80802</td>\n",
       "      <td>168.04023</td>\n",
       "      <td>15.11184</td>\n",
       "      <td>214.45993</td>\n",
       "      <td>214.45993</td>\n",
       "      <td>454.60312</td>\n",
       "      <td>nH</td>\n",
       "      <td>Eli Levenson-Falk, PhD</td>\n",
       "      <td>2023-09-20-142547</td>\n",
       "      <td>LFL</td>\n",
       "      <td>...</td>\n",
       "      <td>LFL</td>\n",
       "      <td>USC</td>\n",
       "      <td>Andre Kuo</td>\n",
       "      <td>{'basis_order': 1, 'max_delta_f': 0.05, 'max_p...</td>\n",
       "      <td>Ansys HFSS</td>\n",
       "      <td>CLT</td>\n",
       "      <td>{'claw_opts': {'connection_pads': {'readout': ...</td>\n",
       "      <td>qiskit-metal</td>\n",
       "      <td>quarter</td>\n",
       "      <td>{'cavity_claw_options': {'coupling_type': 'CLT...</td>\n",
       "    </tr>\n",
       "    <tr>\n",
       "      <th>11601</th>\n",
       "      <td>183.80802</td>\n",
       "      <td>168.04023</td>\n",
       "      <td>15.11184</td>\n",
       "      <td>214.45993</td>\n",
       "      <td>214.45993</td>\n",
       "      <td>454.60312</td>\n",
       "      <td>nH</td>\n",
       "      <td>Eli Levenson-Falk, PhD</td>\n",
       "      <td>2023-09-20-142547</td>\n",
       "      <td>LFL</td>\n",
       "      <td>...</td>\n",
       "      <td>LFL</td>\n",
       "      <td>USC</td>\n",
       "      <td>Andre Kuo</td>\n",
       "      <td>{'basis_order': 1, 'max_delta_f': 0.05, 'max_p...</td>\n",
       "      <td>Ansys HFSS</td>\n",
       "      <td>CLT</td>\n",
       "      <td>{'claw_opts': {'connection_pads': {'readout': ...</td>\n",
       "      <td>qiskit-metal</td>\n",
       "      <td>quarter</td>\n",
       "      <td>{'cavity_claw_options': {'coupling_type': 'CLT...</td>\n",
       "    </tr>\n",
       "    <tr>\n",
       "      <th>11602</th>\n",
       "      <td>183.80802</td>\n",
       "      <td>168.04023</td>\n",
       "      <td>15.11184</td>\n",
       "      <td>214.45993</td>\n",
       "      <td>214.45993</td>\n",
       "      <td>454.60312</td>\n",
       "      <td>nH</td>\n",
       "      <td>Eli Levenson-Falk, PhD</td>\n",
       "      <td>2023-09-20-142547</td>\n",
       "      <td>LFL</td>\n",
       "      <td>...</td>\n",
       "      <td>LFL</td>\n",
       "      <td>USC</td>\n",
       "      <td>Andre Kuo</td>\n",
       "      <td>{'basis_order': 1, 'max_delta_f': 0.05, 'max_p...</td>\n",
       "      <td>Ansys HFSS</td>\n",
       "      <td>CLT</td>\n",
       "      <td>{'claw_opts': {'connection_pads': {'readout': ...</td>\n",
       "      <td>qiskit-metal</td>\n",
       "      <td>quarter</td>\n",
       "      <td>{'cavity_claw_options': {'coupling_type': 'CLT...</td>\n",
       "    </tr>\n",
       "    <tr>\n",
       "      <th>11603</th>\n",
       "      <td>183.80802</td>\n",
       "      <td>168.04023</td>\n",
       "      <td>15.11184</td>\n",
       "      <td>214.45993</td>\n",
       "      <td>214.45993</td>\n",
       "      <td>454.60312</td>\n",
       "      <td>nH</td>\n",
       "      <td>Eli Levenson-Falk, PhD</td>\n",
       "      <td>2023-09-20-142547</td>\n",
       "      <td>LFL</td>\n",
       "      <td>...</td>\n",
       "      <td>LFL</td>\n",
       "      <td>USC</td>\n",
       "      <td>Andre Kuo</td>\n",
       "      <td>{'basis_order': 1, 'max_delta_f': 0.05, 'max_p...</td>\n",
       "      <td>Ansys HFSS</td>\n",
       "      <td>CLT</td>\n",
       "      <td>{'claw_opts': {'connection_pads': {'readout': ...</td>\n",
       "      <td>qiskit-metal</td>\n",
       "      <td>quarter</td>\n",
       "      <td>{'cavity_claw_options': {'coupling_type': 'CLT...</td>\n",
       "    </tr>\n",
       "  </tbody>\n",
       "</table>\n",
       "<p>11604 rows × 32 columns</p>\n",
       "</div>"
      ],
      "text/plain": [
       "       claw_to_claw  claw_to_ground  cross_to_claw  cross_to_cross  \\\n",
       "0          94.97421        90.86585        3.73363       158.40783   \n",
       "1          94.97421        90.86585        3.73363       158.40783   \n",
       "2          94.97421        90.86585        3.73363       158.40783   \n",
       "3          94.97421        90.86585        3.73363       158.40783   \n",
       "4          94.97421        90.86585        3.73363       158.40783   \n",
       "...             ...             ...            ...             ...   \n",
       "11599     183.80802       168.04023       15.11184       214.45993   \n",
       "11600     183.80802       168.04023       15.11184       214.45993   \n",
       "11601     183.80802       168.04023       15.11184       214.45993   \n",
       "11602     183.80802       168.04023       15.11184       214.45993   \n",
       "11603     183.80802       168.04023       15.11184       214.45993   \n",
       "\n",
       "       cross_to_ground  ground_to_ground units_qubit                PI_qubit  \\\n",
       "0            158.40783         311.25590          nH  Eli Levenson-Falk, PhD   \n",
       "1            158.40783         311.25590          nH  Eli Levenson-Falk, PhD   \n",
       "2            158.40783         311.25590          nH  Eli Levenson-Falk, PhD   \n",
       "3            158.40783         311.25590          nH  Eli Levenson-Falk, PhD   \n",
       "4            158.40783         311.25590          nH  Eli Levenson-Falk, PhD   \n",
       "...                ...               ...         ...                     ...   \n",
       "11599        214.45993         454.60312          nH  Eli Levenson-Falk, PhD   \n",
       "11600        214.45993         454.60312          nH  Eli Levenson-Falk, PhD   \n",
       "11601        214.45993         454.60312          nH  Eli Levenson-Falk, PhD   \n",
       "11602        214.45993         454.60312          nH  Eli Levenson-Falk, PhD   \n",
       "11603        214.45993         454.60312          nH  Eli Levenson-Falk, PhD   \n",
       "\n",
       "      date_created_qubit group_qubit  ... group_cavity_claw  \\\n",
       "0      2023-09-20-142547         LFL  ...               LFL   \n",
       "1      2023-09-20-142547         LFL  ...               LFL   \n",
       "2      2023-09-20-142547         LFL  ...               LFL   \n",
       "3      2023-09-20-142547         LFL  ...               LFL   \n",
       "4      2023-09-20-142547         LFL  ...               LFL   \n",
       "...                  ...         ...  ...               ...   \n",
       "11599  2023-09-20-142547         LFL  ...               LFL   \n",
       "11600  2023-09-20-142547         LFL  ...               LFL   \n",
       "11601  2023-09-20-142547         LFL  ...               LFL   \n",
       "11602  2023-09-20-142547         LFL  ...               LFL   \n",
       "11603  2023-09-20-142547         LFL  ...               LFL   \n",
       "\n",
       "      institution_cavity_claw uploader_cavity_claw  \\\n",
       "0                         USC            Andre Kuo   \n",
       "1                         USC            Andre Kuo   \n",
       "2                         USC            Andre Kuo   \n",
       "3                         USC            Andre Kuo   \n",
       "4                         USC            Andre Kuo   \n",
       "...                       ...                  ...   \n",
       "11599                     USC            Andre Kuo   \n",
       "11600                     USC            Andre Kuo   \n",
       "11601                     USC            Andre Kuo   \n",
       "11602                     USC            Andre Kuo   \n",
       "11603                     USC            Andre Kuo   \n",
       "\n",
       "                                       setup_cavity_claw  \\\n",
       "0      {'basis_order': 1, 'max_delta_f': 0.05, 'max_p...   \n",
       "1      {'basis_order': 1, 'max_delta_f': 0.05, 'max_p...   \n",
       "2      {'basis_order': 1, 'max_delta_f': 0.05, 'max_p...   \n",
       "3      {'basis_order': 1, 'max_delta_f': 0.05, 'max_p...   \n",
       "4      {'basis_order': 1, 'max_delta_f': 0.05, 'max_p...   \n",
       "...                                                  ...   \n",
       "11599  {'basis_order': 1, 'max_delta_f': 0.05, 'max_p...   \n",
       "11600  {'basis_order': 1, 'max_delta_f': 0.05, 'max_p...   \n",
       "11601  {'basis_order': 1, 'max_delta_f': 0.05, 'max_p...   \n",
       "11602  {'basis_order': 1, 'max_delta_f': 0.05, 'max_p...   \n",
       "11603  {'basis_order': 1, 'max_delta_f': 0.05, 'max_p...   \n",
       "\n",
       "      simulator_cavity_claw coupler_type  \\\n",
       "0                Ansys HFSS          CLT   \n",
       "1                Ansys HFSS          CLT   \n",
       "2                Ansys HFSS          CLT   \n",
       "3                Ansys HFSS          CLT   \n",
       "4                Ansys HFSS          CLT   \n",
       "...                     ...          ...   \n",
       "11599            Ansys HFSS          CLT   \n",
       "11600            Ansys HFSS          CLT   \n",
       "11601            Ansys HFSS          CLT   \n",
       "11602            Ansys HFSS          CLT   \n",
       "11603            Ansys HFSS          CLT   \n",
       "\n",
       "                              design_options_cavity_claw  \\\n",
       "0      {'claw_opts': {'connection_pads': {'readout': ...   \n",
       "1      {'claw_opts': {'connection_pads': {'readout': ...   \n",
       "2      {'claw_opts': {'connection_pads': {'readout': ...   \n",
       "3      {'claw_opts': {'connection_pads': {'readout': ...   \n",
       "4      {'claw_opts': {'connection_pads': {'readout': ...   \n",
       "...                                                  ...   \n",
       "11599  {'claw_opts': {'connection_pads': {'readout': ...   \n",
       "11600  {'claw_opts': {'connection_pads': {'readout': ...   \n",
       "11601  {'claw_opts': {'connection_pads': {'readout': ...   \n",
       "11602  {'claw_opts': {'connection_pads': {'readout': ...   \n",
       "11603  {'claw_opts': {'connection_pads': {'readout': ...   \n",
       "\n",
       "       design_tool_cavity_claw  resonator_type  \\\n",
       "0                 qiskit-metal         quarter   \n",
       "1                 qiskit-metal         quarter   \n",
       "2                 qiskit-metal         quarter   \n",
       "3                 qiskit-metal         quarter   \n",
       "4                 qiskit-metal         quarter   \n",
       "...                        ...             ...   \n",
       "11599             qiskit-metal         quarter   \n",
       "11600             qiskit-metal         quarter   \n",
       "11601             qiskit-metal         quarter   \n",
       "11602             qiskit-metal         quarter   \n",
       "11603             qiskit-metal         quarter   \n",
       "\n",
       "                                          design_options  \n",
       "0      {'cavity_claw_options': {'coupling_type': 'CLT...  \n",
       "1      {'cavity_claw_options': {'coupling_type': 'CLT...  \n",
       "2      {'cavity_claw_options': {'coupling_type': 'CLT...  \n",
       "3      {'cavity_claw_options': {'coupling_type': 'CLT...  \n",
       "4      {'cavity_claw_options': {'coupling_type': 'CLT...  \n",
       "...                                                  ...  \n",
       "11599  {'cavity_claw_options': {'coupling_type': 'CLT...  \n",
       "11600  {'cavity_claw_options': {'coupling_type': 'CLT...  \n",
       "11601  {'cavity_claw_options': {'coupling_type': 'CLT...  \n",
       "11602  {'cavity_claw_options': {'coupling_type': 'CLT...  \n",
       "11603  {'cavity_claw_options': {'coupling_type': 'CLT...  \n",
       "\n",
       "[11604 rows x 32 columns]"
      ]
     },
     "execution_count": 79,
     "metadata": {},
     "output_type": "execute_result"
    }
   ],
   "source": [
    "merged_df"
   ]
  },
  {
   "cell_type": "markdown",
   "metadata": {},
   "source": [
    "### Simulating the \"best-guess\" design"
   ]
  },
  {
   "cell_type": "code",
   "execution_count": null,
   "metadata": {},
   "outputs": [],
   "source": [
    "cavity_df.iloc[0][\"design_options\"][\"claw_opts\"][\"connection_pads\"][\"readout\"]"
   ]
  },
  {
   "cell_type": "code",
   "execution_count": null,
   "metadata": {},
   "outputs": [],
   "source": [
    "qubit_df.iloc[0][\"design_options\"][\"connection_pads\"][\"c\"]"
   ]
  },
  {
   "cell_type": "markdown",
   "metadata": {},
   "source": [
    "## Next Steps...\n",
    "\n",
    "Let's do a quick recap of what we have learned in this tutorial:\n",
    "\n",
    "- We have created a HuggingFace account and got an API key\n",
    "\n",
    "- We have used the SQuADDS API to query for closest and \"best-guess\" interpolated device designs for our chosen Hamiltonian parameters\n",
    "\n",
    "- We have simulated the \"best-guess\" design using an EM solver tool\n",
    "\n",
    "In the next [tutorial](https://sadmanahmedshanto.com/SQuADDS/tutorials/Tutorial-2_Contributing_to_SQuADDS.html), we will learn how to contribute to the SQuADDS Database."
   ]
  },
  {
   "cell_type": "markdown",
   "metadata": {},
   "source": [
    "test"
   ]
  },
  {
   "cell_type": "markdown",
   "metadata": {},
   "source": [
    "## License\n",
    "<div style='width: 100%; background-color:#d5d9e0;padding-left: 10px; padding-bottom: 10px; padding-right: 10px; padding-top: 5px'>\n",
    "    <h3>This code is a part of SQuADDS</h3>\n",
    "    <p>Developed by Sadman Ahmed Shanto</p>\n",
    "    <p>&copy; Copyright Sadman Ahmed Shanto & Eli Levenson-Falk 2023.</p>\n",
    "    <p>This code is licensed under the MIT License. You may<br>obtain a copy of this license in the LICENSE.txt file in the root directory<br> of this source tree.</p>\n",
    "    <p>Any modifications or derivative works of this code must retain this<br>copyright notice, and modified files need to carry a notice indicating<br>that they have been altered from the originals.</p>\n",
    "</div>\n"
   ]
  }
 ],
 "metadata": {
  "kernelspec": {
   "display_name": "Python 3",
   "language": "python",
   "name": "python3"
  },
  "language_info": {
   "codemirror_mode": {
    "name": "ipython",
    "version": 3
   },
   "file_extension": ".py",
   "mimetype": "text/x-python",
   "name": "python",
   "nbconvert_exporter": "python",
   "pygments_lexer": "ipython3",
   "version": "3.10.6"
  }
 },
 "nbformat": 4,
 "nbformat_minor": 2
}

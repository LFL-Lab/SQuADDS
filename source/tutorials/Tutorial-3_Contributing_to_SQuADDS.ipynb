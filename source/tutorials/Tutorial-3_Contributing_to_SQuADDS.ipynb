{
 "cells": [
  {
   "cell_type": "markdown",
   "metadata": {},
   "source": [
    "# Tutorial 3: Contributing to SQuADDS\n",
    "\n",
    "In this tutorial, we will go over the basics of contributing data to the SQuADDS project. We will cover the following topics:\n",
    "\n",
    "0. [Contribution Information Setup](#setup)\n",
    "1. [Understanding the terminology and database structure](#structure)\n",
    "2. [Contributing to an existing dataset configuration](#existing)\n",
    "    - [via HuggingFace](#hf_existing)\n",
    "    - [via SQuADDS API](#api_existing)\n",
    "3. [Creating new dataset configuration](#creation)\n",
    "4. [Building on top of others works](#missing)\n",
    "---"
   ]
  },
  {
   "cell_type": "code",
   "execution_count": 1,
   "metadata": {},
   "outputs": [],
   "source": [
    "%load_ext autoreload\n",
    "%autoreload 2"
   ]
  },
  {
   "cell_type": "markdown",
   "metadata": {},
   "source": [
    "## <a name=\"setup\">Contribution Information Setup</a>\n",
    "\n",
    "In order to contribute to SQuADDS, you will need to provide some information about yourself. This information will be used to track your contributions and to give you credit for your work. You can provide this information by updating the following variables in the `.env` file in the root directory of the repository:\n",
    "\n",
    "```\n",
    "GROUP_NAME = \"\"\n",
    "PI_NAME = \"\"\n",
    "INSTITUTION = \"\"\n",
    "USER_NAME = \"\"\n",
    "CONTRIB_MISC = \"\"\n",
    "```\n",
    "\n",
    "where `GROUP_NAME` is the name of your research group, `PI_NAME` is the name of your PI, `INSTITUTION` is the name of your institution, `USER_NAME` is your name, and `CONTRIB_MISC` is any other information you would like to provide about your contributions (e.g. bibTex citation, paper link, etc).\n",
    "\n",
    "Alternatively, you can provide this information by executing the following cell.\n"
   ]
  },
  {
   "cell_type": "code",
   "execution_count": 22,
   "metadata": {},
   "outputs": [],
   "source": [
    "from squadds.database.utils import *"
   ]
  },
  {
   "cell_type": "code",
   "execution_count": 25,
   "metadata": {},
   "outputs": [
    {
     "name": "stdout",
     "output_type": "stream",
     "text": [
      "Contributor information updated in .env file (/Users/shanto/LFL/SQuADDS/SQuADDS/.env).\n"
     ]
    }
   ],
   "source": [
    "create_contributor_info()"
   ]
  },
  {
   "cell_type": "markdown",
   "metadata": {},
   "source": [
    "## <a name=\"structure\">Understanding the terminology and database structure</a>"
   ]
  },
  {
   "cell_type": "markdown",
   "metadata": {},
   "source": [
    "### <a name=\"hugging_face\">HuggingFace</a>\n",
    "\n",
    "[HuggingFace](https://huggingface.co/) stands at the forefront of the AI revolution, offering a dynamic collaboration platform for the machine learning community. Renowned for hosting an array of open-source machine learning libraries and tools, Hugging Face Hub serves as a central repository where individuals can share, explore, and innovate with ML technologies. The platform is dedicated to fostering an environment of learning, collaboration, and ethical AI, bringing together a rapidly expanding community of ML engineers, scientists, and enthusiasts.\n",
    "\n",
    "In our pursuit to enhance the versatility and utility of SQuADDS for quantum hardware developers and machine learning researchers, we have chosen to host our database on the HuggingFace platform. This strategic decision leverages HuggingFace's capability to support and facilitate research with machine learning models, aligning with methodologies outlined in various references. By making the SQuADDS database readily accessible on this platform, we aim to contribute to the development of cutting-edge Electronic Design Automation (EDA) tools. Our goal is to replicate the transformative impact witnessed in the semiconductor industry, now in the realm of superconducting quantum hardware.\n",
    "\n",
    "Key to our choice of HuggingFace is its [datasets](https://huggingface.co/datasets) library, which provides a unified interface for accessing a wide range of datasets. This feature is integral to SQuADDS, offering a streamlined and cohesive interface to our database. The decentralized nature of HuggingFace datasets significantly enhances community-driven development and access, a functionality that can be challenging to implement with traditional data storage platforms. This aspect of HuggingFace aligns perfectly with our vision for SQuADDS, enabling us to foster a collaborative and open environment for innovation in quantum technology."
   ]
  },
  {
   "cell_type": "markdown",
   "metadata": {},
   "source": [
    "## <a name=\"datasets_config\">Datasets & Configurations</a>\n",
    "\n",
    "As seen in [Tutorial 1](https://lfl-lab.github.io/SQuADDS/source/tutorials/Tutorial-1_Getting_Started_with_SQuADDS.html#Accessing-the-SQuADDS-Database-using-the-HuggingFace-API) we have organized the SQuADDS database into datasets and configurations. Let's quickly review about these two concepts and how they are used in SQuADDS."
   ]
  },
  {
   "cell_type": "markdown",
   "metadata": {},
   "source": [
    "Each configuration in the dataset is uniquely identified by their `config`. For the SQuADDS Database, the `config` string is created in the following format:\n",
    "\n",
    "```python\n",
    "config = f\"{component}_{component_name}_{data_type}\"\n",
    "```\n",
    "\n",
    "where `component` is the name of the component, `component_name` is the name of the component (in Qiskit Metal), and `data_type` is the type of simulation data that has been contributed. \n",
    "\n",
    "This structured approach ensures that users can query specific parts of the dataset relevant to their work, such as a particular type of qubit design or simulation results. This API abstraction allows for more complex queries and operations on the data, facilitating a more efficient workflow for researchers and developers.\n",
    "\n",
    "Lets check what the `config` string looks like for our database:"
   ]
  },
  {
   "cell_type": "code",
   "execution_count": 29,
   "metadata": {},
   "outputs": [
    {
     "name": "stdout",
     "output_type": "stream",
     "text": [
      "['qubit-TransmonCross-cap_matrix', 'cavity_claw-RouteMeander-eigenmode', 'coupler-NCap-cap_matrix']\n"
     ]
    }
   ],
   "source": [
    "from datasets import get_dataset_config_names\n",
    "\n",
    "configs = get_dataset_config_names(\"SQuADDS/SQuADDS_DB\")\n",
    "print(configs)"
   ]
  },
  {
   "cell_type": "markdown",
   "metadata": {},
   "source": [
    "You can now access the database using the `config` string. For example, if you want to access the `qubit-TransmonCross-cap_matrix` configuration, you can do so by executing the following cell:"
   ]
  },
  {
   "cell_type": "code",
   "execution_count": 31,
   "metadata": {},
   "outputs": [
    {
     "name": "stdout",
     "output_type": "stream",
     "text": [
      "DatasetDict({\n",
      "    train: Dataset({\n",
      "        features: ['notes', 'sim_results', 'contributor', 'design', 'sim_options'],\n",
      "        num_rows: 1934\n",
      "    })\n",
      "})\n"
     ]
    }
   ],
   "source": [
    "from datasets import load_dataset\n",
    "\n",
    "qubit_data = load_dataset(\"SQuADDS/SQuADDS_DB\", configs[0])\n",
    "print(qubit_data)"
   ]
  },
  {
   "cell_type": "markdown",
   "metadata": {},
   "source": [
    "Please review [Section \"Using the SQuADDS API to access and anlyze the database\" in Tutorial 1](https://lfl-lab.github.io/SQuADDS/source/tutorials/Tutorial-1_Getting_Started_with_SQuADDS.html#Accessing-the-SQuADDS-Database-using-the-HuggingFace-API) where we introduce and explain how to use the SQuADDS API to access and analyze the database."
   ]
  },
  {
   "cell_type": "markdown",
   "metadata": {},
   "source": [
    "#### <a name=\"dataset_schema\">Database Schema</a>\n",
    "\n",
    "Each contributed entry to SQuADDS must **AT LEAST** have the following fields. One can add as many more supplementary fields as one wants.\n",
    "\n",
    "```json\n",
    "{\n",
    "    \"design\":{\n",
    "        \"design_tool\": design_tool_name,\n",
    "        \"design_options\": design_options,\n",
    "    },\n",
    "    \"sim_options\":{\n",
    "        \"setup\": sim_setup_options,\n",
    "        \"simulator\": simulator_name,\n",
    "    },\n",
    "    \"sim_results\":{\n",
    "        \"result1\": sim_result1,\n",
    "        \"unit1\": unit1,\n",
    "        \"result2\": sim_result2,\n",
    "        \"unit2\": unit2,\n",
    "    },\n",
    "    \"contributor\":{\n",
    "        \"group\": group_name,\n",
    "        \"PI\": pi_name,\n",
    "        \"institution\": institution,\n",
    "        \"uploader\": user_name,\n",
    "        \"misc\": contrib_misc,\n",
    "        \"date_created\": \"YYYY-MM-DD-HHMMSS\",\n",
    "    },\n",
    "}\n",
    "```\n",
    "\n",
    "If all the `sim_results` has the same units you can just use a `\"units\":units` field instead of repeating the unit for each result. \n",
    "\n",
    "**Note:** The `\"contributor\"` field is automatically added by the SQuADDS API when you upload your dataset. You do not need to add this field yourself."
   ]
  },
  {
   "cell_type": "markdown",
   "metadata": {},
   "source": [
    "Lets look at the schema for the `qubit-TransmonCross-cap_matrix` configuration that used `qiskit-metal` as the design tool and `Ansys HFSS` as the simulation engine."
   ]
  },
  {
   "cell_type": "code",
   "execution_count": 32,
   "metadata": {},
   "outputs": [
    {
     "data": {
      "application/vnd.jupyter.widget-view+json": {
       "model_id": "abfbdb087f1c418daac31f538737925b",
       "version_major": 2,
       "version_minor": 0
      },
      "text/plain": [
       "Downloading readme:   0%|          | 0.00/2.25k [00:00<?, ?B/s]"
      ]
     },
     "metadata": {},
     "output_type": "display_data"
    }
   ],
   "source": [
    "from squadds import SQuADDS_DB\n",
    "\n",
    "db = SQuADDS_DB()"
   ]
  },
  {
   "cell_type": "code",
   "execution_count": 33,
   "metadata": {},
   "outputs": [
    {
     "data": {
      "application/vnd.jupyter.widget-view+json": {
       "model_id": "75b8df844fca493c96e0a9a687f35fb9",
       "version_major": 2,
       "version_minor": 0
      },
      "text/plain": [
       "Downloading data files:   0%|          | 0/1 [00:00<?, ?it/s]"
      ]
     },
     "metadata": {},
     "output_type": "display_data"
    },
    {
     "data": {
      "application/vnd.jupyter.widget-view+json": {
       "model_id": "3776a453cbb045789a5ae9f668b2fa86",
       "version_major": 2,
       "version_minor": 0
      },
      "text/plain": [
       "Extracting data files:   0%|          | 0/1 [00:00<?, ?it/s]"
      ]
     },
     "metadata": {},
     "output_type": "display_data"
    },
    {
     "data": {
      "application/vnd.jupyter.widget-view+json": {
       "model_id": "a5700e98f145427b8d6ec52cf33732e7",
       "version_major": 2,
       "version_minor": 0
      },
      "text/plain": [
       "Generating train split: 0 examples [00:00, ? examples/s]"
      ]
     },
     "metadata": {},
     "output_type": "display_data"
    },
    {
     "name": "stdout",
     "output_type": "stream",
     "text": [
      "================================================================================\n",
      "Dataset Features:\n",
      "{'contributor': {'PI': Value(dtype='string', id=None),\n",
      "                 'date_created': Value(dtype='string', id=None),\n",
      "                 'group': Value(dtype='string', id=None),\n",
      "                 'institution': Value(dtype='string', id=None),\n",
      "                 'uploader': Value(dtype='string', id=None)},\n",
      " 'design': {'design_options': {...},\n",
      "            'design_tool': Value(dtype='string', id=None)},\n",
      " 'notes': {},\n",
      " 'sim_options': {'renderer_options': {...},\n",
      "                 'setup': {...},\n",
      "                 'simulator': Value(dtype='string', id=None)},\n",
      " 'sim_results': {'claw_to_claw': Value(dtype='float64', id=None),\n",
      "                 'claw_to_ground': Value(dtype='float64', id=None),\n",
      "                 'cross_to_claw': Value(dtype='float64', id=None),\n",
      "                 'cross_to_cross': Value(dtype='float64', id=None),\n",
      "                 'cross_to_ground': Value(dtype='float64', id=None),\n",
      "                 'ground_to_ground': Value(dtype='float64', id=None),\n",
      "                 'units': Value(dtype='string', id=None)}}\n",
      "\n",
      "Dataset Description:\n",
      "\n",
      "\n",
      "Dataset Citation:\n",
      "\n",
      "\n",
      "Dataset Homepage:\n",
      "\n",
      "\n",
      "Dataset License:\n",
      "\n",
      "\n",
      "Dataset Size in Bytes:\n",
      "9735651\n",
      "================================================================================\n"
     ]
    }
   ],
   "source": [
    "db.get_dataset_info(component=\"qubit\", component_name=\"TransmonCross\", data_type=\"cap_matrix\")"
   ]
  },
  {
   "cell_type": "markdown",
   "metadata": {},
   "source": [
    "---"
   ]
  },
  {
   "cell_type": "markdown",
   "metadata": {},
   "source": [
    "## <a name=\"existing\">Contributing to an existing configuration</a>\n",
    "\n",
    "Let's revisit [Tutorial 2](https://lfl-lab.github.io/SQuADDS/source/tutorials/Tutorial-2_Simulate_interpolated_designs.html#Simulate-the-Target-Design) where we simulated a novel `TransmonCross` qubit design. We will now learn how to contribute this design to the SQuADDS database."
   ]
  },
  {
   "cell_type": "markdown",
   "metadata": {},
   "source": [
    "### <a name=\"hf_existing\">via HuggingFace</a>\n",
    "\n",
    "The high level steps for contributing to an existing configuration via HuggingFace are as follows:\n",
    "\n",
    "\n",
    "1. **Clone/Fork the Repository**: If you have not already forked or cloned the [repository](https://huggingface.co/datasets/SQuADDS/SQuADDS_DB), do so.\n",
    "\n",
    "2. **Create or Checkout a Branch**: If adding new data, it might be best to do it on a new branch:\n",
    "\n",
    "   ```sh\n",
    "   git checkout -b branch_name\n",
    "   ```\n",
    "\n",
    "3. **Modify the Configuration**: Add or modify the dataset configuration as necessary (following guidelines). \n",
    "\n",
    "4. **Commit and Push Your Changes**: Commit the new data and push it to your fork:\n",
    "\n",
    "   ```sh\n",
    "   git add .\n",
    "   git commit -m \"GOOD COMMIT MESSAGE\"\n",
    "   git push origin branch_name\n",
    "   ```\n",
    "\n",
    "5. **Pull Request**: Create a pull request against the original `SQuADDS_DB` repository.\n"
   ]
  },
  {
   "cell_type": "markdown",
   "metadata": {},
   "source": [
    "### <a name=\"api_existing\">via SQuADDS API</a> \n",
    "\n",
    "We have also provided a simple API for contributing to the SQuADDS database. The high level steps for contributing to an existing configuration via the SQuADDS API are as follows:\n",
    "\n",
    "1. **Select the dataset configuration**: Select the dataset configuration you would like to contribute to. \n",
    "\n",
    "2. **Validate your data**: Validate your data against the dataset configuration.\n",
    "\n",
    "3. **Submit your data**: Submit your data to the SQuADDS database."
   ]
  },
  {
   "cell_type": "code",
   "execution_count": null,
   "metadata": {},
   "outputs": [],
   "source": []
  },
  {
   "cell_type": "markdown",
   "metadata": {},
   "source": [
    "## <a name=\"creation\">Contributing a New Configuration</a>\n",
    "\n",
    "We may find that we possess a dataset that is not currently included in SQuADDS. In this case, we can add a new configuration to SQuADDS.\n",
    "\n",
    "But before we do that, we need to make sure that the dataset is in a format that is compatible with the SQuADDS project and is also validated against measurement results. We will go over this process in this section."
   ]
  },
  {
   "cell_type": "markdown",
   "metadata": {},
   "source": [
    "### Process Overview\n",
    "\n",
    "The high level steps for contributing a new configuration are as follows:\n",
    "\n",
    "1. **Create a new configuration**: Create a new configuration for your dataset.\n",
    "2. **Create the metadata for the configuration**: Create the metadata for your configuration that contains information on the measured device design and paramaters.\n",
    "3. **Create the database schema**: Create the database schema for your configuration.\n",
    "4. **Validate your data**: Validate your data against the database schema.\n",
    "5. **Submit your data**: Submit your data to the SQuADDS database."
   ]
  },
  {
   "cell_type": "code",
   "execution_count": null,
   "metadata": {},
   "outputs": [],
   "source": []
  },
  {
   "cell_type": "markdown",
   "metadata": {},
   "source": [
    "## Building on top of others works <a name=\"missing\"></a>"
   ]
  },
  {
   "cell_type": "markdown",
   "metadata": {},
   "source": [
    "We might have some data that can be appended to an existing configuration in `SQuADDS_DB`. In this case, we can add to the existing configuration without pushing new entries to the original dataset. Here are the steps to do so:\n",
    "\n",
    "1. **Select the dataset configuration**: Select the dataset configuration you would like to contribute to.\n",
    "2. **Gather your data**: Gather your data that you would like to contribute to the dataset configuration.\n",
    "3. **Validate your data**: Validate your data against the dataset configuration.\n",
    "4. **Submit your data**: Submit your data to the SQuADDS database."
   ]
  },
  {
   "cell_type": "code",
   "execution_count": null,
   "metadata": {},
   "outputs": [],
   "source": []
  },
  {
   "cell_type": "markdown",
   "metadata": {},
   "source": [
    "## License\n",
    "\n",
    "<div style='width: 100%; background-color:#3cb1c2;color:#324344;padding-left: 10px; padding-bottom: 10px; padding-right: 10px; padding-top: 5px'>\n",
    "    <h3>This code is a part of SQuADDS</h3>\n",
    "    <p>Developed by Sadman Ahmed Shanto</p>\n",
    "    <p>&copy; Copyright Sadman Ahmed Shanto & Eli Levenson-Falk 2023.</p>\n",
    "    <p>This code is licensed under the MIT License. You may<br> obtain a copy of this license in the LICENSE.txt file in the root directory<br> of this source tree.</p>\n",
    "    <p>Any modifications or derivative works of this code must retain this<br>copyright notice, and modified files need to carry a notice indicating<br>that they have been altered from the originals.</p>\n",
    "</div>"
   ]
  }
 ],
 "metadata": {
  "kernelspec": {
   "display_name": "Python 3",
   "language": "python",
   "name": "python3"
  },
  "language_info": {
   "codemirror_mode": {
    "name": "ipython",
    "version": 3
   },
   "file_extension": ".py",
   "mimetype": "text/x-python",
   "name": "python",
   "nbconvert_exporter": "python",
   "pygments_lexer": "ipython3",
   "version": "3.10.6"
  }
 },
 "nbformat": 4,
 "nbformat_minor": 2
}

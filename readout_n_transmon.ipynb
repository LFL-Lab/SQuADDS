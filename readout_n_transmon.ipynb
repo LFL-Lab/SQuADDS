{
 "cells": [
  {
   "cell_type": "code",
   "execution_count": 1,
   "id": "7ab7a8e8-c17d-4578-b464-8110cd469227",
   "metadata": {},
   "outputs": [],
   "source": [
    "%load_ext autoreload\n",
    "%autoreload 2"
   ]
  },
  {
   "cell_type": "code",
   "execution_count": 2,
   "id": "eb615555-109e-4f6a-b371-e0bceb5f6353",
   "metadata": {},
   "outputs": [
    {
     "name": "stdout",
     "output_type": "stream",
     "text": [
      "API key already exists in .env file.\n"
     ]
    }
   ],
   "source": [
    "from squadds.core.utils import set_huggingface_api_key\n",
    "\n",
    "set_huggingface_api_key()"
   ]
  },
  {
   "cell_type": "code",
   "execution_count": 3,
   "id": "9a338614-38eb-4d30-bac0-0c612a3e9715",
   "metadata": {},
   "outputs": [
    {
     "data": {
      "application/vnd.jupyter.widget-view+json": {
       "model_id": "b29a359d97444b6a8c15cbb8df220b53",
       "version_major": 2,
       "version_minor": 0
      },
      "text/plain": [
       "Downloading readme:   0%|          | 0.00/2.25k [00:00<?, ?B/s]"
      ]
     },
     "metadata": {},
     "output_type": "display_data"
    }
   ],
   "source": [
    "from datasets import get_dataset_config_names\n",
    "from datasets import load_dataset\n",
    "from squadds import SQuADDS_DB\n",
    "from squadds.interpolations.physics import ScalingInterpolator\n",
    "from squadds import Analyzer\n",
    "from squadds import AnsysSimulator\n",
    "import numpy as np\n",
    "\n",
    "db = SQuADDS_DB()\n",
    "configs = get_dataset_config_names(\"SQuADDS/SQuADDS_DB\")"
   ]
  },
  {
   "cell_type": "markdown",
   "id": "4d1f8379-ce64-4c44-83f6-78e35dc4206f",
   "metadata": {},
   "source": [
    "## Select system style (qubit + RR)"
   ]
  },
  {
   "cell_type": "code",
   "execution_count": 4,
   "id": "853e1ecf-a565-49cd-ae6c-74375a295672",
   "metadata": {},
   "outputs": [
    {
     "name": "stderr",
     "output_type": "stream",
     "text": [
      "WARNING:py.warnings:FutureWarning: Passing a dict as an indexer is deprecated and will raise in a future version. Use a list instead.\n",
      " g:\\Shared drives\\CavityCooling\\DARPA\\Simulations\\SQUADDS\\SQuADDS\\squadds\\core\\analysis.py: 274\n",
      "WARNING:py.warnings:FutureWarning: Passing a dict as an indexer is deprecated and will raise in a future version. Use a list instead.\n",
      " g:\\Shared drives\\CavityCooling\\DARPA\\Simulations\\SQUADDS\\SQuADDS\\squadds\\core\\analysis.py: 274\n",
      "WARNING:py.warnings:FutureWarning: Passing a dict as an indexer is deprecated and will raise in a future version. Use a list instead.\n",
      " g:\\Shared drives\\CavityCooling\\DARPA\\Simulations\\SQUADDS\\SQuADDS\\squadds\\core\\analysis.py: 274\n"
     ]
    },
    {
     "name": "stdout",
     "output_type": "stream",
     "text": [
      "==================================================\n",
      "Kappa scaling: 1.0331772769572103\n",
      "g scaling: 0.9903907788621945\n",
      "alpha scaling: 0.9941204623259026\n",
      "==================================================\n",
      "selected system: ['qubit', 'cavity_claw']\n"
     ]
    }
   ],
   "source": [
    "db.select_system(['qubit','cavity_claw'])\n",
    "db.select_qubit('TransmonCross')\n",
    "db.select_cavity_claw('RouteMeander')\n",
    "db.select_coupler('CLT')\n",
    "df = db.create_system_df()\n",
    "\n",
    "analyzer = Analyzer(db)\n",
    "analyzer.target_param_keys()\n",
    "target_params = {\n",
    "                    \"qubit_frequency_GHz\": 5.523,\n",
    "                    \"cavity_frequency_GHz\": 7.815,\n",
    "                    \"kappa_kHz\": 400,\n",
    "                    \"resonator_type\":\"quarter\",\n",
    "                    \"anharmonicity_MHz\": -200,\n",
    "                    \"g_MHz\": 30}\n",
    "\n",
    "results = analyzer.find_closest(target_params=target_params,\n",
    "                                        num_top=3,\n",
    "                                        metric=\"Euclidean\",\n",
    "                                        display=True)\n",
    "interpolator = ScalingInterpolator(analyzer, target_params)\n",
    "design_df = interpolator.get_design()\n",
    "best_device = results.iloc[0]\n",
    "simulator = AnsysSimulator(analyzer, best_device)\n",
    "design_options = best_device['design_options']\n"
   ]
  },
  {
   "cell_type": "code",
   "execution_count": null,
   "id": "b67f5811",
   "metadata": {},
   "outputs": [],
   "source": [
    "design_options_dict_list = []\n",
    "simulated_params_list = []   \n",
    "sweep_list = list(np.arange(0,20.1,10))\n",
    "design_options['qubit_options']['connection_pads']['readout']['ground_spacing'] = sweep_list\n",
    "# design_options['ground_spacing'] = sweep_list\n",
    "# design_df\n",
    "# ansys_results = simulator.simulate(best_device)\n",
    "sweep_results = simulator.sweep_qubit_cavity(best_device)\n",
    "# design_options = ansys_results['design']['design_options']\n",
    "# sim_results = ansys_results['sim_results']\n",
    "# design_options_dict_list.append(design_options)\n",
    "# simulated_params_list.append(sim_results)\n"
   ]
  },
  {
   "cell_type": "code",
   "execution_count": 5,
   "id": "07f417e0",
   "metadata": {},
   "outputs": [
    {
     "data": {
      "text/plain": [
       "{'aedt_hfss_capacitance': 0,\n",
       " 'aedt_hfss_inductance': 9.686e-09,\n",
       " 'aedt_q3d_capacitance': 0,\n",
       " 'aedt_q3d_inductance': 1e-08,\n",
       " 'chip': 'main',\n",
       " 'connection_pads': {'readout': {'claw_cpw_length': '40um',\n",
       "   'claw_cpw_width': '10um',\n",
       "   'claw_gap': '5.1um',\n",
       "   'claw_length': '70um',\n",
       "   'claw_width': '15um',\n",
       "   'connector_location': '90',\n",
       "   'connector_type': '0',\n",
       "   'ground_spacing': '10um'}},\n",
       " 'cross_gap': '30um',\n",
       " 'cross_length': '230um',\n",
       " 'cross_width': '30um',\n",
       " 'gds_cell_name': 'my_other_junction',\n",
       " 'hfss_capacitance': 0,\n",
       " 'hfss_inductance': 9.686e-09,\n",
       " 'hfss_mesh_kw_jj': 7e-06,\n",
       " 'hfss_resistance': 0,\n",
       " 'layer': '1',\n",
       " 'orientation': '-90',\n",
       " 'pos_x': '-1500um',\n",
       " 'pos_y': '1200um',\n",
       " 'q3d_capacitance': 0,\n",
       " 'q3d_inductance': '10nH',\n",
       " 'q3d_mesh_kw_jj': 7e-06,\n",
       " 'q3d_resistance': 0}"
      ]
     },
     "execution_count": 5,
     "metadata": {},
     "output_type": "execute_result"
    }
   ],
   "source": [
    "best_device['design_options_qubit']"
   ]
  },
  {
   "cell_type": "code",
   "execution_count": null,
   "id": "de26fea9",
   "metadata": {},
   "outputs": [],
   "source": [
    "type(best_device['design_options'])"
   ]
  },
  {
   "cell_type": "code",
   "execution_count": null,
   "id": "886984d0",
   "metadata": {},
   "outputs": [],
   "source": [
    "best_device['design_options']['cavity_claw_options']"
   ]
  },
  {
   "cell_type": "code",
   "execution_count": null,
   "id": "e1d3074f",
   "metadata": {},
   "outputs": [],
   "source": [
    "best_device['design_options']['qubit_options']['connection_pads']['readout']['ground_spacing'] = sweep_list"
   ]
  },
  {
   "cell_type": "code",
   "execution_count": null,
   "id": "1fd07ba5",
   "metadata": {},
   "outputs": [],
   "source": []
  }
 ],
 "metadata": {
  "kernelspec": {
   "display_name": "qiskit_metal",
   "language": "python",
   "name": "python3"
  },
  "language_info": {
   "codemirror_mode": {
    "name": "ipython",
    "version": 3
   },
   "file_extension": ".py",
   "mimetype": "text/x-python",
   "name": "python",
   "nbconvert_exporter": "python",
   "pygments_lexer": "ipython3",
   "version": "3.11.4"
  }
 },
 "nbformat": 4,
 "nbformat_minor": 5
}
